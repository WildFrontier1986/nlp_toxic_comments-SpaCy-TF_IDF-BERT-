{
 "cells": [
  {
   "cell_type": "markdown",
   "id": "b64e7afd",
   "metadata": {
    "toc": true
   },
   "source": [
    "<h1>Содержание<span class=\"tocSkip\"></span></h1>\n",
    "<div class=\"toc\"><ul class=\"toc-item\"><li><span><a href=\"#Подключение-необходимых-библиотек-и-модулей\" data-toc-modified-id=\"Подключение-необходимых-библиотек-и-модулей-1\"><span class=\"toc-item-num\">1&nbsp;&nbsp;</span>Подключение необходимых библиотек и модулей</a></span></li><li><span><a href=\"#Подготовка-данных\" data-toc-modified-id=\"Подготовка-данных-2\"><span class=\"toc-item-num\">2&nbsp;&nbsp;</span>Подготовка данных</a></span><ul class=\"toc-item\"><li><span><a href=\"#Открытие-и-изучение-датасета\" data-toc-modified-id=\"Открытие-и-изучение-датасета-2.1\"><span class=\"toc-item-num\">2.1&nbsp;&nbsp;</span>Открытие и изучение датасета</a></span></li><li><span><a href=\"#Предварительная-обработка-текста\" data-toc-modified-id=\"Предварительная-обработка-текста-2.2\"><span class=\"toc-item-num\">2.2&nbsp;&nbsp;</span>Предварительная обработка текста</a></span><ul class=\"toc-item\"><li><span><a href=\"#Лемматизация-текста\" data-toc-modified-id=\"Лемматизация-текста-2.2.1\"><span class=\"toc-item-num\">2.2.1&nbsp;&nbsp;</span>Лемматизация текста</a></span></li><li><span><a href=\"#Очистка-текста\" data-toc-modified-id=\"Очистка-текста-2.2.2\"><span class=\"toc-item-num\">2.2.2&nbsp;&nbsp;</span>Очистка текста</a></span></li></ul></li><li><span><a href=\"#Создание-признаков\" data-toc-modified-id=\"Создание-признаков-2.3\"><span class=\"toc-item-num\">2.3&nbsp;&nbsp;</span>Создание признаков</a></span><ul class=\"toc-item\"><li><span><a href=\"#Создание-общих-выборок\" data-toc-modified-id=\"Создание-общих-выборок-2.3.1\"><span class=\"toc-item-num\">2.3.1&nbsp;&nbsp;</span>Создание общих выборок</a></span></li><li><span><a href=\"#Создание-обучающих-и-тестовых-выборок\" data-toc-modified-id=\"Создание-обучающих-и-тестовых-выборок-2.3.2\"><span class=\"toc-item-num\">2.3.2&nbsp;&nbsp;</span>Создание обучающих и тестовых выборок</a></span></li><li><span><a href=\"#Формирование-матриц-с-признаками\" data-toc-modified-id=\"Формирование-матриц-с-признаками-2.3.3\"><span class=\"toc-item-num\">2.3.3&nbsp;&nbsp;</span>Формирование матриц с признаками</a></span></li></ul></li></ul></li><li><span><a href=\"#Обучение-и-проверка-моделей\" data-toc-modified-id=\"Обучение-и-проверка-моделей-3\"><span class=\"toc-item-num\">3&nbsp;&nbsp;</span>Обучение и проверка моделей</a></span><ul class=\"toc-item\"><li><span><a href=\"#Исследование-модели-логистической-регрессии---LogisticRegression\" data-toc-modified-id=\"Исследование-модели-логистической-регрессии---LogisticRegression-3.1\"><span class=\"toc-item-num\">3.1&nbsp;&nbsp;</span>Исследование модели логистической регрессии - LogisticRegression</a></span></li><li><span><a href=\"#Исследование-модели-логистической-регрессии-(стохастического-градиентного-спуска)---SGDClassifier\" data-toc-modified-id=\"Исследование-модели-логистической-регрессии-(стохастического-градиентного-спуска)---SGDClassifier-3.2\"><span class=\"toc-item-num\">3.2&nbsp;&nbsp;</span>Исследование модели логистической регрессии (стохастического градиентного спуска) - SGDClassifier</a></span></li><li><span><a href=\"#Исследование-модели-решающего-дерева---DecisionTreeClassifier\" data-toc-modified-id=\"Исследование-модели-решающего-дерева---DecisionTreeClassifier-3.3\"><span class=\"toc-item-num\">3.3&nbsp;&nbsp;</span>Исследование модели решающего дерева - DecisionTreeClassifier</a></span></li><li><span><a href=\"#Проверка-моделей-на-адекватность-с-помощью-DummyClassifier-и-тестовой-выборки\" data-toc-modified-id=\"Проверка-моделей-на-адекватность-с-помощью-DummyClassifier-и-тестовой-выборки-3.4\"><span class=\"toc-item-num\">3.4&nbsp;&nbsp;</span>Проверка моделей на адекватность с помощью DummyClassifier и тестовой выборки</a></span><ul class=\"toc-item\"><li><span><a href=\"#Проверка-на-тестовой-выборке\" data-toc-modified-id=\"Проверка-на-тестовой-выборке-3.4.1\"><span class=\"toc-item-num\">3.4.1&nbsp;&nbsp;</span>Проверка на тестовой выборке</a></span></li><li><span><a href=\"#Создание-и-обучение-модели-DummyClassifier-на-обучающей-выборке\" data-toc-modified-id=\"Создание-и-обучение-модели-DummyClassifier-на-обучающей-выборке-3.4.2\"><span class=\"toc-item-num\">3.4.2&nbsp;&nbsp;</span>Создание и обучение модели DummyClassifier на обучающей выборке</a></span></li></ul></li></ul></li><li><span><a href=\"#BERT\" data-toc-modified-id=\"BERT-4\"><span class=\"toc-item-num\">4&nbsp;&nbsp;</span>BERT</a></span><ul class=\"toc-item\"><li><span><a href=\"#Создание-и-запуск-основных-объектов\" data-toc-modified-id=\"Создание-и-запуск-основных-объектов-4.1\"><span class=\"toc-item-num\">4.1&nbsp;&nbsp;</span>Создание и запуск основных объектов</a></span></li><li><span><a href=\"#Преобразование-текста\" data-toc-modified-id=\"Преобразование-текста-4.2\"><span class=\"toc-item-num\">4.2&nbsp;&nbsp;</span>Преобразование текста</a></span></li><li><span><a href=\"#Стандартизация-длин-векторов-с-признаками\" data-toc-modified-id=\"Стандартизация-длин-векторов-с-признаками-4.3\"><span class=\"toc-item-num\">4.3&nbsp;&nbsp;</span>Стандартизация длин векторов с признаками</a></span></li><li><span><a href=\"#Создание-эмбеддингов\" data-toc-modified-id=\"Создание-эмбеддингов-4.4\"><span class=\"toc-item-num\">4.4&nbsp;&nbsp;</span>Создание эмбеддингов</a></span></li><li><span><a href=\"#Создание-матриц-с-признаками\" data-toc-modified-id=\"Создание-матриц-с-признаками-4.5\"><span class=\"toc-item-num\">4.5&nbsp;&nbsp;</span>Создание матриц с признаками</a></span></li><li><span><a href=\"#Обучение-и-проверка-моделей\" data-toc-modified-id=\"Обучение-и-проверка-моделей-4.6\"><span class=\"toc-item-num\">4.6&nbsp;&nbsp;</span>Обучение и проверка моделей</a></span><ul class=\"toc-item\"><li><span><a href=\"#Исследование-модели-логистической-регрессии---LogisticRegression\" data-toc-modified-id=\"Исследование-модели-логистической-регрессии---LogisticRegression-4.6.1\"><span class=\"toc-item-num\">4.6.1&nbsp;&nbsp;</span>Исследование модели логистической регрессии - LogisticRegression</a></span></li><li><span><a href=\"#Исследование-модели-логистической-регрессии-(стохастического-градиентного-спуска)---SGDClassifier\" data-toc-modified-id=\"Исследование-модели-логистической-регрессии-(стохастического-градиентного-спуска)---SGDClassifier-4.6.2\"><span class=\"toc-item-num\">4.6.2&nbsp;&nbsp;</span>Исследование модели логистической регрессии (стохастического градиентного спуска) - SGDClassifier</a></span></li><li><span><a href=\"#Исследование-модели-решающего-дерева---DecisionTreeClassifier\" data-toc-modified-id=\"Исследование-модели-решающего-дерева---DecisionTreeClassifier-4.6.3\"><span class=\"toc-item-num\">4.6.3&nbsp;&nbsp;</span>Исследование модели решающего дерева - DecisionTreeClassifier</a></span></li><li><span><a href=\"#Проверка-моделей-на-адекватность-с-помощью-тестовой-выборки\" data-toc-modified-id=\"Проверка-моделей-на-адекватность-с-помощью-тестовой-выборки-4.6.4\"><span class=\"toc-item-num\">4.6.4&nbsp;&nbsp;</span>Проверка моделей на адекватность с помощью тестовой выборки</a></span></li></ul></li></ul></li><li><span><a href=\"#Визуализация-итоговых-значений-исследования\" data-toc-modified-id=\"Визуализация-итоговых-значений-исследования-5\"><span class=\"toc-item-num\">5&nbsp;&nbsp;</span>Визуализация итоговых значений исследования</a></span></li><li><span><a href=\"#Общий-вывод\" data-toc-modified-id=\"Общий-вывод-6\"><span class=\"toc-item-num\">6&nbsp;&nbsp;</span>Общий вывод</a></span></li></ul></div>"
   ]
  },
  {
   "cell_type": "markdown",
   "id": "0f7cb4ce",
   "metadata": {},
   "source": [
    "# Обучение модели классификации позитивных и негативных комментариев. Два варианта: SpaCy+TF-IDF, BERT."
   ]
  },
  {
   "cell_type": "markdown",
   "id": "f0d0133b",
   "metadata": {},
   "source": [
    "## Подключение необходимых библиотек и модулей"
   ]
  },
  {
   "cell_type": "code",
   "execution_count": 1,
   "id": "cbaaf44b",
   "metadata": {},
   "outputs": [],
   "source": [
    "# 1. Подключение модуля pathlib и класса Path\n",
    "import pathlib\n",
    "from pathlib import Path\n",
    "# 2. Подключение модулей Python\n",
    "import re\n",
    "import warnings\n",
    "import tqdm\n",
    "\n",
    "# 3. Подключение библиотек\n",
    "import pandas as pd\n",
    "import numpy as np\n",
    "import seaborn as sns\n",
    "import sklearn\n",
    "import spacy\n",
    "import nltk\n",
    "import torch\n",
    "import transformers\n",
    "import lightgbm\n",
    "import catboost\n",
    "\n",
    "# 4. Подключение модуля matplotlib.pyplot\n",
    "import matplotlib.pyplot as plt\n",
    "# 5. Подключение моделей\n",
    "from sklearn.linear_model import (\n",
    "    LogisticRegression,\n",
    "    SGDClassifier\n",
    ")\n",
    "from sklearn.tree import DecisionTreeClassifier\n",
    "from lightgbm import LGBMClassifier\n",
    "from catboost import CatBoostClassifier\n",
    "from sklearn.dummy import DummyClassifier\n",
    "# 6. Подключение функции stopwords()\n",
    "from nltk.corpus import stopwords as nltk_stopwords\n",
    "# 7. Подключение класса TfidfVectorizer()\n",
    "from sklearn.feature_extraction.text import TfidfVectorizer\n",
    "# 8. Подключение функций\n",
    "from sklearn.model_selection import (\n",
    "    train_test_split,\n",
    "    GridSearchCV\n",
    ")\n",
    "from sklearn.metrics import (\n",
    "    f1_score,\n",
    "    confusion_matrix,\n",
    "    ConfusionMatrixDisplay,\n",
    "    classification_report,\n",
    ")\n",
    "# 9. Подключение Pipeline()\n",
    "from sklearn.pipeline import Pipeline\n",
    "# 10. Подключение функции notebook()\n",
    "from tqdm import notebook\n",
    "from tqdm.notebook import tqdm"
   ]
  },
  {
   "cell_type": "markdown",
   "id": "4f842083",
   "metadata": {},
   "source": [
    "## Подготовка данных"
   ]
  },
  {
   "cell_type": "markdown",
   "id": "6122e8ed",
   "metadata": {},
   "source": [
    "### Открытие и изучение датасета"
   ]
  },
  {
   "cell_type": "code",
   "execution_count": 2,
   "id": "4b2e7943",
   "metadata": {},
   "outputs": [
    {
     "data": {
      "text/html": [
       "<div>\n",
       "<style scoped>\n",
       "    .dataframe tbody tr th:only-of-type {\n",
       "        vertical-align: middle;\n",
       "    }\n",
       "\n",
       "    .dataframe tbody tr th {\n",
       "        vertical-align: top;\n",
       "    }\n",
       "\n",
       "    .dataframe thead th {\n",
       "        text-align: right;\n",
       "    }\n",
       "</style>\n",
       "<table border=\"1\" class=\"dataframe\">\n",
       "  <thead>\n",
       "    <tr style=\"text-align: right;\">\n",
       "      <th></th>\n",
       "      <th>text</th>\n",
       "      <th>toxic</th>\n",
       "    </tr>\n",
       "  </thead>\n",
       "  <tbody>\n",
       "    <tr>\n",
       "      <th>0</th>\n",
       "      <td>Explanation\\nWhy the edits made under my usern...</td>\n",
       "      <td>0</td>\n",
       "    </tr>\n",
       "    <tr>\n",
       "      <th>1</th>\n",
       "      <td>D'aww! He matches this background colour I'm s...</td>\n",
       "      <td>0</td>\n",
       "    </tr>\n",
       "    <tr>\n",
       "      <th>2</th>\n",
       "      <td>Hey man, I'm really not trying to edit war. It...</td>\n",
       "      <td>0</td>\n",
       "    </tr>\n",
       "    <tr>\n",
       "      <th>3</th>\n",
       "      <td>\"\\nMore\\nI can't make any real suggestions on ...</td>\n",
       "      <td>0</td>\n",
       "    </tr>\n",
       "    <tr>\n",
       "      <th>4</th>\n",
       "      <td>You, sir, are my hero. Any chance you remember...</td>\n",
       "      <td>0</td>\n",
       "    </tr>\n",
       "  </tbody>\n",
       "</table>\n",
       "</div>"
      ],
      "text/plain": [
       "                                                text  toxic\n",
       "0  Explanation\\nWhy the edits made under my usern...      0\n",
       "1  D'aww! He matches this background colour I'm s...      0\n",
       "2  Hey man, I'm really not trying to edit war. It...      0\n",
       "3  \"\\nMore\\nI can't make any real suggestions on ...      0\n",
       "4  You, sir, are my hero. Any chance you remember...      0"
      ]
     },
     "metadata": {},
     "output_type": "display_data"
    },
    {
     "data": {
      "text/html": [
       "<div>\n",
       "<style scoped>\n",
       "    .dataframe tbody tr th:only-of-type {\n",
       "        vertical-align: middle;\n",
       "    }\n",
       "\n",
       "    .dataframe tbody tr th {\n",
       "        vertical-align: top;\n",
       "    }\n",
       "\n",
       "    .dataframe thead th {\n",
       "        text-align: right;\n",
       "    }\n",
       "</style>\n",
       "<table border=\"1\" class=\"dataframe\">\n",
       "  <thead>\n",
       "    <tr style=\"text-align: right;\">\n",
       "      <th></th>\n",
       "      <th>text</th>\n",
       "      <th>toxic</th>\n",
       "    </tr>\n",
       "  </thead>\n",
       "  <tbody>\n",
       "    <tr>\n",
       "      <th>159566</th>\n",
       "      <td>\":::::And for the second time of asking, when ...</td>\n",
       "      <td>0</td>\n",
       "    </tr>\n",
       "    <tr>\n",
       "      <th>159567</th>\n",
       "      <td>You should be ashamed of yourself \\n\\nThat is ...</td>\n",
       "      <td>0</td>\n",
       "    </tr>\n",
       "    <tr>\n",
       "      <th>159568</th>\n",
       "      <td>Spitzer \\n\\nUmm, theres no actual article for ...</td>\n",
       "      <td>0</td>\n",
       "    </tr>\n",
       "    <tr>\n",
       "      <th>159569</th>\n",
       "      <td>And it looks like it was actually you who put ...</td>\n",
       "      <td>0</td>\n",
       "    </tr>\n",
       "    <tr>\n",
       "      <th>159570</th>\n",
       "      <td>\"\\nAnd ... I really don't think you understand...</td>\n",
       "      <td>0</td>\n",
       "    </tr>\n",
       "  </tbody>\n",
       "</table>\n",
       "</div>"
      ],
      "text/plain": [
       "                                                     text  toxic\n",
       "159566  \":::::And for the second time of asking, when ...      0\n",
       "159567  You should be ashamed of yourself \\n\\nThat is ...      0\n",
       "159568  Spitzer \\n\\nUmm, theres no actual article for ...      0\n",
       "159569  And it looks like it was actually you who put ...      0\n",
       "159570  \"\\nAnd ... I really don't think you understand...      0"
      ]
     },
     "metadata": {},
     "output_type": "display_data"
    }
   ],
   "source": [
    "# Формирование датафрейма и вывод\n",
    "# первых/последних пяти строк\n",
    "try:\n",
    "    df = pd.read_csv('/datasets/toxic_comments.csv')\n",
    "    display(df.head())\n",
    "    display(df.tail())\n",
    "except:\n",
    "    df = pd.read_csv(\n",
    "        Path(\n",
    "            pathlib.Path.cwd(),\n",
    "            'datasets',\n",
    "            'toxic_comments.csv'\n",
    "        )\n",
    "    )\n",
    "    display(df.head())\n",
    "    display(df.tail())"
   ]
  },
  {
   "cell_type": "code",
   "execution_count": 3,
   "id": "d947adaf",
   "metadata": {
    "scrolled": true
   },
   "outputs": [
    {
     "name": "stdout",
     "output_type": "stream",
     "text": [
      "<class 'pandas.core.frame.DataFrame'>\n",
      "RangeIndex: 159571 entries, 0 to 159570\n",
      "Data columns (total 2 columns):\n",
      " #   Column  Non-Null Count   Dtype \n",
      "---  ------  --------------   ----- \n",
      " 0   text    159571 non-null  object\n",
      " 1   toxic   159571 non-null  int64 \n",
      "dtypes: int64(1), object(1)\n",
      "memory usage: 2.4+ MB\n"
     ]
    }
   ],
   "source": [
    "# Вывод общей информации\n",
    "df.info()"
   ]
  },
  {
   "cell_type": "markdown",
   "id": "799bb2cc",
   "metadata": {},
   "source": [
    "<div class=\"alert alert-block alert-warning\">\n",
    "<span style=\"color:green\"><font size=\"3\" face=\"Arial\"><b>Промежуточные выводы 2.1:<b/></span><br>\n",
    "    <br>\n",
    "<span style=\"color:steelblue\"><font size=\"3\" face=\"Courier\"><b>1. Датафрейм <code>df</code> содержит <code>159571</code> строку и <code>2</code> колонки.<br>\n",
    "    2. Наименование колонок выполнено с соблюдением змеиного стиля.<br>\n",
    "    3. Колонка <code>text</code> имеет строковый тип данных и содержит комментарии на <code>латинице</code>.<br>\n",
    "    Для обучения модели необходимо извлечь признаки, предварительно приведя слова к начальной форме и очистив текст от мусора, затем преобразовав текстовые данные в числовые.<br>\n",
    "    4. Колонка <code>toxic</code> содержит целевые признаки (ответы) с числовыми значениями в виде <code>0</code> и <code>1</code>, представляющие <code>категориальные</code> признаки, следовательно, решается задача <code>бинарной классификации</code>.</b></span></div>"
   ]
  },
  {
   "cell_type": "code",
   "execution_count": 4,
   "id": "5520d0ff",
   "metadata": {},
   "outputs": [
    {
     "data": {
      "text/plain": [
       "0"
      ]
     },
     "execution_count": 4,
     "metadata": {},
     "output_type": "execute_result"
    }
   ],
   "source": [
    "# Поиск явных дубликатов\n",
    "df.duplicated().sum()"
   ]
  },
  {
   "cell_type": "markdown",
   "id": "c717d95d",
   "metadata": {},
   "source": [
    "<div class=\"alert alert-block alert-warning\">\n",
    "<span style=\"color:green\"><font size=\"3\" face=\"Arial\"><b>Промежуточные выводы 2.2:<b/></span><br>\n",
    "    <br>\n",
    "<span style=\"color:steelblue\"><font size=\"3\" face=\"Courier\"><b>Явные дубликаты не обнаружены.</b></span></div>"
   ]
  },
  {
   "cell_type": "code",
   "execution_count": 5,
   "id": "f168b156",
   "metadata": {},
   "outputs": [
    {
     "data": {
      "text/plain": [
       "0    0.898321\n",
       "1    0.101679\n",
       "Name: toxic, dtype: float64"
      ]
     },
     "execution_count": 5,
     "metadata": {},
     "output_type": "execute_result"
    }
   ],
   "source": [
    "# Вывод данных о балансе классов\n",
    "df['toxic'].value_counts(normalize=True)"
   ]
  },
  {
   "cell_type": "markdown",
   "id": "76f3ff65",
   "metadata": {},
   "source": [
    "<div class=\"alert alert-block alert-warning\">\n",
    "<span style=\"color:green\"><font size=\"3\" face=\"Arial\"><b>Промежуточные выводы 2.3:<b/></span><br>\n",
    "    <br>\n",
    "<span style=\"color:steelblue\"><font size=\"3\" face=\"Courier\"><b>В целевых признаках присутствует <code>дисбаланс классов</code>. Токсичные комментарии составляют <code>10%</code>, а позитивные <code>90%</code>.</b></span></div>"
   ]
  },
  {
   "cell_type": "markdown",
   "id": "d1a68ef3",
   "metadata": {},
   "source": [
    "### Предварительная обработка текста"
   ]
  },
  {
   "cell_type": "markdown",
   "id": "259f21b3",
   "metadata": {},
   "source": [
    "#### Лемматизация текста"
   ]
  },
  {
   "cell_type": "code",
   "execution_count": 6,
   "id": "5075bfc7",
   "metadata": {
    "scrolled": true
   },
   "outputs": [
    {
     "name": "stdout",
     "output_type": "stream",
     "text": [
      "Collecting en-core-web-sm==3.4.0\n",
      "  Downloading https://github.com/explosion/spacy-models/releases/download/en_core_web_sm-3.4.0/en_core_web_sm-3.4.0-py3-none-any.whl (12.8 MB)\n",
      "     --------------------------------------- 12.8/12.8 MB 36.3 MB/s eta 0:00:00\n",
      "Requirement already satisfied: spacy<3.5.0,>=3.4.0 in c:\\users\\елена\\appdata\\local\\programs\\python\\python310\\lib\\site-packages (from en-core-web-sm==3.4.0) (3.4.1)\n",
      "Requirement already satisfied: preshed<3.1.0,>=3.0.2 in c:\\users\\елена\\appdata\\local\\programs\\python\\python310\\lib\\site-packages (from spacy<3.5.0,>=3.4.0->en-core-web-sm==3.4.0) (3.0.6)\n",
      "Requirement already satisfied: cymem<2.1.0,>=2.0.2 in c:\\users\\елена\\appdata\\local\\programs\\python\\python310\\lib\\site-packages (from spacy<3.5.0,>=3.4.0->en-core-web-sm==3.4.0) (2.0.6)\n",
      "Requirement already satisfied: setuptools in c:\\users\\елена\\appdata\\local\\programs\\python\\python310\\lib\\site-packages (from spacy<3.5.0,>=3.4.0->en-core-web-sm==3.4.0) (58.1.0)\n",
      "Requirement already satisfied: srsly<3.0.0,>=2.4.3 in c:\\users\\елена\\appdata\\local\\programs\\python\\python310\\lib\\site-packages (from spacy<3.5.0,>=3.4.0->en-core-web-sm==3.4.0) (2.4.4)\n",
      "Requirement already satisfied: langcodes<4.0.0,>=3.2.0 in c:\\users\\елена\\appdata\\local\\programs\\python\\python310\\lib\\site-packages (from spacy<3.5.0,>=3.4.0->en-core-web-sm==3.4.0) (3.3.0)\n",
      "Requirement already satisfied: packaging>=20.0 in c:\\users\\елена\\appdata\\local\\programs\\python\\python310\\lib\\site-packages (from spacy<3.5.0,>=3.4.0->en-core-web-sm==3.4.0) (21.3)\n",
      "Requirement already satisfied: requests<3.0.0,>=2.13.0 in c:\\users\\елена\\appdata\\local\\programs\\python\\python310\\lib\\site-packages (from spacy<3.5.0,>=3.4.0->en-core-web-sm==3.4.0) (2.28.1)\n",
      "Requirement already satisfied: pydantic!=1.8,!=1.8.1,<1.10.0,>=1.7.4 in c:\\users\\елена\\appdata\\local\\programs\\python\\python310\\lib\\site-packages (from spacy<3.5.0,>=3.4.0->en-core-web-sm==3.4.0) (1.9.2)\n",
      "Requirement already satisfied: catalogue<2.1.0,>=2.0.6 in c:\\users\\елена\\appdata\\local\\programs\\python\\python310\\lib\\site-packages (from spacy<3.5.0,>=3.4.0->en-core-web-sm==3.4.0) (2.0.8)\n",
      "Requirement already satisfied: numpy>=1.15.0 in c:\\users\\елена\\appdata\\local\\programs\\python\\python310\\lib\\site-packages (from spacy<3.5.0,>=3.4.0->en-core-web-sm==3.4.0) (1.23.1)\n",
      "Requirement already satisfied: jinja2 in c:\\users\\елена\\appdata\\local\\programs\\python\\python310\\lib\\site-packages (from spacy<3.5.0,>=3.4.0->en-core-web-sm==3.4.0) (3.0.3)\n",
      "Requirement already satisfied: spacy-legacy<3.1.0,>=3.0.9 in c:\\users\\елена\\appdata\\local\\programs\\python\\python310\\lib\\site-packages (from spacy<3.5.0,>=3.4.0->en-core-web-sm==3.4.0) (3.0.9)\n",
      "Requirement already satisfied: typer<0.5.0,>=0.3.0 in c:\\users\\елена\\appdata\\local\\programs\\python\\python310\\lib\\site-packages (from spacy<3.5.0,>=3.4.0->en-core-web-sm==3.4.0) (0.4.2)\n",
      "Requirement already satisfied: pathy>=0.3.5 in c:\\users\\елена\\appdata\\local\\programs\\python\\python310\\lib\\site-packages (from spacy<3.5.0,>=3.4.0->en-core-web-sm==3.4.0) (0.6.2)\n",
      "Requirement already satisfied: wasabi<1.1.0,>=0.9.1 in c:\\users\\елена\\appdata\\local\\programs\\python\\python310\\lib\\site-packages (from spacy<3.5.0,>=3.4.0->en-core-web-sm==3.4.0) (0.10.1)\n",
      "Requirement already satisfied: thinc<8.2.0,>=8.1.0 in c:\\users\\елена\\appdata\\local\\programs\\python\\python310\\lib\\site-packages (from spacy<3.5.0,>=3.4.0->en-core-web-sm==3.4.0) (8.1.0)\n",
      "Requirement already satisfied: spacy-loggers<2.0.0,>=1.0.0 in c:\\users\\елена\\appdata\\local\\programs\\python\\python310\\lib\\site-packages (from spacy<3.5.0,>=3.4.0->en-core-web-sm==3.4.0) (1.0.3)\n",
      "Requirement already satisfied: tqdm<5.0.0,>=4.38.0 in c:\\users\\елена\\appdata\\local\\programs\\python\\python310\\lib\\site-packages (from spacy<3.5.0,>=3.4.0->en-core-web-sm==3.4.0) (4.64.0)\n",
      "Requirement already satisfied: murmurhash<1.1.0,>=0.28.0 in c:\\users\\елена\\appdata\\local\\programs\\python\\python310\\lib\\site-packages (from spacy<3.5.0,>=3.4.0->en-core-web-sm==3.4.0) (1.0.7)\n",
      "Requirement already satisfied: pyparsing!=3.0.5,>=2.0.2 in c:\\users\\елена\\appdata\\local\\programs\\python\\python310\\lib\\site-packages (from packaging>=20.0->spacy<3.5.0,>=3.4.0->en-core-web-sm==3.4.0) (3.0.7)\n",
      "Requirement already satisfied: smart-open<6.0.0,>=5.2.1 in c:\\users\\елена\\appdata\\local\\programs\\python\\python310\\lib\\site-packages (from pathy>=0.3.5->spacy<3.5.0,>=3.4.0->en-core-web-sm==3.4.0) (5.2.1)\n",
      "Requirement already satisfied: typing-extensions>=3.7.4.3 in c:\\users\\елена\\appdata\\local\\programs\\python\\python310\\lib\\site-packages (from pydantic!=1.8,!=1.8.1,<1.10.0,>=1.7.4->spacy<3.5.0,>=3.4.0->en-core-web-sm==3.4.0) (4.3.0)\n",
      "Requirement already satisfied: urllib3<1.27,>=1.21.1 in c:\\users\\елена\\appdata\\local\\programs\\python\\python310\\lib\\site-packages (from requests<3.0.0,>=2.13.0->spacy<3.5.0,>=3.4.0->en-core-web-sm==3.4.0) (1.26.9)\n",
      "Requirement already satisfied: certifi>=2017.4.17 in c:\\users\\елена\\appdata\\local\\programs\\python\\python310\\lib\\site-packages (from requests<3.0.0,>=2.13.0->spacy<3.5.0,>=3.4.0->en-core-web-sm==3.4.0) (2021.10.8)\n",
      "Requirement already satisfied: charset-normalizer<3,>=2 in c:\\users\\елена\\appdata\\local\\programs\\python\\python310\\lib\\site-packages (from requests<3.0.0,>=2.13.0->spacy<3.5.0,>=3.4.0->en-core-web-sm==3.4.0) (2.1.0)\n",
      "Requirement already satisfied: idna<4,>=2.5 in c:\\users\\елена\\appdata\\local\\programs\\python\\python310\\lib\\site-packages (from requests<3.0.0,>=2.13.0->spacy<3.5.0,>=3.4.0->en-core-web-sm==3.4.0) (3.3)\n",
      "Requirement already satisfied: blis<0.8.0,>=0.7.8 in c:\\users\\елена\\appdata\\local\\programs\\python\\python310\\lib\\site-packages (from thinc<8.2.0,>=8.1.0->spacy<3.5.0,>=3.4.0->en-core-web-sm==3.4.0) (0.7.8)\n",
      "Requirement already satisfied: colorama in c:\\users\\елена\\appdata\\local\\programs\\python\\python310\\lib\\site-packages (from tqdm<5.0.0,>=4.38.0->spacy<3.5.0,>=3.4.0->en-core-web-sm==3.4.0) (0.4.4)\n",
      "Requirement already satisfied: click<9.0.0,>=7.1.1 in c:\\users\\елена\\appdata\\local\\programs\\python\\python310\\lib\\site-packages (from typer<0.5.0,>=0.3.0->spacy<3.5.0,>=3.4.0->en-core-web-sm==3.4.0) (8.0.3)\n",
      "Requirement already satisfied: MarkupSafe>=2.0 in c:\\users\\елена\\appdata\\local\\programs\\python\\python310\\lib\\site-packages (from jinja2->spacy<3.5.0,>=3.4.0->en-core-web-sm==3.4.0) (2.1.1)\n",
      "[+] Download and installation successful\n",
      "You can now load the package via spacy.load('en_core_web_sm')\n"
     ]
    }
   ],
   "source": [
    "# Установка англоязычной модели для SpaCy\n",
    "!python -m spacy download en_core_web_sm"
   ]
  },
  {
   "cell_type": "code",
   "execution_count": 7,
   "id": "5247d633",
   "metadata": {},
   "outputs": [],
   "source": [
    "# Загрузка основной модели английского языка из SpaCy\n",
    "nlp = spacy.load(\n",
    "    'en_core_web_sm',\n",
    "    disable=['parser', 'ner']\n",
    ")"
   ]
  },
  {
   "cell_type": "code",
   "execution_count": 8,
   "id": "f99faefd",
   "metadata": {},
   "outputs": [
    {
     "data": {
      "application/vnd.jupyter.widget-view+json": {
       "model_id": "d5955d9eee27433e99c622c15240dc0e",
       "version_major": 2,
       "version_minor": 0
      },
      "text/plain": [
       "  0%|          | 0/159571 [00:00<?, ?it/s]"
      ]
     },
     "metadata": {},
     "output_type": "display_data"
    },
    {
     "name": "stdout",
     "output_type": "stream",
     "text": [
      "CPU times: total: 10min 22s\n",
      "Wall time: 10min 22s\n"
     ]
    },
    {
     "data": {
      "text/html": [
       "<div>\n",
       "<style scoped>\n",
       "    .dataframe tbody tr th:only-of-type {\n",
       "        vertical-align: middle;\n",
       "    }\n",
       "\n",
       "    .dataframe tbody tr th {\n",
       "        vertical-align: top;\n",
       "    }\n",
       "\n",
       "    .dataframe thead th {\n",
       "        text-align: right;\n",
       "    }\n",
       "</style>\n",
       "<table border=\"1\" class=\"dataframe\">\n",
       "  <thead>\n",
       "    <tr style=\"text-align: right;\">\n",
       "      <th></th>\n",
       "      <th>text</th>\n",
       "      <th>toxic</th>\n",
       "      <th>final_text</th>\n",
       "    </tr>\n",
       "  </thead>\n",
       "  <tbody>\n",
       "    <tr>\n",
       "      <th>0</th>\n",
       "      <td>Explanation\\nWhy the edits made under my usern...</td>\n",
       "      <td>0</td>\n",
       "      <td>explanation \\n why the edit make under my user...</td>\n",
       "    </tr>\n",
       "    <tr>\n",
       "      <th>1</th>\n",
       "      <td>D'aww! He matches this background colour I'm s...</td>\n",
       "      <td>0</td>\n",
       "      <td>d'aww ! he match this background colour I be s...</td>\n",
       "    </tr>\n",
       "    <tr>\n",
       "      <th>2</th>\n",
       "      <td>Hey man, I'm really not trying to edit war. It...</td>\n",
       "      <td>0</td>\n",
       "      <td>hey man , I be really not try to edit war . it...</td>\n",
       "    </tr>\n",
       "    <tr>\n",
       "      <th>3</th>\n",
       "      <td>\"\\nMore\\nI can't make any real suggestions on ...</td>\n",
       "      <td>0</td>\n",
       "      <td>\" \\n More \\n I can not make any real suggestio...</td>\n",
       "    </tr>\n",
       "    <tr>\n",
       "      <th>4</th>\n",
       "      <td>You, sir, are my hero. Any chance you remember...</td>\n",
       "      <td>0</td>\n",
       "      <td>you , sir , be my hero . any chance you rememb...</td>\n",
       "    </tr>\n",
       "  </tbody>\n",
       "</table>\n",
       "</div>"
      ],
      "text/plain": [
       "                                                text  toxic  \\\n",
       "0  Explanation\\nWhy the edits made under my usern...      0   \n",
       "1  D'aww! He matches this background colour I'm s...      0   \n",
       "2  Hey man, I'm really not trying to edit war. It...      0   \n",
       "3  \"\\nMore\\nI can't make any real suggestions on ...      0   \n",
       "4  You, sir, are my hero. Any chance you remember...      0   \n",
       "\n",
       "                                          final_text  \n",
       "0  explanation \\n why the edit make under my user...  \n",
       "1  d'aww ! he match this background colour I be s...  \n",
       "2  hey man , I be really not try to edit war . it...  \n",
       "3  \" \\n More \\n I can not make any real suggestio...  \n",
       "4  you , sir , be my hero . any chance you rememb...  "
      ]
     },
     "execution_count": 8,
     "metadata": {},
     "output_type": "execute_result"
    }
   ],
   "source": [
    "%%time\n",
    "# Разбор текстов моделью с последующими\n",
    "# токенизацией и лемматизацией текстов\n",
    "tqdm.pandas()\n",
    "df['final_text'] = df['text'].progress_apply(lambda x: ' '.join([token.lemma_ for token in nlp(x)]))\n",
    "df.head()"
   ]
  },
  {
   "cell_type": "markdown",
   "id": "8d81fcac",
   "metadata": {},
   "source": [
    "<div class=\"alert alert-block alert-warning\">\n",
    "<span style=\"color:green\"><font size=\"3\" face=\"Arial\"><b>Промежуточные выводы 2.4:<b/></span><br>\n",
    "    <br>\n",
    "<span style=\"color:steelblue\"><font size=\"3\" face=\"Courier\"><b>Токенизация и лемматизация выполнены.</b></span></div>"
   ]
  },
  {
   "cell_type": "markdown",
   "id": "aeb11b1f",
   "metadata": {},
   "source": [
    "#### Очистка текста"
   ]
  },
  {
   "cell_type": "code",
   "execution_count": 9,
   "id": "cfb1774b",
   "metadata": {},
   "outputs": [
    {
     "name": "stdout",
     "output_type": "stream",
     "text": [
      "CPU times: total: 3.67 s\n",
      "Wall time: 3.66 s\n"
     ]
    },
    {
     "data": {
      "text/html": [
       "<div>\n",
       "<style scoped>\n",
       "    .dataframe tbody tr th:only-of-type {\n",
       "        vertical-align: middle;\n",
       "    }\n",
       "\n",
       "    .dataframe tbody tr th {\n",
       "        vertical-align: top;\n",
       "    }\n",
       "\n",
       "    .dataframe thead th {\n",
       "        text-align: right;\n",
       "    }\n",
       "</style>\n",
       "<table border=\"1\" class=\"dataframe\">\n",
       "  <thead>\n",
       "    <tr style=\"text-align: right;\">\n",
       "      <th></th>\n",
       "      <th>text</th>\n",
       "      <th>toxic</th>\n",
       "      <th>final_text</th>\n",
       "    </tr>\n",
       "  </thead>\n",
       "  <tbody>\n",
       "    <tr>\n",
       "      <th>0</th>\n",
       "      <td>Explanation\\nWhy the edits made under my usern...</td>\n",
       "      <td>0</td>\n",
       "      <td>explanation why the edit make under my usernam...</td>\n",
       "    </tr>\n",
       "    <tr>\n",
       "      <th>1</th>\n",
       "      <td>D'aww! He matches this background colour I'm s...</td>\n",
       "      <td>0</td>\n",
       "      <td>d aww he match this background colour i be see...</td>\n",
       "    </tr>\n",
       "    <tr>\n",
       "      <th>2</th>\n",
       "      <td>Hey man, I'm really not trying to edit war. It...</td>\n",
       "      <td>0</td>\n",
       "      <td>hey man i be really not try to edit war it be ...</td>\n",
       "    </tr>\n",
       "    <tr>\n",
       "      <th>3</th>\n",
       "      <td>\"\\nMore\\nI can't make any real suggestions on ...</td>\n",
       "      <td>0</td>\n",
       "      <td>more i can not make any real suggestion on imp...</td>\n",
       "    </tr>\n",
       "    <tr>\n",
       "      <th>4</th>\n",
       "      <td>You, sir, are my hero. Any chance you remember...</td>\n",
       "      <td>0</td>\n",
       "      <td>you sir be my hero any chance you remember wha...</td>\n",
       "    </tr>\n",
       "  </tbody>\n",
       "</table>\n",
       "</div>"
      ],
      "text/plain": [
       "                                                text  toxic  \\\n",
       "0  Explanation\\nWhy the edits made under my usern...      0   \n",
       "1  D'aww! He matches this background colour I'm s...      0   \n",
       "2  Hey man, I'm really not trying to edit war. It...      0   \n",
       "3  \"\\nMore\\nI can't make any real suggestions on ...      0   \n",
       "4  You, sir, are my hero. Any chance you remember...      0   \n",
       "\n",
       "                                          final_text  \n",
       "0  explanation why the edit make under my usernam...  \n",
       "1  d aww he match this background colour i be see...  \n",
       "2  hey man i be really not try to edit war it be ...  \n",
       "3  more i can not make any real suggestion on imp...  \n",
       "4  you sir be my hero any chance you remember wha...  "
      ]
     },
     "execution_count": 9,
     "metadata": {},
     "output_type": "execute_result"
    }
   ],
   "source": [
    "%%time\n",
    "# Очистка текста от символов,\n",
    "# неявляющихся словами\n",
    "df['final_text'] = df['final_text'].apply(\n",
    "    lambda x: ' '.join(\n",
    "        re.sub(\n",
    "            r'[^a-zA-Z]',\n",
    "            ' ',\n",
    "            x\n",
    "        ).split()\n",
    "    )\n",
    ").str.lower()\n",
    "df.head()"
   ]
  },
  {
   "cell_type": "markdown",
   "id": "d0cbb34e",
   "metadata": {},
   "source": [
    "<div class=\"alert alert-block alert-warning\">\n",
    "<span style=\"color:green\"><font size=\"3\" face=\"Arial\"><b>Промежуточные выводы 2.5:<b/></span><br>\n",
    "    <br>\n",
    "<span style=\"color:steelblue\"><font size=\"3\" face=\"Courier\"><b>Очистка текста выполнена.</b></span></div>"
   ]
  },
  {
   "cell_type": "markdown",
   "id": "9ed5c400",
   "metadata": {},
   "source": [
    "### Создание признаков"
   ]
  },
  {
   "cell_type": "markdown",
   "id": "68190810",
   "metadata": {},
   "source": [
    "#### Создание общих выборок"
   ]
  },
  {
   "cell_type": "code",
   "execution_count": 10,
   "id": "ba6967bd",
   "metadata": {},
   "outputs": [
    {
     "data": {
      "text/plain": [
       "0    explanation why the edit make under my usernam...\n",
       "1    d aww he match this background colour i be see...\n",
       "2    hey man i be really not try to edit war it be ...\n",
       "3    more i can not make any real suggestion on imp...\n",
       "4    you sir be my hero any chance you remember wha...\n",
       "Name: final_text, dtype: object"
      ]
     },
     "execution_count": 10,
     "metadata": {},
     "output_type": "execute_result"
    }
   ],
   "source": [
    "# Формирование общей выборки с текстами (вопросами)\n",
    "corpus = df['final_text']\n",
    "corpus.head()"
   ]
  },
  {
   "cell_type": "code",
   "execution_count": 11,
   "id": "f35e6286",
   "metadata": {},
   "outputs": [
    {
     "data": {
      "text/plain": [
       "0    0\n",
       "1    0\n",
       "2    0\n",
       "3    0\n",
       "4    0\n",
       "Name: toxic, dtype: int64"
      ]
     },
     "execution_count": 11,
     "metadata": {},
     "output_type": "execute_result"
    }
   ],
   "source": [
    "# Формирование общей выборки с целевыми признаками (ответами)\n",
    "target = df['toxic']\n",
    "target.head()"
   ]
  },
  {
   "cell_type": "markdown",
   "id": "cd2ff9e9",
   "metadata": {},
   "source": [
    "<div class=\"alert alert-block alert-warning\">\n",
    "<span style=\"color:green\"><font size=\"3\" face=\"Arial\"><b>Промежуточные выводы 2.6:<b/></span><br>\n",
    "    <br>\n",
    "    <span style=\"color:steelblue\"><font size=\"3\" face=\"Courier\"><b>Общие выборки <code>corpus</code> и <code>target</code> созданы.</b></span></div>"
   ]
  },
  {
   "cell_type": "markdown",
   "id": "91312b68",
   "metadata": {},
   "source": [
    "#### Создание обучающих и тестовых выборок"
   ]
  },
  {
   "cell_type": "markdown",
   "id": "818becaa",
   "metadata": {},
   "source": [
    "<b>Размер тестовой выборки возьму 25%.</b>"
   ]
  },
  {
   "cell_type": "code",
   "execution_count": 12,
   "id": "c546273e",
   "metadata": {},
   "outputs": [],
   "source": [
    "# Формирование обучающей и тестовой выборок\n",
    "# с признаками (вопросами) и целевыми признаками (ответами)\n",
    "corpus_train, corpus_test, target_train, target_test = train_test_split(\n",
    "    corpus,\n",
    "    target,\n",
    "    test_size=.25,\n",
    "    random_state=777\n",
    ")"
   ]
  },
  {
   "cell_type": "code",
   "execution_count": 13,
   "id": "80461f2e",
   "metadata": {},
   "outputs": [
    {
     "data": {
      "text/plain": [
       "(119678,)"
      ]
     },
     "execution_count": 13,
     "metadata": {},
     "output_type": "execute_result"
    }
   ],
   "source": [
    "# Вывод размера обучающей выборки с текстами\n",
    "corpus_train.shape"
   ]
  },
  {
   "cell_type": "code",
   "execution_count": 14,
   "id": "a87a7b45",
   "metadata": {},
   "outputs": [
    {
     "data": {
      "text/plain": [
       "(39893,)"
      ]
     },
     "execution_count": 14,
     "metadata": {},
     "output_type": "execute_result"
    }
   ],
   "source": [
    "# Вывод размера тестовой выборки с текстами\n",
    "corpus_test.shape"
   ]
  },
  {
   "cell_type": "code",
   "execution_count": 15,
   "id": "5dacbda6",
   "metadata": {},
   "outputs": [
    {
     "data": {
      "text/plain": [
       "(119678,)"
      ]
     },
     "execution_count": 15,
     "metadata": {},
     "output_type": "execute_result"
    }
   ],
   "source": [
    "# Вывод размера обучающей выборки с целевыми признаками\n",
    "target_train.shape"
   ]
  },
  {
   "cell_type": "code",
   "execution_count": 16,
   "id": "1afd95b1",
   "metadata": {},
   "outputs": [
    {
     "data": {
      "text/plain": [
       "(39893,)"
      ]
     },
     "execution_count": 16,
     "metadata": {},
     "output_type": "execute_result"
    }
   ],
   "source": [
    "# Вывод размера тестовой выборки с целевыми признаками\n",
    "target_test.shape"
   ]
  },
  {
   "cell_type": "markdown",
   "id": "76ca09f0",
   "metadata": {},
   "source": [
    "<div class=\"alert alert-block alert-warning\">\n",
    "<span style=\"color:green\"><font size=\"3\" face=\"Arial\"><b>Промежуточные выводы 2.7:<b/></span><br>\n",
    "    <br>\n",
    "    <span style=\"color:steelblue\"><font size=\"3\" face=\"Courier\"><b>Обучающие и тестовые выборки <code>corpus_train, corpus_test, target_train, target_test</code> созданы.</b></span></div>"
   ]
  },
  {
   "cell_type": "markdown",
   "id": "ab814229",
   "metadata": {},
   "source": [
    "#### Формирование матриц с признаками"
   ]
  },
  {
   "cell_type": "code",
   "execution_count": 17,
   "id": "e5af241b",
   "metadata": {},
   "outputs": [
    {
     "name": "stderr",
     "output_type": "stream",
     "text": [
      "[nltk_data] Downloading package stopwords to\n",
      "[nltk_data]     C:\\Users\\Елена\\AppData\\Roaming\\nltk_data...\n",
      "[nltk_data]   Package stopwords is already up-to-date!\n"
     ]
    },
    {
     "data": {
      "text/plain": [
       "True"
      ]
     },
     "execution_count": 17,
     "metadata": {},
     "output_type": "execute_result"
    }
   ],
   "source": [
    "# Загрузка пакета стоп-слов\n",
    "nltk.download('stopwords')"
   ]
  },
  {
   "cell_type": "code",
   "execution_count": 18,
   "id": "e3762972",
   "metadata": {},
   "outputs": [],
   "source": [
    "# Формирование переменной со стоп-словами\n",
    "stop_words = set(nltk_stopwords.words('english'))"
   ]
  },
  {
   "cell_type": "code",
   "execution_count": 19,
   "id": "1c9657f5",
   "metadata": {},
   "outputs": [],
   "source": [
    "# Создание счётчика величин TF-IDF\n",
    "count_tf_idf = TfidfVectorizer(\n",
    "    stop_words=stop_words\n",
    ")"
   ]
  },
  {
   "cell_type": "code",
   "execution_count": 20,
   "id": "9b99c828",
   "metadata": {},
   "outputs": [],
   "source": [
    "# Подсчёт величин TF-IDF\n",
    "tf_idf = count_tf_idf.fit(corpus_train)"
   ]
  },
  {
   "cell_type": "code",
   "execution_count": 21,
   "id": "c3216146",
   "metadata": {},
   "outputs": [
    {
     "data": {
      "text/plain": [
       "(119678, 132330)"
      ]
     },
     "execution_count": 21,
     "metadata": {},
     "output_type": "execute_result"
    }
   ],
   "source": [
    "# Формирование матрицы обучающих признаков\n",
    "# с выводом размеров\n",
    "corpus_train_vectorized = count_tf_idf.transform(corpus_train)\n",
    "corpus_train_vectorized.shape"
   ]
  },
  {
   "cell_type": "code",
   "execution_count": 22,
   "id": "fa4e4d6f",
   "metadata": {},
   "outputs": [
    {
     "data": {
      "text/plain": [
       "(39893, 132330)"
      ]
     },
     "execution_count": 22,
     "metadata": {},
     "output_type": "execute_result"
    }
   ],
   "source": [
    "# Формирование матрицы тестовых признаков\n",
    "# с выводом размеров\n",
    "corpus_test_vectorized = count_tf_idf.transform(corpus_test)\n",
    "corpus_test_vectorized.shape"
   ]
  },
  {
   "cell_type": "markdown",
   "id": "6dbf2b1b",
   "metadata": {},
   "source": [
    "<div class=\"alert alert-block alert-warning\">\n",
    "<span style=\"color:green\"><font size=\"3\" face=\"Arial\"><b>Промежуточные выводы 2.8:<b/></span><br>\n",
    "    <br>\n",
    "    <span style=\"color:steelblue\"><font size=\"3\" face=\"Courier\"><b>Векторы признаков обучающих и тестовых выборок сформированы.</b></span></div>"
   ]
  },
  {
   "cell_type": "markdown",
   "id": "5ad1b912",
   "metadata": {},
   "source": [
    "## Обучение и проверка моделей"
   ]
  },
  {
   "cell_type": "markdown",
   "id": "e6b9fd66",
   "metadata": {},
   "source": [
    "### Исследование модели логистической регрессии - LogisticRegression"
   ]
  },
  {
   "cell_type": "code",
   "execution_count": 23,
   "id": "170f3a50",
   "metadata": {},
   "outputs": [],
   "source": [
    "# Формирование конвейера\n",
    "pipeline_logistic = Pipeline(\n",
    "    [\n",
    "        ('tf_idf', TfidfVectorizer(stop_words=stop_words)),\n",
    "        ('log_reg', LogisticRegression())\n",
    "    ]\n",
    ")"
   ]
  },
  {
   "cell_type": "code",
   "execution_count": 24,
   "id": "e0e53cf1",
   "metadata": {},
   "outputs": [],
   "source": [
    "# Создание переменной со словарём параметров\n",
    "param_logistic = {\n",
    "    'log_reg__max_iter': [200, 250],\n",
    "    'log_reg__C': [.5, 1.0, 1.5, 2.0],\n",
    "    'log_reg__class_weight': [None, 'balanced']\n",
    "}"
   ]
  },
  {
   "cell_type": "code",
   "execution_count": 25,
   "id": "444548cb",
   "metadata": {},
   "outputs": [],
   "source": [
    "# Задание параметров поиска по сетке\n",
    "gs_logistic = GridSearchCV(\n",
    "    pipeline_logistic,\n",
    "    param_grid=param_logistic,\n",
    "    scoring='f1',\n",
    "    cv=3,\n",
    "    verbose=1,\n",
    "    refit=True\n",
    ")"
   ]
  },
  {
   "cell_type": "code",
   "execution_count": 26,
   "id": "7be5bad0",
   "metadata": {
    "scrolled": false
   },
   "outputs": [
    {
     "name": "stdout",
     "output_type": "stream",
     "text": [
      "Fitting 3 folds for each of 16 candidates, totalling 48 fits\n",
      "CPU times: total: 4min 22s\n",
      "Wall time: 4min 19s\n"
     ]
    },
    {
     "data": {
      "text/html": [
       "<style>#sk-container-id-1 {color: black;background-color: white;}#sk-container-id-1 pre{padding: 0;}#sk-container-id-1 div.sk-toggleable {background-color: white;}#sk-container-id-1 label.sk-toggleable__label {cursor: pointer;display: block;width: 100%;margin-bottom: 0;padding: 0.3em;box-sizing: border-box;text-align: center;}#sk-container-id-1 label.sk-toggleable__label-arrow:before {content: \"▸\";float: left;margin-right: 0.25em;color: #696969;}#sk-container-id-1 label.sk-toggleable__label-arrow:hover:before {color: black;}#sk-container-id-1 div.sk-estimator:hover label.sk-toggleable__label-arrow:before {color: black;}#sk-container-id-1 div.sk-toggleable__content {max-height: 0;max-width: 0;overflow: hidden;text-align: left;background-color: #f0f8ff;}#sk-container-id-1 div.sk-toggleable__content pre {margin: 0.2em;color: black;border-radius: 0.25em;background-color: #f0f8ff;}#sk-container-id-1 input.sk-toggleable__control:checked~div.sk-toggleable__content {max-height: 200px;max-width: 100%;overflow: auto;}#sk-container-id-1 input.sk-toggleable__control:checked~label.sk-toggleable__label-arrow:before {content: \"▾\";}#sk-container-id-1 div.sk-estimator input.sk-toggleable__control:checked~label.sk-toggleable__label {background-color: #d4ebff;}#sk-container-id-1 div.sk-label input.sk-toggleable__control:checked~label.sk-toggleable__label {background-color: #d4ebff;}#sk-container-id-1 input.sk-hidden--visually {border: 0;clip: rect(1px 1px 1px 1px);clip: rect(1px, 1px, 1px, 1px);height: 1px;margin: -1px;overflow: hidden;padding: 0;position: absolute;width: 1px;}#sk-container-id-1 div.sk-estimator {font-family: monospace;background-color: #f0f8ff;border: 1px dotted black;border-radius: 0.25em;box-sizing: border-box;margin-bottom: 0.5em;}#sk-container-id-1 div.sk-estimator:hover {background-color: #d4ebff;}#sk-container-id-1 div.sk-parallel-item::after {content: \"\";width: 100%;border-bottom: 1px solid gray;flex-grow: 1;}#sk-container-id-1 div.sk-label:hover label.sk-toggleable__label {background-color: #d4ebff;}#sk-container-id-1 div.sk-serial::before {content: \"\";position: absolute;border-left: 1px solid gray;box-sizing: border-box;top: 0;bottom: 0;left: 50%;z-index: 0;}#sk-container-id-1 div.sk-serial {display: flex;flex-direction: column;align-items: center;background-color: white;padding-right: 0.2em;padding-left: 0.2em;position: relative;}#sk-container-id-1 div.sk-item {position: relative;z-index: 1;}#sk-container-id-1 div.sk-parallel {display: flex;align-items: stretch;justify-content: center;background-color: white;position: relative;}#sk-container-id-1 div.sk-item::before, #sk-container-id-1 div.sk-parallel-item::before {content: \"\";position: absolute;border-left: 1px solid gray;box-sizing: border-box;top: 0;bottom: 0;left: 50%;z-index: -1;}#sk-container-id-1 div.sk-parallel-item {display: flex;flex-direction: column;z-index: 1;position: relative;background-color: white;}#sk-container-id-1 div.sk-parallel-item:first-child::after {align-self: flex-end;width: 50%;}#sk-container-id-1 div.sk-parallel-item:last-child::after {align-self: flex-start;width: 50%;}#sk-container-id-1 div.sk-parallel-item:only-child::after {width: 0;}#sk-container-id-1 div.sk-dashed-wrapped {border: 1px dashed gray;margin: 0 0.4em 0.5em 0.4em;box-sizing: border-box;padding-bottom: 0.4em;background-color: white;}#sk-container-id-1 div.sk-label label {font-family: monospace;font-weight: bold;display: inline-block;line-height: 1.2em;}#sk-container-id-1 div.sk-label-container {text-align: center;}#sk-container-id-1 div.sk-container {/* jupyter's `normalize.less` sets `[hidden] { display: none; }` but bootstrap.min.css set `[hidden] { display: none !important; }` so we also need the `!important` here to be able to override the default hidden behavior on the sphinx rendered scikit-learn.org. See: https://github.com/scikit-learn/scikit-learn/issues/21755 */display: inline-block !important;position: relative;}#sk-container-id-1 div.sk-text-repr-fallback {display: none;}</style><div id=\"sk-container-id-1\" class=\"sk-top-container\"><div class=\"sk-text-repr-fallback\"><pre>GridSearchCV(cv=3,\n",
       "             estimator=Pipeline(steps=[(&#x27;tf_idf&#x27;,\n",
       "                                        TfidfVectorizer(stop_words={&#x27;a&#x27;,\n",
       "                                                                    &#x27;about&#x27;,\n",
       "                                                                    &#x27;above&#x27;,\n",
       "                                                                    &#x27;after&#x27;,\n",
       "                                                                    &#x27;again&#x27;,\n",
       "                                                                    &#x27;against&#x27;,\n",
       "                                                                    &#x27;ain&#x27;,\n",
       "                                                                    &#x27;all&#x27;, &#x27;am&#x27;,\n",
       "                                                                    &#x27;an&#x27;, &#x27;and&#x27;,\n",
       "                                                                    &#x27;any&#x27;,\n",
       "                                                                    &#x27;are&#x27;,\n",
       "                                                                    &#x27;aren&#x27;,\n",
       "                                                                    &quot;aren&#x27;t&quot;,\n",
       "                                                                    &#x27;as&#x27;, &#x27;at&#x27;,\n",
       "                                                                    &#x27;be&#x27;,\n",
       "                                                                    &#x27;because&#x27;,\n",
       "                                                                    &#x27;been&#x27;,\n",
       "                                                                    &#x27;before&#x27;,\n",
       "                                                                    &#x27;being&#x27;,\n",
       "                                                                    &#x27;below&#x27;,\n",
       "                                                                    &#x27;between&#x27;,\n",
       "                                                                    &#x27;both&#x27;,\n",
       "                                                                    &#x27;but&#x27;, &#x27;by&#x27;,\n",
       "                                                                    &#x27;can&#x27;,\n",
       "                                                                    &#x27;couldn&#x27;,\n",
       "                                                                    &quot;couldn&#x27;t&quot;, ...})),\n",
       "                                       (&#x27;log_reg&#x27;, LogisticRegression())]),\n",
       "             param_grid={&#x27;log_reg__C&#x27;: [0.5, 1.0, 1.5, 2.0],\n",
       "                         &#x27;log_reg__class_weight&#x27;: [None, &#x27;balanced&#x27;],\n",
       "                         &#x27;log_reg__max_iter&#x27;: [200, 250]},\n",
       "             scoring=&#x27;f1&#x27;, verbose=1)</pre><b>In a Jupyter environment, please rerun this cell to show the HTML representation or trust the notebook. <br />On GitHub, the HTML representation is unable to render, please try loading this page with nbviewer.org.</b></div><div class=\"sk-container\" hidden><div class=\"sk-item sk-dashed-wrapped\"><div class=\"sk-label-container\"><div class=\"sk-label sk-toggleable\"><input class=\"sk-toggleable__control sk-hidden--visually\" id=\"sk-estimator-id-1\" type=\"checkbox\" ><label for=\"sk-estimator-id-1\" class=\"sk-toggleable__label sk-toggleable__label-arrow\">GridSearchCV</label><div class=\"sk-toggleable__content\"><pre>GridSearchCV(cv=3,\n",
       "             estimator=Pipeline(steps=[(&#x27;tf_idf&#x27;,\n",
       "                                        TfidfVectorizer(stop_words={&#x27;a&#x27;,\n",
       "                                                                    &#x27;about&#x27;,\n",
       "                                                                    &#x27;above&#x27;,\n",
       "                                                                    &#x27;after&#x27;,\n",
       "                                                                    &#x27;again&#x27;,\n",
       "                                                                    &#x27;against&#x27;,\n",
       "                                                                    &#x27;ain&#x27;,\n",
       "                                                                    &#x27;all&#x27;, &#x27;am&#x27;,\n",
       "                                                                    &#x27;an&#x27;, &#x27;and&#x27;,\n",
       "                                                                    &#x27;any&#x27;,\n",
       "                                                                    &#x27;are&#x27;,\n",
       "                                                                    &#x27;aren&#x27;,\n",
       "                                                                    &quot;aren&#x27;t&quot;,\n",
       "                                                                    &#x27;as&#x27;, &#x27;at&#x27;,\n",
       "                                                                    &#x27;be&#x27;,\n",
       "                                                                    &#x27;because&#x27;,\n",
       "                                                                    &#x27;been&#x27;,\n",
       "                                                                    &#x27;before&#x27;,\n",
       "                                                                    &#x27;being&#x27;,\n",
       "                                                                    &#x27;below&#x27;,\n",
       "                                                                    &#x27;between&#x27;,\n",
       "                                                                    &#x27;both&#x27;,\n",
       "                                                                    &#x27;but&#x27;, &#x27;by&#x27;,\n",
       "                                                                    &#x27;can&#x27;,\n",
       "                                                                    &#x27;couldn&#x27;,\n",
       "                                                                    &quot;couldn&#x27;t&quot;, ...})),\n",
       "                                       (&#x27;log_reg&#x27;, LogisticRegression())]),\n",
       "             param_grid={&#x27;log_reg__C&#x27;: [0.5, 1.0, 1.5, 2.0],\n",
       "                         &#x27;log_reg__class_weight&#x27;: [None, &#x27;balanced&#x27;],\n",
       "                         &#x27;log_reg__max_iter&#x27;: [200, 250]},\n",
       "             scoring=&#x27;f1&#x27;, verbose=1)</pre></div></div></div><div class=\"sk-parallel\"><div class=\"sk-parallel-item\"><div class=\"sk-item\"><div class=\"sk-label-container\"><div class=\"sk-label sk-toggleable\"><input class=\"sk-toggleable__control sk-hidden--visually\" id=\"sk-estimator-id-2\" type=\"checkbox\" ><label for=\"sk-estimator-id-2\" class=\"sk-toggleable__label sk-toggleable__label-arrow\">estimator: Pipeline</label><div class=\"sk-toggleable__content\"><pre>Pipeline(steps=[(&#x27;tf_idf&#x27;,\n",
       "                 TfidfVectorizer(stop_words={&#x27;a&#x27;, &#x27;about&#x27;, &#x27;above&#x27;, &#x27;after&#x27;,\n",
       "                                             &#x27;again&#x27;, &#x27;against&#x27;, &#x27;ain&#x27;, &#x27;all&#x27;,\n",
       "                                             &#x27;am&#x27;, &#x27;an&#x27;, &#x27;and&#x27;, &#x27;any&#x27;, &#x27;are&#x27;,\n",
       "                                             &#x27;aren&#x27;, &quot;aren&#x27;t&quot;, &#x27;as&#x27;, &#x27;at&#x27;, &#x27;be&#x27;,\n",
       "                                             &#x27;because&#x27;, &#x27;been&#x27;, &#x27;before&#x27;,\n",
       "                                             &#x27;being&#x27;, &#x27;below&#x27;, &#x27;between&#x27;,\n",
       "                                             &#x27;both&#x27;, &#x27;but&#x27;, &#x27;by&#x27;, &#x27;can&#x27;,\n",
       "                                             &#x27;couldn&#x27;, &quot;couldn&#x27;t&quot;, ...})),\n",
       "                (&#x27;log_reg&#x27;, LogisticRegression())])</pre></div></div></div><div class=\"sk-serial\"><div class=\"sk-item\"><div class=\"sk-serial\"><div class=\"sk-item\"><div class=\"sk-estimator sk-toggleable\"><input class=\"sk-toggleable__control sk-hidden--visually\" id=\"sk-estimator-id-3\" type=\"checkbox\" ><label for=\"sk-estimator-id-3\" class=\"sk-toggleable__label sk-toggleable__label-arrow\">TfidfVectorizer</label><div class=\"sk-toggleable__content\"><pre>TfidfVectorizer(stop_words={&#x27;a&#x27;, &#x27;about&#x27;, &#x27;above&#x27;, &#x27;after&#x27;, &#x27;again&#x27;, &#x27;against&#x27;,\n",
       "                            &#x27;ain&#x27;, &#x27;all&#x27;, &#x27;am&#x27;, &#x27;an&#x27;, &#x27;and&#x27;, &#x27;any&#x27;, &#x27;are&#x27;,\n",
       "                            &#x27;aren&#x27;, &quot;aren&#x27;t&quot;, &#x27;as&#x27;, &#x27;at&#x27;, &#x27;be&#x27;, &#x27;because&#x27;,\n",
       "                            &#x27;been&#x27;, &#x27;before&#x27;, &#x27;being&#x27;, &#x27;below&#x27;, &#x27;between&#x27;,\n",
       "                            &#x27;both&#x27;, &#x27;but&#x27;, &#x27;by&#x27;, &#x27;can&#x27;, &#x27;couldn&#x27;, &quot;couldn&#x27;t&quot;, ...})</pre></div></div></div><div class=\"sk-item\"><div class=\"sk-estimator sk-toggleable\"><input class=\"sk-toggleable__control sk-hidden--visually\" id=\"sk-estimator-id-4\" type=\"checkbox\" ><label for=\"sk-estimator-id-4\" class=\"sk-toggleable__label sk-toggleable__label-arrow\">LogisticRegression</label><div class=\"sk-toggleable__content\"><pre>LogisticRegression()</pre></div></div></div></div></div></div></div></div></div></div></div></div>"
      ],
      "text/plain": [
       "GridSearchCV(cv=3,\n",
       "             estimator=Pipeline(steps=[('tf_idf',\n",
       "                                        TfidfVectorizer(stop_words={'a',\n",
       "                                                                    'about',\n",
       "                                                                    'above',\n",
       "                                                                    'after',\n",
       "                                                                    'again',\n",
       "                                                                    'against',\n",
       "                                                                    'ain',\n",
       "                                                                    'all', 'am',\n",
       "                                                                    'an', 'and',\n",
       "                                                                    'any',\n",
       "                                                                    'are',\n",
       "                                                                    'aren',\n",
       "                                                                    \"aren't\",\n",
       "                                                                    'as', 'at',\n",
       "                                                                    'be',\n",
       "                                                                    'because',\n",
       "                                                                    'been',\n",
       "                                                                    'before',\n",
       "                                                                    'being',\n",
       "                                                                    'below',\n",
       "                                                                    'between',\n",
       "                                                                    'both',\n",
       "                                                                    'but', 'by',\n",
       "                                                                    'can',\n",
       "                                                                    'couldn',\n",
       "                                                                    \"couldn't\", ...})),\n",
       "                                       ('log_reg', LogisticRegression())]),\n",
       "             param_grid={'log_reg__C': [0.5, 1.0, 1.5, 2.0],\n",
       "                         'log_reg__class_weight': [None, 'balanced'],\n",
       "                         'log_reg__max_iter': [200, 250]},\n",
       "             scoring='f1', verbose=1)"
      ]
     },
     "execution_count": 26,
     "metadata": {},
     "output_type": "execute_result"
    }
   ],
   "source": [
    "%%time\n",
    "# Запуск поиска лучших параметров модели логистической\n",
    "# регрессии с выводом времени обучения\n",
    "gs_logistic.fit(corpus_train, target_train)"
   ]
  },
  {
   "cell_type": "code",
   "execution_count": 27,
   "id": "fa0760a2",
   "metadata": {},
   "outputs": [
    {
     "data": {
      "text/plain": [
       "{'log_reg__C': 2.0,\n",
       " 'log_reg__class_weight': 'balanced',\n",
       " 'log_reg__max_iter': 200}"
      ]
     },
     "execution_count": 27,
     "metadata": {},
     "output_type": "execute_result"
    }
   ],
   "source": [
    "# Вывод параметров лучшей модели по best_score_\n",
    "gs_logistic.best_params_"
   ]
  },
  {
   "cell_type": "code",
   "execution_count": 28,
   "id": "b17cc6bf",
   "metadata": {},
   "outputs": [
    {
     "data": {
      "text/plain": [
       "0.76"
      ]
     },
     "execution_count": 28,
     "metadata": {},
     "output_type": "execute_result"
    }
   ],
   "source": [
    "# Вывод средней оценки кросс-валидации\n",
    "# для модели с лучшими параметрами\n",
    "np.round(gs_logistic.best_score_, decimals=2)"
   ]
  },
  {
   "cell_type": "code",
   "execution_count": 29,
   "id": "0dd86fb4",
   "metadata": {},
   "outputs": [
    {
     "data": {
      "text/plain": [
       "5.769426345825195"
      ]
     },
     "execution_count": 29,
     "metadata": {},
     "output_type": "execute_result"
    }
   ],
   "source": [
    "# Вывод времени обучения модели по\n",
    "# лучшим параметрам\n",
    "gs_logistic.refit_time_"
   ]
  },
  {
   "cell_type": "code",
   "execution_count": 38,
   "id": "41e35b36",
   "metadata": {},
   "outputs": [],
   "source": [
    "# Получение предсказаний на тестовой выборке\n",
    "gs_logistic_test_predictions = gs_logistic.predict(corpus_test)"
   ]
  },
  {
   "cell_type": "code",
   "execution_count": 51,
   "id": "a9815520",
   "metadata": {},
   "outputs": [
    {
     "data": {
      "text/plain": [
       "0.75"
      ]
     },
     "execution_count": 51,
     "metadata": {},
     "output_type": "execute_result"
    }
   ],
   "source": [
    "# Вывод среднего гармонического F1\n",
    "# на тестовой выборке\n",
    "np.round(f1_score(target_test, gs_logistic_test_predictions), decimals=2)"
   ]
  },
  {
   "cell_type": "markdown",
   "id": "4e32a3a3",
   "metadata": {},
   "source": [
    "<div class=\"alert alert-block alert-warning\">\n",
    "<span style=\"color:green\"><font size=\"3\" face=\"Arial\"><b>Промежуточные выводы 3.1:<b/></span><br>\n",
    "    <br>\n",
    "<span style=\"color:steelblue\"><font size=\"3\" face=\"Courier\"><b>1. Поиск лучших параметров модели занял <code>4</code> минуты <code>19</code> секунд.<br>\n",
    "    2.1. Оптимально логистическая регрессия <code>LogisticRegression</code> обучается при количестве итераций <code>200</code> с коэффициентом регуляризации <code>2.0</code>; количество блоков кросс-валидации <code>3</code>.<br>\n",
    "    2.2. Среднее гармоническое (<code>F1</code>) при этих параметрах составляет:<br>\n",
    "    - на обучающей выборке <code>0.76</code>;<br>\n",
    "    - на тестовой выборке <code>0.75</code>.<br>\n",
    "    3. Время обучения модели на лучших параметрах составило <code>5.77</code> секунды. Скорость обучения очень высокая.</b></span></div>"
   ]
  },
  {
   "cell_type": "markdown",
   "id": "a51d639a",
   "metadata": {},
   "source": [
    "<img src=\"https://emojigraph.org/media/apple/check-mark-button_2705.png\" align=left width=33, heigth=33>\n",
    "<div class=\"alert alert-success\">\n",
    " 👍 </div>"
   ]
  },
  {
   "cell_type": "markdown",
   "id": "d585d047",
   "metadata": {},
   "source": [
    "### Исследование модели логистической регрессии (стохастического градиентного спуска) - SGDClassifier"
   ]
  },
  {
   "cell_type": "code",
   "execution_count": 65,
   "id": "6c2aa49a",
   "metadata": {},
   "outputs": [],
   "source": [
    "# Формирование конвейера\n",
    "pipeline_sgdc = Pipeline(\n",
    "    [\n",
    "        ('tf_idf', TfidfVectorizer(stop_words=stop_words)),\n",
    "        ('sgdc', SGDClassifier(penalty='l2',\n",
    "                               shuffle=True,\n",
    "                               verbose=0,\n",
    "                               random_state=777,\n",
    "                               learning_rate='invscaling',\n",
    "                               n_iter_no_change=5))\n",
    "    ]\n",
    ")"
   ]
  },
  {
   "cell_type": "code",
   "execution_count": 66,
   "id": "4b0cee6b",
   "metadata": {},
   "outputs": [],
   "source": [
    "# Создание переменной со словарём параметров\n",
    "param_sgdc = {\n",
    "    'sgdc__loss': ['hinge', 'log_loss', 'perceptron'],\n",
    "    'sgdc__alpha': [.01, .001, .0001],\n",
    "    'sgdc__max_iter': [1000, 2000],\n",
    "    'sgdc__eta0': [.01],\n",
    "    'sgdc__power_t': [.24, .25],\n",
    "    'sgdc__class_weight': [None, 'balanced']\n",
    "}"
   ]
  },
  {
   "cell_type": "code",
   "execution_count": 67,
   "id": "aa93d49f",
   "metadata": {},
   "outputs": [],
   "source": [
    "# Задание параметров поиска по сетке\n",
    "gs_sgdc = GridSearchCV(\n",
    "    pipeline_sgdc,\n",
    "    param_grid=param_sgdc,\n",
    "    scoring='f1',\n",
    "    cv=3,\n",
    "    verbose=0,\n",
    "    refit=True\n",
    ")"
   ]
  },
  {
   "cell_type": "code",
   "execution_count": 68,
   "id": "cb757fd6",
   "metadata": {},
   "outputs": [
    {
     "name": "stdout",
     "output_type": "stream",
     "text": [
      "CPU times: total: 15min 38s\n",
      "Wall time: 15min 38s\n"
     ]
    },
    {
     "data": {
      "text/html": [
       "<style>#sk-container-id-6 {color: black;background-color: white;}#sk-container-id-6 pre{padding: 0;}#sk-container-id-6 div.sk-toggleable {background-color: white;}#sk-container-id-6 label.sk-toggleable__label {cursor: pointer;display: block;width: 100%;margin-bottom: 0;padding: 0.3em;box-sizing: border-box;text-align: center;}#sk-container-id-6 label.sk-toggleable__label-arrow:before {content: \"▸\";float: left;margin-right: 0.25em;color: #696969;}#sk-container-id-6 label.sk-toggleable__label-arrow:hover:before {color: black;}#sk-container-id-6 div.sk-estimator:hover label.sk-toggleable__label-arrow:before {color: black;}#sk-container-id-6 div.sk-toggleable__content {max-height: 0;max-width: 0;overflow: hidden;text-align: left;background-color: #f0f8ff;}#sk-container-id-6 div.sk-toggleable__content pre {margin: 0.2em;color: black;border-radius: 0.25em;background-color: #f0f8ff;}#sk-container-id-6 input.sk-toggleable__control:checked~div.sk-toggleable__content {max-height: 200px;max-width: 100%;overflow: auto;}#sk-container-id-6 input.sk-toggleable__control:checked~label.sk-toggleable__label-arrow:before {content: \"▾\";}#sk-container-id-6 div.sk-estimator input.sk-toggleable__control:checked~label.sk-toggleable__label {background-color: #d4ebff;}#sk-container-id-6 div.sk-label input.sk-toggleable__control:checked~label.sk-toggleable__label {background-color: #d4ebff;}#sk-container-id-6 input.sk-hidden--visually {border: 0;clip: rect(1px 1px 1px 1px);clip: rect(1px, 1px, 1px, 1px);height: 1px;margin: -1px;overflow: hidden;padding: 0;position: absolute;width: 1px;}#sk-container-id-6 div.sk-estimator {font-family: monospace;background-color: #f0f8ff;border: 1px dotted black;border-radius: 0.25em;box-sizing: border-box;margin-bottom: 0.5em;}#sk-container-id-6 div.sk-estimator:hover {background-color: #d4ebff;}#sk-container-id-6 div.sk-parallel-item::after {content: \"\";width: 100%;border-bottom: 1px solid gray;flex-grow: 1;}#sk-container-id-6 div.sk-label:hover label.sk-toggleable__label {background-color: #d4ebff;}#sk-container-id-6 div.sk-serial::before {content: \"\";position: absolute;border-left: 1px solid gray;box-sizing: border-box;top: 0;bottom: 0;left: 50%;z-index: 0;}#sk-container-id-6 div.sk-serial {display: flex;flex-direction: column;align-items: center;background-color: white;padding-right: 0.2em;padding-left: 0.2em;position: relative;}#sk-container-id-6 div.sk-item {position: relative;z-index: 1;}#sk-container-id-6 div.sk-parallel {display: flex;align-items: stretch;justify-content: center;background-color: white;position: relative;}#sk-container-id-6 div.sk-item::before, #sk-container-id-6 div.sk-parallel-item::before {content: \"\";position: absolute;border-left: 1px solid gray;box-sizing: border-box;top: 0;bottom: 0;left: 50%;z-index: -1;}#sk-container-id-6 div.sk-parallel-item {display: flex;flex-direction: column;z-index: 1;position: relative;background-color: white;}#sk-container-id-6 div.sk-parallel-item:first-child::after {align-self: flex-end;width: 50%;}#sk-container-id-6 div.sk-parallel-item:last-child::after {align-self: flex-start;width: 50%;}#sk-container-id-6 div.sk-parallel-item:only-child::after {width: 0;}#sk-container-id-6 div.sk-dashed-wrapped {border: 1px dashed gray;margin: 0 0.4em 0.5em 0.4em;box-sizing: border-box;padding-bottom: 0.4em;background-color: white;}#sk-container-id-6 div.sk-label label {font-family: monospace;font-weight: bold;display: inline-block;line-height: 1.2em;}#sk-container-id-6 div.sk-label-container {text-align: center;}#sk-container-id-6 div.sk-container {/* jupyter's `normalize.less` sets `[hidden] { display: none; }` but bootstrap.min.css set `[hidden] { display: none !important; }` so we also need the `!important` here to be able to override the default hidden behavior on the sphinx rendered scikit-learn.org. See: https://github.com/scikit-learn/scikit-learn/issues/21755 */display: inline-block !important;position: relative;}#sk-container-id-6 div.sk-text-repr-fallback {display: none;}</style><div id=\"sk-container-id-6\" class=\"sk-top-container\"><div class=\"sk-text-repr-fallback\"><pre>GridSearchCV(cv=3,\n",
       "             estimator=Pipeline(steps=[(&#x27;tf_idf&#x27;,\n",
       "                                        TfidfVectorizer(stop_words={&#x27;a&#x27;,\n",
       "                                                                    &#x27;about&#x27;,\n",
       "                                                                    &#x27;above&#x27;,\n",
       "                                                                    &#x27;after&#x27;,\n",
       "                                                                    &#x27;again&#x27;,\n",
       "                                                                    &#x27;against&#x27;,\n",
       "                                                                    &#x27;ain&#x27;,\n",
       "                                                                    &#x27;all&#x27;, &#x27;am&#x27;,\n",
       "                                                                    &#x27;an&#x27;, &#x27;and&#x27;,\n",
       "                                                                    &#x27;any&#x27;,\n",
       "                                                                    &#x27;are&#x27;,\n",
       "                                                                    &#x27;aren&#x27;,\n",
       "                                                                    &quot;aren&#x27;t&quot;,\n",
       "                                                                    &#x27;as&#x27;, &#x27;at&#x27;,\n",
       "                                                                    &#x27;be&#x27;,\n",
       "                                                                    &#x27;because&#x27;,\n",
       "                                                                    &#x27;been&#x27;,\n",
       "                                                                    &#x27;before&#x27;,\n",
       "                                                                    &#x27;being&#x27;,\n",
       "                                                                    &#x27;below&#x27;,\n",
       "                                                                    &#x27;between&#x27;,\n",
       "                                                                    &#x27;both&#x27;,\n",
       "                                                                    &#x27;but&#x27;, &#x27;by&#x27;,\n",
       "                                                                    &#x27;can&#x27;,\n",
       "                                                                    &#x27;couldn&#x27;,\n",
       "                                                                    &quot;couldn&#x27;t&quot;, ...})),\n",
       "                                       (&#x27;sgdc&#x27;,\n",
       "                                        SGDClassifier(learning_rate=&#x27;invscaling&#x27;,\n",
       "                                                      random_state=777))]),\n",
       "             param_grid={&#x27;sgdc__alpha&#x27;: [0.01, 0.001, 0.0001],\n",
       "                         &#x27;sgdc__class_weight&#x27;: [None, &#x27;balanced&#x27;],\n",
       "                         &#x27;sgdc__eta0&#x27;: [0.01],\n",
       "                         &#x27;sgdc__loss&#x27;: [&#x27;hinge&#x27;, &#x27;log_loss&#x27;, &#x27;perceptron&#x27;],\n",
       "                         &#x27;sgdc__max_iter&#x27;: [1000, 2000],\n",
       "                         &#x27;sgdc__power_t&#x27;: [0.24, 0.25]},\n",
       "             scoring=&#x27;f1&#x27;)</pre><b>In a Jupyter environment, please rerun this cell to show the HTML representation or trust the notebook. <br />On GitHub, the HTML representation is unable to render, please try loading this page with nbviewer.org.</b></div><div class=\"sk-container\" hidden><div class=\"sk-item sk-dashed-wrapped\"><div class=\"sk-label-container\"><div class=\"sk-label sk-toggleable\"><input class=\"sk-toggleable__control sk-hidden--visually\" id=\"sk-estimator-id-20\" type=\"checkbox\" ><label for=\"sk-estimator-id-20\" class=\"sk-toggleable__label sk-toggleable__label-arrow\">GridSearchCV</label><div class=\"sk-toggleable__content\"><pre>GridSearchCV(cv=3,\n",
       "             estimator=Pipeline(steps=[(&#x27;tf_idf&#x27;,\n",
       "                                        TfidfVectorizer(stop_words={&#x27;a&#x27;,\n",
       "                                                                    &#x27;about&#x27;,\n",
       "                                                                    &#x27;above&#x27;,\n",
       "                                                                    &#x27;after&#x27;,\n",
       "                                                                    &#x27;again&#x27;,\n",
       "                                                                    &#x27;against&#x27;,\n",
       "                                                                    &#x27;ain&#x27;,\n",
       "                                                                    &#x27;all&#x27;, &#x27;am&#x27;,\n",
       "                                                                    &#x27;an&#x27;, &#x27;and&#x27;,\n",
       "                                                                    &#x27;any&#x27;,\n",
       "                                                                    &#x27;are&#x27;,\n",
       "                                                                    &#x27;aren&#x27;,\n",
       "                                                                    &quot;aren&#x27;t&quot;,\n",
       "                                                                    &#x27;as&#x27;, &#x27;at&#x27;,\n",
       "                                                                    &#x27;be&#x27;,\n",
       "                                                                    &#x27;because&#x27;,\n",
       "                                                                    &#x27;been&#x27;,\n",
       "                                                                    &#x27;before&#x27;,\n",
       "                                                                    &#x27;being&#x27;,\n",
       "                                                                    &#x27;below&#x27;,\n",
       "                                                                    &#x27;between&#x27;,\n",
       "                                                                    &#x27;both&#x27;,\n",
       "                                                                    &#x27;but&#x27;, &#x27;by&#x27;,\n",
       "                                                                    &#x27;can&#x27;,\n",
       "                                                                    &#x27;couldn&#x27;,\n",
       "                                                                    &quot;couldn&#x27;t&quot;, ...})),\n",
       "                                       (&#x27;sgdc&#x27;,\n",
       "                                        SGDClassifier(learning_rate=&#x27;invscaling&#x27;,\n",
       "                                                      random_state=777))]),\n",
       "             param_grid={&#x27;sgdc__alpha&#x27;: [0.01, 0.001, 0.0001],\n",
       "                         &#x27;sgdc__class_weight&#x27;: [None, &#x27;balanced&#x27;],\n",
       "                         &#x27;sgdc__eta0&#x27;: [0.01],\n",
       "                         &#x27;sgdc__loss&#x27;: [&#x27;hinge&#x27;, &#x27;log_loss&#x27;, &#x27;perceptron&#x27;],\n",
       "                         &#x27;sgdc__max_iter&#x27;: [1000, 2000],\n",
       "                         &#x27;sgdc__power_t&#x27;: [0.24, 0.25]},\n",
       "             scoring=&#x27;f1&#x27;)</pre></div></div></div><div class=\"sk-parallel\"><div class=\"sk-parallel-item\"><div class=\"sk-item\"><div class=\"sk-label-container\"><div class=\"sk-label sk-toggleable\"><input class=\"sk-toggleable__control sk-hidden--visually\" id=\"sk-estimator-id-21\" type=\"checkbox\" ><label for=\"sk-estimator-id-21\" class=\"sk-toggleable__label sk-toggleable__label-arrow\">estimator: Pipeline</label><div class=\"sk-toggleable__content\"><pre>Pipeline(steps=[(&#x27;tf_idf&#x27;,\n",
       "                 TfidfVectorizer(stop_words={&#x27;a&#x27;, &#x27;about&#x27;, &#x27;above&#x27;, &#x27;after&#x27;,\n",
       "                                             &#x27;again&#x27;, &#x27;against&#x27;, &#x27;ain&#x27;, &#x27;all&#x27;,\n",
       "                                             &#x27;am&#x27;, &#x27;an&#x27;, &#x27;and&#x27;, &#x27;any&#x27;, &#x27;are&#x27;,\n",
       "                                             &#x27;aren&#x27;, &quot;aren&#x27;t&quot;, &#x27;as&#x27;, &#x27;at&#x27;, &#x27;be&#x27;,\n",
       "                                             &#x27;because&#x27;, &#x27;been&#x27;, &#x27;before&#x27;,\n",
       "                                             &#x27;being&#x27;, &#x27;below&#x27;, &#x27;between&#x27;,\n",
       "                                             &#x27;both&#x27;, &#x27;but&#x27;, &#x27;by&#x27;, &#x27;can&#x27;,\n",
       "                                             &#x27;couldn&#x27;, &quot;couldn&#x27;t&quot;, ...})),\n",
       "                (&#x27;sgdc&#x27;,\n",
       "                 SGDClassifier(learning_rate=&#x27;invscaling&#x27;, random_state=777))])</pre></div></div></div><div class=\"sk-serial\"><div class=\"sk-item\"><div class=\"sk-serial\"><div class=\"sk-item\"><div class=\"sk-estimator sk-toggleable\"><input class=\"sk-toggleable__control sk-hidden--visually\" id=\"sk-estimator-id-22\" type=\"checkbox\" ><label for=\"sk-estimator-id-22\" class=\"sk-toggleable__label sk-toggleable__label-arrow\">TfidfVectorizer</label><div class=\"sk-toggleable__content\"><pre>TfidfVectorizer(stop_words={&#x27;a&#x27;, &#x27;about&#x27;, &#x27;above&#x27;, &#x27;after&#x27;, &#x27;again&#x27;, &#x27;against&#x27;,\n",
       "                            &#x27;ain&#x27;, &#x27;all&#x27;, &#x27;am&#x27;, &#x27;an&#x27;, &#x27;and&#x27;, &#x27;any&#x27;, &#x27;are&#x27;,\n",
       "                            &#x27;aren&#x27;, &quot;aren&#x27;t&quot;, &#x27;as&#x27;, &#x27;at&#x27;, &#x27;be&#x27;, &#x27;because&#x27;,\n",
       "                            &#x27;been&#x27;, &#x27;before&#x27;, &#x27;being&#x27;, &#x27;below&#x27;, &#x27;between&#x27;,\n",
       "                            &#x27;both&#x27;, &#x27;but&#x27;, &#x27;by&#x27;, &#x27;can&#x27;, &#x27;couldn&#x27;, &quot;couldn&#x27;t&quot;, ...})</pre></div></div></div><div class=\"sk-item\"><div class=\"sk-estimator sk-toggleable\"><input class=\"sk-toggleable__control sk-hidden--visually\" id=\"sk-estimator-id-23\" type=\"checkbox\" ><label for=\"sk-estimator-id-23\" class=\"sk-toggleable__label sk-toggleable__label-arrow\">SGDClassifier</label><div class=\"sk-toggleable__content\"><pre>SGDClassifier(learning_rate=&#x27;invscaling&#x27;, random_state=777)</pre></div></div></div></div></div></div></div></div></div></div></div></div>"
      ],
      "text/plain": [
       "GridSearchCV(cv=3,\n",
       "             estimator=Pipeline(steps=[('tf_idf',\n",
       "                                        TfidfVectorizer(stop_words={'a',\n",
       "                                                                    'about',\n",
       "                                                                    'above',\n",
       "                                                                    'after',\n",
       "                                                                    'again',\n",
       "                                                                    'against',\n",
       "                                                                    'ain',\n",
       "                                                                    'all', 'am',\n",
       "                                                                    'an', 'and',\n",
       "                                                                    'any',\n",
       "                                                                    'are',\n",
       "                                                                    'aren',\n",
       "                                                                    \"aren't\",\n",
       "                                                                    'as', 'at',\n",
       "                                                                    'be',\n",
       "                                                                    'because',\n",
       "                                                                    'been',\n",
       "                                                                    'before',\n",
       "                                                                    'being',\n",
       "                                                                    'below',\n",
       "                                                                    'between',\n",
       "                                                                    'both',\n",
       "                                                                    'but', 'by',\n",
       "                                                                    'can',\n",
       "                                                                    'couldn',\n",
       "                                                                    \"couldn't\", ...})),\n",
       "                                       ('sgdc',\n",
       "                                        SGDClassifier(learning_rate='invscaling',\n",
       "                                                      random_state=777))]),\n",
       "             param_grid={'sgdc__alpha': [0.01, 0.001, 0.0001],\n",
       "                         'sgdc__class_weight': [None, 'balanced'],\n",
       "                         'sgdc__eta0': [0.01],\n",
       "                         'sgdc__loss': ['hinge', 'log_loss', 'perceptron'],\n",
       "                         'sgdc__max_iter': [1000, 2000],\n",
       "                         'sgdc__power_t': [0.24, 0.25]},\n",
       "             scoring='f1')"
      ]
     },
     "execution_count": 68,
     "metadata": {},
     "output_type": "execute_result"
    }
   ],
   "source": [
    "%%time\n",
    "# Запуск поиска лучших параметров модели стохастического\n",
    "# градиентного спуска с выводом времени обучения\n",
    "gs_sgdc.fit(corpus_train, target_train)"
   ]
  },
  {
   "cell_type": "code",
   "execution_count": 69,
   "id": "4da52621",
   "metadata": {},
   "outputs": [
    {
     "data": {
      "text/plain": [
       "{'sgdc__alpha': 0.0001,\n",
       " 'sgdc__class_weight': None,\n",
       " 'sgdc__eta0': 0.01,\n",
       " 'sgdc__loss': 'perceptron',\n",
       " 'sgdc__max_iter': 1000,\n",
       " 'sgdc__power_t': 0.24}"
      ]
     },
     "execution_count": 69,
     "metadata": {},
     "output_type": "execute_result"
    }
   ],
   "source": [
    "# Вывод параметров лучшей модели по best_score_\n",
    "gs_sgdc.best_params_"
   ]
  },
  {
   "cell_type": "code",
   "execution_count": 70,
   "id": "408e9643",
   "metadata": {},
   "outputs": [
    {
     "data": {
      "text/plain": [
       "0.74"
      ]
     },
     "execution_count": 70,
     "metadata": {},
     "output_type": "execute_result"
    }
   ],
   "source": [
    "# Вывод средней оценки кросс-валидации\n",
    "# для модели с лучшими параметрами\n",
    "np.round(gs_sgdc.best_score_, decimals=2)"
   ]
  },
  {
   "cell_type": "code",
   "execution_count": 71,
   "id": "01b4a60d",
   "metadata": {},
   "outputs": [
    {
     "data": {
      "text/plain": [
       "3.9819841384887695"
      ]
     },
     "execution_count": 71,
     "metadata": {},
     "output_type": "execute_result"
    }
   ],
   "source": [
    "# Вывод времени обучения модели по\n",
    "# лучшим параметрам\n",
    "gs_sgdc.refit_time_"
   ]
  },
  {
   "cell_type": "code",
   "execution_count": 72,
   "id": "bde1ee42",
   "metadata": {},
   "outputs": [],
   "source": [
    "# Получение предсказаний на тестовой выборке\n",
    "gs_sgdc_test_predictions = gs_sgdc.predict(corpus_test)"
   ]
  },
  {
   "cell_type": "code",
   "execution_count": 73,
   "id": "2da98b05",
   "metadata": {},
   "outputs": [
    {
     "data": {
      "text/plain": [
       "0.72"
      ]
     },
     "execution_count": 73,
     "metadata": {},
     "output_type": "execute_result"
    }
   ],
   "source": [
    "# Вывод среднего гармонического F1\n",
    "# на тестовой выборке\n",
    "np.round(f1_score(target_test, gs_sgdc_test_predictions), decimals=2)"
   ]
  },
  {
   "cell_type": "markdown",
   "id": "7e0c3426",
   "metadata": {},
   "source": [
    "<div class=\"alert alert-block alert-warning\">\n",
    "<span style=\"color:green\"><font size=\"3\" face=\"Arial\"><b>Промежуточные выводы 3.2:<b/></span><br>\n",
    "    <br>\n",
    "<span style=\"color:steelblue\"><font size=\"3\" face=\"Courier\"><b>1. Поиск лучших параметров модели занял <code>15</code> минут <code>38</code> секунд.<br>\n",
    "    2.1. Оптимально стохастический градиентный спуск <code>SGDClassifier</code> обучается при количестве итераций <code>1000</code> с коэффициентом регуляризации <code>0.0001</code>, начальной скоростью обучения <code>0.01</code> и показателем степени обратного масштабирования скорости обучения <code>0.24</code>; количество блоков кросс-валидации <code>3</code>.<br>\n",
    "    2.2. Среднее гармоническое (<code>F1</code>) при этих параметрах составляет:<br>\n",
    "    - на обучающей выборке <code>0.74</code>;<br>\n",
    "    - на тестовой выборке <code>0.72</code>.<br>\n",
    "    3. Время обучения модели на лучших параметрах составило <code>3.98</code> секунды. Скорость обучения очень высокая.</b></span></div>"
   ]
  },
  {
   "cell_type": "markdown",
   "id": "34518ab9",
   "metadata": {},
   "source": [
    "###  Исследование модели решающего дерева - DecisionTreeClassifier"
   ]
  },
  {
   "cell_type": "code",
   "execution_count": 74,
   "id": "d2ef4d92",
   "metadata": {},
   "outputs": [],
   "source": [
    "# Формирование конвейера\n",
    "pipeline_tree = Pipeline(\n",
    "    [\n",
    "        ('tf_idf', TfidfVectorizer(stop_words=stop_words)),\n",
    "        ('tree', DecisionTreeClassifier(random_state=777,\n",
    "                                        class_weight='balanced'))\n",
    "    ]\n",
    ")"
   ]
  },
  {
   "cell_type": "code",
   "execution_count": 75,
   "id": "4d6616ba",
   "metadata": {},
   "outputs": [],
   "source": [
    "# Создание переменной со словарём параметров\n",
    "param_tree = {\n",
    "    'tree__max_depth': list(range(5, 16, 2)),\n",
    "    'tree__min_samples_leaf': list(range(5, 12, 2))\n",
    "}"
   ]
  },
  {
   "cell_type": "code",
   "execution_count": 76,
   "id": "da0313a2",
   "metadata": {},
   "outputs": [],
   "source": [
    "# Задание параметров поиска по сетке\n",
    "gs_tree = GridSearchCV(\n",
    "    pipeline_tree,\n",
    "    param_grid=param_tree,\n",
    "    scoring='f1',\n",
    "    cv=3,\n",
    "    verbose=1,\n",
    "    refit=True\n",
    ")"
   ]
  },
  {
   "cell_type": "code",
   "execution_count": 77,
   "id": "5e3ee09d",
   "metadata": {},
   "outputs": [
    {
     "name": "stdout",
     "output_type": "stream",
     "text": [
      "Fitting 3 folds for each of 24 candidates, totalling 72 fits\n",
      "CPU times: total: 7min 31s\n",
      "Wall time: 7min 31s\n"
     ]
    },
    {
     "data": {
      "text/html": [
       "<style>#sk-container-id-7 {color: black;background-color: white;}#sk-container-id-7 pre{padding: 0;}#sk-container-id-7 div.sk-toggleable {background-color: white;}#sk-container-id-7 label.sk-toggleable__label {cursor: pointer;display: block;width: 100%;margin-bottom: 0;padding: 0.3em;box-sizing: border-box;text-align: center;}#sk-container-id-7 label.sk-toggleable__label-arrow:before {content: \"▸\";float: left;margin-right: 0.25em;color: #696969;}#sk-container-id-7 label.sk-toggleable__label-arrow:hover:before {color: black;}#sk-container-id-7 div.sk-estimator:hover label.sk-toggleable__label-arrow:before {color: black;}#sk-container-id-7 div.sk-toggleable__content {max-height: 0;max-width: 0;overflow: hidden;text-align: left;background-color: #f0f8ff;}#sk-container-id-7 div.sk-toggleable__content pre {margin: 0.2em;color: black;border-radius: 0.25em;background-color: #f0f8ff;}#sk-container-id-7 input.sk-toggleable__control:checked~div.sk-toggleable__content {max-height: 200px;max-width: 100%;overflow: auto;}#sk-container-id-7 input.sk-toggleable__control:checked~label.sk-toggleable__label-arrow:before {content: \"▾\";}#sk-container-id-7 div.sk-estimator input.sk-toggleable__control:checked~label.sk-toggleable__label {background-color: #d4ebff;}#sk-container-id-7 div.sk-label input.sk-toggleable__control:checked~label.sk-toggleable__label {background-color: #d4ebff;}#sk-container-id-7 input.sk-hidden--visually {border: 0;clip: rect(1px 1px 1px 1px);clip: rect(1px, 1px, 1px, 1px);height: 1px;margin: -1px;overflow: hidden;padding: 0;position: absolute;width: 1px;}#sk-container-id-7 div.sk-estimator {font-family: monospace;background-color: #f0f8ff;border: 1px dotted black;border-radius: 0.25em;box-sizing: border-box;margin-bottom: 0.5em;}#sk-container-id-7 div.sk-estimator:hover {background-color: #d4ebff;}#sk-container-id-7 div.sk-parallel-item::after {content: \"\";width: 100%;border-bottom: 1px solid gray;flex-grow: 1;}#sk-container-id-7 div.sk-label:hover label.sk-toggleable__label {background-color: #d4ebff;}#sk-container-id-7 div.sk-serial::before {content: \"\";position: absolute;border-left: 1px solid gray;box-sizing: border-box;top: 0;bottom: 0;left: 50%;z-index: 0;}#sk-container-id-7 div.sk-serial {display: flex;flex-direction: column;align-items: center;background-color: white;padding-right: 0.2em;padding-left: 0.2em;position: relative;}#sk-container-id-7 div.sk-item {position: relative;z-index: 1;}#sk-container-id-7 div.sk-parallel {display: flex;align-items: stretch;justify-content: center;background-color: white;position: relative;}#sk-container-id-7 div.sk-item::before, #sk-container-id-7 div.sk-parallel-item::before {content: \"\";position: absolute;border-left: 1px solid gray;box-sizing: border-box;top: 0;bottom: 0;left: 50%;z-index: -1;}#sk-container-id-7 div.sk-parallel-item {display: flex;flex-direction: column;z-index: 1;position: relative;background-color: white;}#sk-container-id-7 div.sk-parallel-item:first-child::after {align-self: flex-end;width: 50%;}#sk-container-id-7 div.sk-parallel-item:last-child::after {align-self: flex-start;width: 50%;}#sk-container-id-7 div.sk-parallel-item:only-child::after {width: 0;}#sk-container-id-7 div.sk-dashed-wrapped {border: 1px dashed gray;margin: 0 0.4em 0.5em 0.4em;box-sizing: border-box;padding-bottom: 0.4em;background-color: white;}#sk-container-id-7 div.sk-label label {font-family: monospace;font-weight: bold;display: inline-block;line-height: 1.2em;}#sk-container-id-7 div.sk-label-container {text-align: center;}#sk-container-id-7 div.sk-container {/* jupyter's `normalize.less` sets `[hidden] { display: none; }` but bootstrap.min.css set `[hidden] { display: none !important; }` so we also need the `!important` here to be able to override the default hidden behavior on the sphinx rendered scikit-learn.org. See: https://github.com/scikit-learn/scikit-learn/issues/21755 */display: inline-block !important;position: relative;}#sk-container-id-7 div.sk-text-repr-fallback {display: none;}</style><div id=\"sk-container-id-7\" class=\"sk-top-container\"><div class=\"sk-text-repr-fallback\"><pre>GridSearchCV(cv=3,\n",
       "             estimator=Pipeline(steps=[(&#x27;tf_idf&#x27;,\n",
       "                                        TfidfVectorizer(stop_words={&#x27;a&#x27;,\n",
       "                                                                    &#x27;about&#x27;,\n",
       "                                                                    &#x27;above&#x27;,\n",
       "                                                                    &#x27;after&#x27;,\n",
       "                                                                    &#x27;again&#x27;,\n",
       "                                                                    &#x27;against&#x27;,\n",
       "                                                                    &#x27;ain&#x27;,\n",
       "                                                                    &#x27;all&#x27;, &#x27;am&#x27;,\n",
       "                                                                    &#x27;an&#x27;, &#x27;and&#x27;,\n",
       "                                                                    &#x27;any&#x27;,\n",
       "                                                                    &#x27;are&#x27;,\n",
       "                                                                    &#x27;aren&#x27;,\n",
       "                                                                    &quot;aren&#x27;t&quot;,\n",
       "                                                                    &#x27;as&#x27;, &#x27;at&#x27;,\n",
       "                                                                    &#x27;be&#x27;,\n",
       "                                                                    &#x27;because&#x27;,\n",
       "                                                                    &#x27;been&#x27;,\n",
       "                                                                    &#x27;before&#x27;,\n",
       "                                                                    &#x27;being&#x27;,\n",
       "                                                                    &#x27;below&#x27;,\n",
       "                                                                    &#x27;between&#x27;,\n",
       "                                                                    &#x27;both&#x27;,\n",
       "                                                                    &#x27;but&#x27;, &#x27;by&#x27;,\n",
       "                                                                    &#x27;can&#x27;,\n",
       "                                                                    &#x27;couldn&#x27;,\n",
       "                                                                    &quot;couldn&#x27;t&quot;, ...})),\n",
       "                                       (&#x27;tree&#x27;,\n",
       "                                        DecisionTreeClassifier(class_weight=&#x27;balanced&#x27;,\n",
       "                                                               random_state=777))]),\n",
       "             param_grid={&#x27;tree__max_depth&#x27;: [5, 7, 9, 11, 13, 15],\n",
       "                         &#x27;tree__min_samples_leaf&#x27;: [5, 7, 9, 11]},\n",
       "             scoring=&#x27;f1&#x27;, verbose=1)</pre><b>In a Jupyter environment, please rerun this cell to show the HTML representation or trust the notebook. <br />On GitHub, the HTML representation is unable to render, please try loading this page with nbviewer.org.</b></div><div class=\"sk-container\" hidden><div class=\"sk-item sk-dashed-wrapped\"><div class=\"sk-label-container\"><div class=\"sk-label sk-toggleable\"><input class=\"sk-toggleable__control sk-hidden--visually\" id=\"sk-estimator-id-24\" type=\"checkbox\" ><label for=\"sk-estimator-id-24\" class=\"sk-toggleable__label sk-toggleable__label-arrow\">GridSearchCV</label><div class=\"sk-toggleable__content\"><pre>GridSearchCV(cv=3,\n",
       "             estimator=Pipeline(steps=[(&#x27;tf_idf&#x27;,\n",
       "                                        TfidfVectorizer(stop_words={&#x27;a&#x27;,\n",
       "                                                                    &#x27;about&#x27;,\n",
       "                                                                    &#x27;above&#x27;,\n",
       "                                                                    &#x27;after&#x27;,\n",
       "                                                                    &#x27;again&#x27;,\n",
       "                                                                    &#x27;against&#x27;,\n",
       "                                                                    &#x27;ain&#x27;,\n",
       "                                                                    &#x27;all&#x27;, &#x27;am&#x27;,\n",
       "                                                                    &#x27;an&#x27;, &#x27;and&#x27;,\n",
       "                                                                    &#x27;any&#x27;,\n",
       "                                                                    &#x27;are&#x27;,\n",
       "                                                                    &#x27;aren&#x27;,\n",
       "                                                                    &quot;aren&#x27;t&quot;,\n",
       "                                                                    &#x27;as&#x27;, &#x27;at&#x27;,\n",
       "                                                                    &#x27;be&#x27;,\n",
       "                                                                    &#x27;because&#x27;,\n",
       "                                                                    &#x27;been&#x27;,\n",
       "                                                                    &#x27;before&#x27;,\n",
       "                                                                    &#x27;being&#x27;,\n",
       "                                                                    &#x27;below&#x27;,\n",
       "                                                                    &#x27;between&#x27;,\n",
       "                                                                    &#x27;both&#x27;,\n",
       "                                                                    &#x27;but&#x27;, &#x27;by&#x27;,\n",
       "                                                                    &#x27;can&#x27;,\n",
       "                                                                    &#x27;couldn&#x27;,\n",
       "                                                                    &quot;couldn&#x27;t&quot;, ...})),\n",
       "                                       (&#x27;tree&#x27;,\n",
       "                                        DecisionTreeClassifier(class_weight=&#x27;balanced&#x27;,\n",
       "                                                               random_state=777))]),\n",
       "             param_grid={&#x27;tree__max_depth&#x27;: [5, 7, 9, 11, 13, 15],\n",
       "                         &#x27;tree__min_samples_leaf&#x27;: [5, 7, 9, 11]},\n",
       "             scoring=&#x27;f1&#x27;, verbose=1)</pre></div></div></div><div class=\"sk-parallel\"><div class=\"sk-parallel-item\"><div class=\"sk-item\"><div class=\"sk-label-container\"><div class=\"sk-label sk-toggleable\"><input class=\"sk-toggleable__control sk-hidden--visually\" id=\"sk-estimator-id-25\" type=\"checkbox\" ><label for=\"sk-estimator-id-25\" class=\"sk-toggleable__label sk-toggleable__label-arrow\">estimator: Pipeline</label><div class=\"sk-toggleable__content\"><pre>Pipeline(steps=[(&#x27;tf_idf&#x27;,\n",
       "                 TfidfVectorizer(stop_words={&#x27;a&#x27;, &#x27;about&#x27;, &#x27;above&#x27;, &#x27;after&#x27;,\n",
       "                                             &#x27;again&#x27;, &#x27;against&#x27;, &#x27;ain&#x27;, &#x27;all&#x27;,\n",
       "                                             &#x27;am&#x27;, &#x27;an&#x27;, &#x27;and&#x27;, &#x27;any&#x27;, &#x27;are&#x27;,\n",
       "                                             &#x27;aren&#x27;, &quot;aren&#x27;t&quot;, &#x27;as&#x27;, &#x27;at&#x27;, &#x27;be&#x27;,\n",
       "                                             &#x27;because&#x27;, &#x27;been&#x27;, &#x27;before&#x27;,\n",
       "                                             &#x27;being&#x27;, &#x27;below&#x27;, &#x27;between&#x27;,\n",
       "                                             &#x27;both&#x27;, &#x27;but&#x27;, &#x27;by&#x27;, &#x27;can&#x27;,\n",
       "                                             &#x27;couldn&#x27;, &quot;couldn&#x27;t&quot;, ...})),\n",
       "                (&#x27;tree&#x27;,\n",
       "                 DecisionTreeClassifier(class_weight=&#x27;balanced&#x27;,\n",
       "                                        random_state=777))])</pre></div></div></div><div class=\"sk-serial\"><div class=\"sk-item\"><div class=\"sk-serial\"><div class=\"sk-item\"><div class=\"sk-estimator sk-toggleable\"><input class=\"sk-toggleable__control sk-hidden--visually\" id=\"sk-estimator-id-26\" type=\"checkbox\" ><label for=\"sk-estimator-id-26\" class=\"sk-toggleable__label sk-toggleable__label-arrow\">TfidfVectorizer</label><div class=\"sk-toggleable__content\"><pre>TfidfVectorizer(stop_words={&#x27;a&#x27;, &#x27;about&#x27;, &#x27;above&#x27;, &#x27;after&#x27;, &#x27;again&#x27;, &#x27;against&#x27;,\n",
       "                            &#x27;ain&#x27;, &#x27;all&#x27;, &#x27;am&#x27;, &#x27;an&#x27;, &#x27;and&#x27;, &#x27;any&#x27;, &#x27;are&#x27;,\n",
       "                            &#x27;aren&#x27;, &quot;aren&#x27;t&quot;, &#x27;as&#x27;, &#x27;at&#x27;, &#x27;be&#x27;, &#x27;because&#x27;,\n",
       "                            &#x27;been&#x27;, &#x27;before&#x27;, &#x27;being&#x27;, &#x27;below&#x27;, &#x27;between&#x27;,\n",
       "                            &#x27;both&#x27;, &#x27;but&#x27;, &#x27;by&#x27;, &#x27;can&#x27;, &#x27;couldn&#x27;, &quot;couldn&#x27;t&quot;, ...})</pre></div></div></div><div class=\"sk-item\"><div class=\"sk-estimator sk-toggleable\"><input class=\"sk-toggleable__control sk-hidden--visually\" id=\"sk-estimator-id-27\" type=\"checkbox\" ><label for=\"sk-estimator-id-27\" class=\"sk-toggleable__label sk-toggleable__label-arrow\">DecisionTreeClassifier</label><div class=\"sk-toggleable__content\"><pre>DecisionTreeClassifier(class_weight=&#x27;balanced&#x27;, random_state=777)</pre></div></div></div></div></div></div></div></div></div></div></div></div>"
      ],
      "text/plain": [
       "GridSearchCV(cv=3,\n",
       "             estimator=Pipeline(steps=[('tf_idf',\n",
       "                                        TfidfVectorizer(stop_words={'a',\n",
       "                                                                    'about',\n",
       "                                                                    'above',\n",
       "                                                                    'after',\n",
       "                                                                    'again',\n",
       "                                                                    'against',\n",
       "                                                                    'ain',\n",
       "                                                                    'all', 'am',\n",
       "                                                                    'an', 'and',\n",
       "                                                                    'any',\n",
       "                                                                    'are',\n",
       "                                                                    'aren',\n",
       "                                                                    \"aren't\",\n",
       "                                                                    'as', 'at',\n",
       "                                                                    'be',\n",
       "                                                                    'because',\n",
       "                                                                    'been',\n",
       "                                                                    'before',\n",
       "                                                                    'being',\n",
       "                                                                    'below',\n",
       "                                                                    'between',\n",
       "                                                                    'both',\n",
       "                                                                    'but', 'by',\n",
       "                                                                    'can',\n",
       "                                                                    'couldn',\n",
       "                                                                    \"couldn't\", ...})),\n",
       "                                       ('tree',\n",
       "                                        DecisionTreeClassifier(class_weight='balanced',\n",
       "                                                               random_state=777))]),\n",
       "             param_grid={'tree__max_depth': [5, 7, 9, 11, 13, 15],\n",
       "                         'tree__min_samples_leaf': [5, 7, 9, 11]},\n",
       "             scoring='f1', verbose=1)"
      ]
     },
     "execution_count": 77,
     "metadata": {},
     "output_type": "execute_result"
    }
   ],
   "source": [
    "%%time\n",
    "# Формирование и обучение модели решающего дерева\n",
    "# с выводом времени обучения\n",
    "gs_tree.fit(corpus_train, target_train)"
   ]
  },
  {
   "cell_type": "code",
   "execution_count": 78,
   "id": "9ff5e294",
   "metadata": {},
   "outputs": [
    {
     "data": {
      "text/plain": [
       "{'tree__max_depth': 15, 'tree__min_samples_leaf': 5}"
      ]
     },
     "execution_count": 78,
     "metadata": {},
     "output_type": "execute_result"
    }
   ],
   "source": [
    "# Вывод параметров лучшей модели по best_score_\n",
    "gs_tree.best_params_"
   ]
  },
  {
   "cell_type": "code",
   "execution_count": 79,
   "id": "5552fda9",
   "metadata": {},
   "outputs": [
    {
     "data": {
      "text/plain": [
       "0.61"
      ]
     },
     "execution_count": 79,
     "metadata": {},
     "output_type": "execute_result"
    }
   ],
   "source": [
    "# Вывод средней оценки кросс-валидации\n",
    "# для модели с лучшими параметрами\n",
    "np.round(gs_tree.best_score_, decimals=2)"
   ]
  },
  {
   "cell_type": "code",
   "execution_count": 80,
   "id": "55f923b9",
   "metadata": {},
   "outputs": [
    {
     "data": {
      "text/plain": [
       "9.873234510421753"
      ]
     },
     "execution_count": 80,
     "metadata": {},
     "output_type": "execute_result"
    }
   ],
   "source": [
    "# Вывод времени обучения модели по\n",
    "# лучшим параметрам\n",
    "gs_tree.refit_time_"
   ]
  },
  {
   "cell_type": "code",
   "execution_count": 81,
   "id": "c95dda4a",
   "metadata": {},
   "outputs": [],
   "source": [
    "# Получение предсказаний на тестовой выборке\n",
    "gs_tree_test_predictions = gs_tree.predict(corpus_test)"
   ]
  },
  {
   "cell_type": "code",
   "execution_count": 82,
   "id": "432c6214",
   "metadata": {},
   "outputs": [
    {
     "data": {
      "text/plain": [
       "0.6"
      ]
     },
     "execution_count": 82,
     "metadata": {},
     "output_type": "execute_result"
    }
   ],
   "source": [
    "# Вывод среднего гармонического F1\n",
    "# на тестовой выборке\n",
    "np.round(f1_score(target_test, gs_tree_test_predictions), decimals=2)"
   ]
  },
  {
   "cell_type": "markdown",
   "id": "0049f185",
   "metadata": {},
   "source": [
    "<div class=\"alert alert-block alert-warning\">\n",
    "<span style=\"color:green\"><font size=\"3\" face=\"Arial\"><b>Промежуточные выводы 3.3:<b/></span><br>\n",
    "    <br>\n",
    "<span style=\"color:steelblue\"><font size=\"3\" face=\"Courier\"><b>1. Поиск лучших параметров модели занял <code>7</code> минут <code>31</code> секунду.<br>\n",
    "    2.1. Чем глубже решающее дерево и чем больше блоков кросс-валидации, тем дольше оно обучается и определяется метрика качества.<br>\n",
    "    2.2. Оптимально решающее дерево <code>DecisionTreeClassifier</code> обучается до глубины дерева <code>15</code> и количества выборок в листе <code>5</code>; количество блоков кросс-валидации <code>3</code>.<br>\n",
    "    2.3. Среднее гармоническое (<code>F1</code>) при этих параметрах составляет:<br>\n",
    "    - на обучающей выборке <code>0.61</code>;<br>\n",
    "    - на тестовой выборке <code>0.6</code>.<br>\n",
    "    3. Время обучения модели на лучших параметрах составило <code>9.87</code> секунды. Скорость обучения высокая.</b></span></div>"
   ]
  },
  {
   "cell_type": "markdown",
   "id": "af5e0612",
   "metadata": {},
   "source": [
    "### Проверка моделей на адекватность с помощью DummyClassifier и тестовой выборки"
   ]
  },
  {
   "cell_type": "markdown",
   "id": "f18da708",
   "metadata": {},
   "source": [
    "<b>Проверку буду проводить на самой точной модели логистической регрессии - <code>LogisticRegression</code>.</b>"
   ]
  },
  {
   "cell_type": "markdown",
   "id": "06c88917",
   "metadata": {},
   "source": [
    "#### Проверка на тестовой выборке"
   ]
  },
  {
   "cell_type": "code",
   "execution_count": 83,
   "id": "374e7360",
   "metadata": {},
   "outputs": [],
   "source": [
    "# Формирование матрицы ошибок cm_logistic\n",
    "cm_logistic = confusion_matrix(\n",
    "    y_true=target_test,\n",
    "    y_pred=gs_logistic_test_predictions,\n",
    "    labels=gs_logistic.classes_,\n",
    "    normalize='true'\n",
    ")"
   ]
  },
  {
   "cell_type": "code",
   "execution_count": 84,
   "id": "1f86fd37",
   "metadata": {},
   "outputs": [
    {
     "data": {
      "image/png": "[encoded data removed]",
      "text/plain": [
       "<Figure size 432x288 with 2 Axes>"
      ]
     },
     "metadata": {
      "needs_background": "light"
     },
     "output_type": "display_data"
    }
   ],
   "source": [
    "# Вывод на экран матрицы ошибок cm_logistic\n",
    "ConfusionMatrixDisplay(\n",
    "    confusion_matrix=cm_logistic,\n",
    "    display_labels=gs_logistic.classes_\n",
    ").plot()\n",
    "plt.show()"
   ]
  },
  {
   "cell_type": "code",
   "execution_count": 85,
   "id": "73406766",
   "metadata": {},
   "outputs": [
    {
     "data": {
      "text/plain": [
       "0    0.898905\n",
       "1    0.101095\n",
       "Name: toxic, dtype: float64"
      ]
     },
     "execution_count": 85,
     "metadata": {},
     "output_type": "execute_result"
    }
   ],
   "source": [
    "# Вывод соотношения целевых признаков\n",
    "# в тестовой выборке\n",
    "target_test.value_counts(normalize=True)"
   ]
  },
  {
   "cell_type": "code",
   "execution_count": 86,
   "id": "604ea338",
   "metadata": {},
   "outputs": [
    {
     "name": "stdout",
     "output_type": "stream",
     "text": [
      "              precision    recall  f1-score   support\n",
      "\n",
      "     class 0       0.98      0.95      0.97     35860\n",
      "     class 1       0.68      0.85      0.75      4033\n",
      "\n",
      "    accuracy                           0.94     39893\n",
      "   macro avg       0.83      0.90      0.86     39893\n",
      "weighted avg       0.95      0.94      0.95     39893\n",
      "\n"
     ]
    }
   ],
   "source": [
    "# Вывод словаря с отчётом по метрикам качества\n",
    "print(classification_report(target_test, gs_logistic_test_predictions, target_names=['class 0', 'class 1']))"
   ]
  },
  {
   "cell_type": "markdown",
   "id": "ec5b4614",
   "metadata": {},
   "source": [
    "<div class=\"alert alert-block alert-warning\">\n",
    "<span style=\"color:green\"><font size=\"3\" face=\"Arial\"><b>Промежуточные выводы 3.4.1:<b/></span><br>\n",
    "    <br>\n",
    "<span style=\"color:steelblue\"><font size=\"3\" face=\"Courier\"><b>1. Метрика качества <code>Recall</code> (полнота) показывает, что модель определила <code>токсичные</code> комментарии (<code>класс 1.0</code>) в объёме <code>85%</code> от общего количества токсичных комментариев.<br>\n",
    "    2. Метрика качества <code>Precision</code> (точность) показывает <code>68%</code> - некоторые комментарии ошибочно отнесены к <code>токсичным</code>, и на самом деле являются <code>позитивными</code>.<br>\n",
    "    3. Несмотря на <code>дисбаланс классов</code> (в наборе данных <code>corpus_train</code> гораздо больше позитивных комментариев (<code>90%</code>), чем токсичных (<code>10%</code>)), модель хорошо обучена.</b></span></div>"
   ]
  },
  {
   "cell_type": "markdown",
   "id": "aa4173e7",
   "metadata": {},
   "source": [
    "#### Создание и обучение модели DummyClassifier на обучающей выборке"
   ]
  },
  {
   "cell_type": "code",
   "execution_count": 94,
   "id": "b5d6850e",
   "metadata": {},
   "outputs": [],
   "source": [
    "# Создание объекта структуры данных фиктивного\n",
    "# классификатора DummyClassifier\n",
    "dummy = DummyClassifier(\n",
    "    strategy='stratified', \n",
    "    random_state=777\n",
    ")"
   ]
  },
  {
   "cell_type": "code",
   "execution_count": 95,
   "id": "1e6e5d35",
   "metadata": {},
   "outputs": [
    {
     "name": "stdout",
     "output_type": "stream",
     "text": [
      "CPU times: total: 0 ns\n",
      "Wall time: 2.01 ms\n"
     ]
    },
    {
     "data": {
      "text/html": [
       "<style>#sk-container-id-10 {color: black;background-color: white;}#sk-container-id-10 pre{padding: 0;}#sk-container-id-10 div.sk-toggleable {background-color: white;}#sk-container-id-10 label.sk-toggleable__label {cursor: pointer;display: block;width: 100%;margin-bottom: 0;padding: 0.3em;box-sizing: border-box;text-align: center;}#sk-container-id-10 label.sk-toggleable__label-arrow:before {content: \"▸\";float: left;margin-right: 0.25em;color: #696969;}#sk-container-id-10 label.sk-toggleable__label-arrow:hover:before {color: black;}#sk-container-id-10 div.sk-estimator:hover label.sk-toggleable__label-arrow:before {color: black;}#sk-container-id-10 div.sk-toggleable__content {max-height: 0;max-width: 0;overflow: hidden;text-align: left;background-color: #f0f8ff;}#sk-container-id-10 div.sk-toggleable__content pre {margin: 0.2em;color: black;border-radius: 0.25em;background-color: #f0f8ff;}#sk-container-id-10 input.sk-toggleable__control:checked~div.sk-toggleable__content {max-height: 200px;max-width: 100%;overflow: auto;}#sk-container-id-10 input.sk-toggleable__control:checked~label.sk-toggleable__label-arrow:before {content: \"▾\";}#sk-container-id-10 div.sk-estimator input.sk-toggleable__control:checked~label.sk-toggleable__label {background-color: #d4ebff;}#sk-container-id-10 div.sk-label input.sk-toggleable__control:checked~label.sk-toggleable__label {background-color: #d4ebff;}#sk-container-id-10 input.sk-hidden--visually {border: 0;clip: rect(1px 1px 1px 1px);clip: rect(1px, 1px, 1px, 1px);height: 1px;margin: -1px;overflow: hidden;padding: 0;position: absolute;width: 1px;}#sk-container-id-10 div.sk-estimator {font-family: monospace;background-color: #f0f8ff;border: 1px dotted black;border-radius: 0.25em;box-sizing: border-box;margin-bottom: 0.5em;}#sk-container-id-10 div.sk-estimator:hover {background-color: #d4ebff;}#sk-container-id-10 div.sk-parallel-item::after {content: \"\";width: 100%;border-bottom: 1px solid gray;flex-grow: 1;}#sk-container-id-10 div.sk-label:hover label.sk-toggleable__label {background-color: #d4ebff;}#sk-container-id-10 div.sk-serial::before {content: \"\";position: absolute;border-left: 1px solid gray;box-sizing: border-box;top: 0;bottom: 0;left: 50%;z-index: 0;}#sk-container-id-10 div.sk-serial {display: flex;flex-direction: column;align-items: center;background-color: white;padding-right: 0.2em;padding-left: 0.2em;position: relative;}#sk-container-id-10 div.sk-item {position: relative;z-index: 1;}#sk-container-id-10 div.sk-parallel {display: flex;align-items: stretch;justify-content: center;background-color: white;position: relative;}#sk-container-id-10 div.sk-item::before, #sk-container-id-10 div.sk-parallel-item::before {content: \"\";position: absolute;border-left: 1px solid gray;box-sizing: border-box;top: 0;bottom: 0;left: 50%;z-index: -1;}#sk-container-id-10 div.sk-parallel-item {display: flex;flex-direction: column;z-index: 1;position: relative;background-color: white;}#sk-container-id-10 div.sk-parallel-item:first-child::after {align-self: flex-end;width: 50%;}#sk-container-id-10 div.sk-parallel-item:last-child::after {align-self: flex-start;width: 50%;}#sk-container-id-10 div.sk-parallel-item:only-child::after {width: 0;}#sk-container-id-10 div.sk-dashed-wrapped {border: 1px dashed gray;margin: 0 0.4em 0.5em 0.4em;box-sizing: border-box;padding-bottom: 0.4em;background-color: white;}#sk-container-id-10 div.sk-label label {font-family: monospace;font-weight: bold;display: inline-block;line-height: 1.2em;}#sk-container-id-10 div.sk-label-container {text-align: center;}#sk-container-id-10 div.sk-container {/* jupyter's `normalize.less` sets `[hidden] { display: none; }` but bootstrap.min.css set `[hidden] { display: none !important; }` so we also need the `!important` here to be able to override the default hidden behavior on the sphinx rendered scikit-learn.org. See: https://github.com/scikit-learn/scikit-learn/issues/21755 */display: inline-block !important;position: relative;}#sk-container-id-10 div.sk-text-repr-fallback {display: none;}</style><div id=\"sk-container-id-10\" class=\"sk-top-container\"><div class=\"sk-text-repr-fallback\"><pre>DummyClassifier(random_state=777, strategy=&#x27;stratified&#x27;)</pre><b>In a Jupyter environment, please rerun this cell to show the HTML representation or trust the notebook. <br />On GitHub, the HTML representation is unable to render, please try loading this page with nbviewer.org.</b></div><div class=\"sk-container\" hidden><div class=\"sk-item\"><div class=\"sk-estimator sk-toggleable\"><input class=\"sk-toggleable__control sk-hidden--visually\" id=\"sk-estimator-id-30\" type=\"checkbox\" checked><label for=\"sk-estimator-id-30\" class=\"sk-toggleable__label sk-toggleable__label-arrow\">DummyClassifier</label><div class=\"sk-toggleable__content\"><pre>DummyClassifier(random_state=777, strategy=&#x27;stratified&#x27;)</pre></div></div></div></div></div>"
      ],
      "text/plain": [
       "DummyClassifier(random_state=777, strategy='stratified')"
      ]
     },
     "execution_count": 95,
     "metadata": {},
     "output_type": "execute_result"
    }
   ],
   "source": [
    "%%time\n",
    "# Запуск обучения модели на обучающей выборке\n",
    "# с выводом времени обучения\n",
    "dummy.fit(corpus_train_vectorized, target_train)"
   ]
  },
  {
   "cell_type": "code",
   "execution_count": 96,
   "id": "07f8d675",
   "metadata": {},
   "outputs": [],
   "source": [
    "# Создание переменной с предсказаниями по тестовой\n",
    "# выборке признаков обученной моделью dummy\n",
    "predictions_test_dummy = dummy.predict(corpus_test)"
   ]
  },
  {
   "cell_type": "code",
   "execution_count": 97,
   "id": "1f13ecf4",
   "metadata": {},
   "outputs": [],
   "source": [
    "# Формирование матрицы ошибок cm_dummy\n",
    "cm_dummy = confusion_matrix(\n",
    "    y_true=target_test,\n",
    "    y_pred=predictions_test_dummy,\n",
    "    labels=dummy.classes_,\n",
    "    normalize='true'\n",
    ")"
   ]
  },
  {
   "cell_type": "code",
   "execution_count": 98,
   "id": "efe1b4b3",
   "metadata": {},
   "outputs": [
    {
     "data": {
      "image/png": "[encoded data removed]",
      "text/plain": [
       "<Figure size 432x288 with 2 Axes>"
      ]
     },
     "metadata": {
      "needs_background": "light"
     },
     "output_type": "display_data"
    }
   ],
   "source": [
    "# Вывод на экран матрицы ошибок cm_dummy\n",
    "ConfusionMatrixDisplay(\n",
    "    confusion_matrix=cm_dummy,\n",
    "    display_labels=dummy.classes_\n",
    ").plot()\n",
    "plt.show()"
   ]
  },
  {
   "cell_type": "code",
   "execution_count": 99,
   "id": "52c79dec",
   "metadata": {},
   "outputs": [
    {
     "name": "stdout",
     "output_type": "stream",
     "text": [
      "              precision    recall  f1-score   support\n",
      "\n",
      "     class 0       0.90      0.90      0.90     35860\n",
      "     class 1       0.11      0.10      0.11      4033\n",
      "\n",
      "    accuracy                           0.82     39893\n",
      "   macro avg       0.50      0.50      0.50     39893\n",
      "weighted avg       0.82      0.82      0.82     39893\n",
      "\n"
     ]
    }
   ],
   "source": [
    "# Вывод словаря с отчётом по метрикам качества\n",
    "print(classification_report(target_test, predictions_test_dummy, target_names=['class 0', 'class 1']))"
   ]
  },
  {
   "cell_type": "markdown",
   "id": "33242012",
   "metadata": {},
   "source": [
    "<div class=\"alert alert-block alert-warning\">\n",
    "<span style=\"color:green\"><font size=\"3\" face=\"Arial\"><b>Промежуточные выводы 3.4.2:<b/></span><br>\n",
    "    <br>\n",
    "<span style=\"color:steelblue\"><font size=\"3\" face=\"Courier\"><b>1. Из-за <code>дисбаланса классов</code> в наборе данных <code>corpus_train_vectorized</code> фиктивный классификатор предсказывает лучше позитивные комментарии.<br>\n",
    "    Из этого следует, что <code>LogisticRegression</code> хорошо определяет <code>положительные</code> комментарии, а хуже - <code>токсичные</code>.<br>\n",
    "    2. Для улучшения показателей следует устранить дисбаланс классов.</b></span></div>"
   ]
  },
  {
   "cell_type": "markdown",
   "id": "9c451f62",
   "metadata": {},
   "source": [
    "## BERT"
   ]
  },
  {
   "cell_type": "markdown",
   "id": "91d02442",
   "metadata": {},
   "source": [
    "<b>Формирование признаков буду выполнять на предобученной модели без чувствительности к регистру <code>BERT (uncased)</code>.<br>\n",
    "Для работы модели необходимо будет привести все векторы признаков к одной длине через добавление <code>нулевых</code> значений.</b>"
   ]
  },
  {
   "cell_type": "markdown",
   "id": "2b199c05",
   "metadata": {},
   "source": [
    "### Создание и запуск основных объектов"
   ]
  },
  {
   "cell_type": "code",
   "execution_count": 100,
   "id": "d4c75292",
   "metadata": {},
   "outputs": [],
   "source": [
    "# Инициализация токенизатора класса BertTokenizer\n",
    "tokenizer = transformers.BertTokenizer.from_pretrained('bert-base-uncased')"
   ]
  },
  {
   "cell_type": "code",
   "execution_count": 101,
   "id": "93b0af60",
   "metadata": {},
   "outputs": [
    {
     "name": "stderr",
     "output_type": "stream",
     "text": [
      "Some weights of the model checkpoint at bert-base-uncased were not used when initializing BertModel: ['cls.predictions.decoder.weight', 'cls.seq_relationship.weight', 'cls.predictions.transform.LayerNorm.bias', 'cls.predictions.bias', 'cls.predictions.transform.LayerNorm.weight', 'cls.seq_relationship.bias', 'cls.predictions.transform.dense.bias', 'cls.predictions.transform.dense.weight']\n",
      "- This IS expected if you are initializing BertModel from the checkpoint of a model trained on another task or with another architecture (e.g. initializing a BertForSequenceClassification model from a BertForPreTraining model).\n",
      "- This IS NOT expected if you are initializing BertModel from the checkpoint of a model that you expect to be exactly identical (initializing a BertForSequenceClassification model from a BertForSequenceClassification model).\n"
     ]
    }
   ],
   "source": [
    "# Инициализация модели класса BertModel\n",
    "bert = transformers.BertModel.from_pretrained('bert-base-uncased')"
   ]
  },
  {
   "cell_type": "markdown",
   "id": "5d788ff4",
   "metadata": {},
   "source": [
    "<div class=\"alert alert-block alert-warning\">\n",
    "<span style=\"color:green\"><font size=\"3\" face=\"Arial\"><b>Промежуточные выводы 4.1:<b/></span><br>\n",
    "    <br>\n",
    "<span style=\"color:steelblue\"><font size=\"3\" face=\"Courier\"><b>Токенизатор и модель успешно инициализированы.</b></span></div>"
   ]
  },
  {
   "cell_type": "markdown",
   "id": "cccf771c",
   "metadata": {},
   "source": [
    "### Преобразование текста"
   ]
  },
  {
   "cell_type": "code",
   "execution_count": 102,
   "id": "8d48911e",
   "metadata": {},
   "outputs": [
    {
     "name": "stdout",
     "output_type": "stream",
     "text": [
      "CPU times: total: 3.2 s\n",
      "Wall time: 3.2 s\n"
     ]
    },
    {
     "data": {
      "text/plain": [
       "0    explanation why the edits made under my userna...\n",
       "1    d'aww he matches this background colour i'm se...\n",
       "2    hey man i'm really not trying to edit war it's...\n",
       "3    more i can't make any real suggestions on impr...\n",
       "4    you sir are my hero any chance you remember wh...\n",
       "Name: text, dtype: object"
      ]
     },
     "execution_count": 102,
     "metadata": {},
     "output_type": "execute_result"
    }
   ],
   "source": [
    "%%time\n",
    "# Очистка текста от символов,\n",
    "# неявляющихся словами\n",
    "for_encoder = df['text'].apply(\n",
    "    lambda x: ' '.join(\n",
    "        re.sub(\n",
    "            r'[^a-zA-Z\\']',\n",
    "            ' ',\n",
    "            x\n",
    "        ).split()\n",
    "    )\n",
    ").str.lower()\n",
    "for_encoder.head()"
   ]
  },
  {
   "cell_type": "code",
   "execution_count": 103,
   "id": "e7496cbc",
   "metadata": {},
   "outputs": [
    {
     "data": {
      "application/vnd.jupyter.widget-view+json": {
       "model_id": "5bfb28a605ba4af6935f43040912e9e8",
       "version_major": 2,
       "version_minor": 0
      },
      "text/plain": [
       "  0%|          | 0/159571 [00:00<?, ?it/s]"
      ]
     },
     "metadata": {},
     "output_type": "display_data"
    },
    {
     "name": "stdout",
     "output_type": "stream",
     "text": [
      "CPU times: total: 2min 40s\n",
      "Wall time: 2min 40s\n"
     ]
    },
    {
     "data": {
      "text/plain": [
       "0    [101, 7526, 2339, 1996, 10086, 2015, 2081, 210...\n",
       "1    [101, 1040, 1005, 22091, 2860, 2002, 3503, 202...\n",
       "2    [101, 4931, 2158, 1045, 1005, 1049, 2428, 2025...\n",
       "3    [101, 2062, 1045, 2064, 1005, 1056, 2191, 2151...\n",
       "4    [101, 2017, 2909, 2024, 2026, 5394, 2151, 3382...\n",
       "Name: text, dtype: object"
      ]
     },
     "execution_count": 103,
     "metadata": {},
     "output_type": "execute_result"
    }
   ],
   "source": [
    "%%time\n",
    "# Преобразование текста в номера токенов\n",
    "tqdm.pandas()\n",
    "encoded_input = for_encoder.progress_apply(\n",
    "    lambda x: tokenizer.encode(x, padding=True, truncation=True, add_special_tokens=True)\n",
    ")\n",
    "encoded_input.head()"
   ]
  },
  {
   "cell_type": "markdown",
   "id": "46e4f516",
   "metadata": {},
   "source": [
    "<div class=\"alert alert-block alert-warning\">\n",
    "<span style=\"color:green\"><font size=\"3\" face=\"Arial\"><b>Промежуточные выводы 4.2:<b/></span><br>\n",
    "    <br>\n",
    "<span style=\"color:steelblue\"><font size=\"3\" face=\"Courier\"><b>1. Текст очищен от лишних символов.<br>\n",
    "    2. Токенизация текста выполнена с учётом ограничения по кличеству токенов <code>512</code>.</b></span></div>"
   ]
  },
  {
   "cell_type": "markdown",
   "id": "8ceaa25a",
   "metadata": {},
   "source": [
    "### Стандартизация длин векторов с признаками"
   ]
  },
  {
   "cell_type": "code",
   "execution_count": 104,
   "id": "ee203cd0",
   "metadata": {},
   "outputs": [
    {
     "data": {
      "text/plain": [
       "512"
      ]
     },
     "execution_count": 104,
     "metadata": {},
     "output_type": "execute_result"
    }
   ],
   "source": [
    "# Формирование переменной с максимальной\n",
    "# длиной вектора признаков\n",
    "max_lenght = encoded_input.apply(lambda x: len(x)).max()\n",
    "max_lenght"
   ]
  },
  {
   "cell_type": "code",
   "execution_count": 105,
   "id": "d5a113c7",
   "metadata": {},
   "outputs": [
    {
     "name": "stdout",
     "output_type": "stream",
     "text": [
      "CPU times: total: 6.34 s\n",
      "Wall time: 6.35 s\n"
     ]
    }
   ],
   "source": [
    "%%time\n",
    "# Дополнение векторов признаков нулями\n",
    "padded = np.array([j + [0] * (max_lenght - len(j)) for j in encoded_input.values])"
   ]
  },
  {
   "cell_type": "code",
   "execution_count": 106,
   "id": "ff18febc",
   "metadata": {},
   "outputs": [
    {
     "data": {
      "text/plain": [
       "array([[  101,  7526,  2339, ...,     0,     0,     0],\n",
       "       [  101,  1040,  1005, ...,     0,     0,     0],\n",
       "       [  101,  4931,  2158, ...,     0,     0,     0],\n",
       "       ...,\n",
       "       [  101, 13183,  6290, ...,     0,     0,     0],\n",
       "       [  101,  1998,  2009, ...,     0,     0,     0],\n",
       "       [  101,  1998,  1045, ...,     0,     0,     0]])"
      ]
     },
     "execution_count": 106,
     "metadata": {},
     "output_type": "execute_result"
    }
   ],
   "source": [
    "# Вывод на экран матрицы признаков\n",
    "padded"
   ]
  },
  {
   "cell_type": "code",
   "execution_count": 107,
   "id": "7131d89b",
   "metadata": {},
   "outputs": [
    {
     "data": {
      "text/plain": [
       "(159571, 512)"
      ]
     },
     "execution_count": 107,
     "metadata": {},
     "output_type": "execute_result"
    }
   ],
   "source": [
    "# Вывод размера матрицы признаков\n",
    "padded.shape"
   ]
  },
  {
   "cell_type": "markdown",
   "id": "f80561e4",
   "metadata": {},
   "source": [
    "<div class=\"alert alert-block alert-warning\">\n",
    "<span style=\"color:green\"><font size=\"3\" face=\"Arial\"><b>Промежуточные выводы 4.3:<b/></span><br>\n",
    "    <br>\n",
    "<span style=\"color:steelblue\"><font size=\"3\" face=\"Courier\"><b>Векторы матрицы с токенами приведены к одному размеру.</b></span></div>"
   ]
  },
  {
   "cell_type": "markdown",
   "id": "6cf9f9cd",
   "metadata": {},
   "source": [
    "### Создание эмбеддингов"
   ]
  },
  {
   "cell_type": "code",
   "execution_count": 108,
   "id": "6b84eb56",
   "metadata": {},
   "outputs": [
    {
     "data": {
      "text/plain": [
       "array([[1, 1, 1, ..., 0, 0, 0],\n",
       "       [1, 1, 1, ..., 0, 0, 0],\n",
       "       [1, 1, 1, ..., 0, 0, 0],\n",
       "       ...,\n",
       "       [1, 1, 1, ..., 0, 0, 0],\n",
       "       [1, 1, 1, ..., 0, 0, 0],\n",
       "       [1, 1, 1, ..., 0, 0, 0]])"
      ]
     },
     "execution_count": 108,
     "metadata": {},
     "output_type": "execute_result"
    }
   ],
   "source": [
    "# Создание маски важности токенов\n",
    "# и вывод на экран\n",
    "attention_mask = np.where(padded != 0, 1, 0)\n",
    "attention_mask"
   ]
  },
  {
   "cell_type": "code",
   "execution_count": 109,
   "id": "fab5cf0b",
   "metadata": {},
   "outputs": [
    {
     "data": {
      "text/plain": [
       "(159571, 512)"
      ]
     },
     "execution_count": 109,
     "metadata": {},
     "output_type": "execute_result"
    }
   ],
   "source": [
    "# Вывод размера маски важности токенов\n",
    "attention_mask.shape"
   ]
  },
  {
   "cell_type": "code",
   "execution_count": 110,
   "id": "5de8d183",
   "metadata": {},
   "outputs": [],
   "source": [
    "# Создание переменной с размером батча\n",
    "batch_size = 100"
   ]
  },
  {
   "cell_type": "code",
   "execution_count": 111,
   "id": "20b0675d",
   "metadata": {},
   "outputs": [],
   "source": [
    "# Создание переменной со списком для\n",
    "# пополнения батчами с эмбеддингами\n",
    "embeddings = []"
   ]
  },
  {
   "cell_type": "code",
   "execution_count": 112,
   "id": "b5c7973c",
   "metadata": {},
   "outputs": [
    {
     "data": {
      "text/plain": [
       "True"
      ]
     },
     "execution_count": 112,
     "metadata": {},
     "output_type": "execute_result"
    }
   ],
   "source": [
    "# Проверка доступнсоти CUDA\n",
    "torch.cuda.is_available()"
   ]
  },
  {
   "cell_type": "code",
   "execution_count": 113,
   "id": "ca8ff6d8",
   "metadata": {},
   "outputs": [
    {
     "data": {
      "application/vnd.jupyter.widget-view+json": {
       "model_id": "507b61501aea4b83b09a1062eb55ecdc",
       "version_major": 2,
       "version_minor": 0
      },
      "text/plain": [
       "  0%|          | 0/1595 [00:00<?, ?it/s]"
      ]
     },
     "metadata": {},
     "output_type": "display_data"
    },
    {
     "name": "stdout",
     "output_type": "stream",
     "text": [
      "CPU times: total: 2h 17min 28s\n",
      "Wall time: 1h 40min 18s\n"
     ]
    }
   ],
   "source": [
    "%%time\n",
    "# Внешний цикл создания эмбеддингов по батчам\n",
    "for k in notebook.tqdm(range(padded.shape[0] // batch_size)):\n",
    "    # 1. Преобразование данных в формат\n",
    "    # тензоров 'LongTensor' - 64 бита\n",
    "    batch = torch.LongTensor(\n",
    "        padded[batch_size * k:batch_size * (k + 1)]\n",
    "    ).cuda()\n",
    "    # 2. Создание маски важности токенов\n",
    "    attention_mask_batch = torch.LongTensor(\n",
    "        attention_mask[batch_size * k:batch_size * (k + 1)]\n",
    "    ).cuda()\n",
    "    # 3. Формирование эмбеддингов для батча\n",
    "    # без градиентов\n",
    "    with torch.no_grad():\n",
    "        bert.cuda()\n",
    "        batch_embeddings = bert(\n",
    "            batch,\n",
    "            attention_mask_batch\n",
    "        )\n",
    "    embeddings.append(batch_embeddings[0][:,0,:].cpu().numpy())"
   ]
  },
  {
   "cell_type": "markdown",
   "id": "15190ce3",
   "metadata": {},
   "source": [
    "<div class=\"alert alert-block alert-warning\">\n",
    "<span style=\"color:green\"><font size=\"3\" face=\"Arial\"><b>Промежуточные выводы 4.4:<b/></span><br>\n",
    "    <br>\n",
    "<span style=\"color:steelblue\"><font size=\"3\" face=\"Courier\"><b>Эмбеддинги созданы.</b></span></div>"
   ]
  },
  {
   "cell_type": "markdown",
   "id": "d411388c",
   "metadata": {},
   "source": [
    "### Создание матриц с признаками"
   ]
  },
  {
   "cell_type": "code",
   "execution_count": 114,
   "id": "4bfd7bf9",
   "metadata": {},
   "outputs": [
    {
     "data": {
      "text/plain": [
       "(159500, 768)"
      ]
     },
     "execution_count": 114,
     "metadata": {},
     "output_type": "execute_result"
    }
   ],
   "source": [
    "# Объединение батчей в общую выборку признаков\n",
    "features_bert = np.concatenate(embeddings)\n",
    "features_bert.shape"
   ]
  },
  {
   "cell_type": "code",
   "execution_count": 115,
   "id": "ae12ac3d",
   "metadata": {},
   "outputs": [
    {
     "data": {
      "text/plain": [
       "159500"
      ]
     },
     "execution_count": 115,
     "metadata": {},
     "output_type": "execute_result"
    }
   ],
   "source": [
    "# Формирование общей выборки с целевыми признаками (ответами)\n",
    "target_bert = df['toxic'][0:len(features_bert)]\n",
    "target_bert.shape[0]"
   ]
  },
  {
   "cell_type": "code",
   "execution_count": 116,
   "id": "77ad64ac",
   "metadata": {},
   "outputs": [],
   "source": [
    "# Формирование обучающей и тестовой выборок\n",
    "# с признаками (вопросами) и целевыми признаками (ответами)\n",
    "features_bert_train, features_bert_test, target_bert_train, target_bert_test = train_test_split(\n",
    "    features_bert,\n",
    "    target_bert,\n",
    "    test_size=.25,\n",
    "    random_state=777\n",
    ")"
   ]
  },
  {
   "cell_type": "code",
   "execution_count": 117,
   "id": "9cd0ce6c",
   "metadata": {},
   "outputs": [
    {
     "data": {
      "text/plain": [
       "(119625, 768)"
      ]
     },
     "execution_count": 117,
     "metadata": {},
     "output_type": "execute_result"
    }
   ],
   "source": [
    "# Вывод размера обучающей выборки с признаками\n",
    "features_bert_train.shape"
   ]
  },
  {
   "cell_type": "code",
   "execution_count": 118,
   "id": "eb51b117",
   "metadata": {},
   "outputs": [
    {
     "data": {
      "text/plain": [
       "(39875, 768)"
      ]
     },
     "execution_count": 118,
     "metadata": {},
     "output_type": "execute_result"
    }
   ],
   "source": [
    "# Вывод размера тестовой выборки с признаками\n",
    "features_bert_test.shape"
   ]
  },
  {
   "cell_type": "code",
   "execution_count": 119,
   "id": "6c55bc56",
   "metadata": {
    "scrolled": true
   },
   "outputs": [
    {
     "data": {
      "text/plain": [
       "119625"
      ]
     },
     "execution_count": 119,
     "metadata": {},
     "output_type": "execute_result"
    }
   ],
   "source": [
    "# Вывод размера обучающей выборки с целевыми признаками\n",
    "target_bert_train.shape[0]"
   ]
  },
  {
   "cell_type": "code",
   "execution_count": 120,
   "id": "a22d8a5b",
   "metadata": {},
   "outputs": [
    {
     "data": {
      "text/plain": [
       "39875"
      ]
     },
     "execution_count": 120,
     "metadata": {},
     "output_type": "execute_result"
    }
   ],
   "source": [
    "# Вывод размера тестовой выборки с целевыми признаками\n",
    "target_bert_test.shape[0]"
   ]
  },
  {
   "cell_type": "markdown",
   "id": "4139348c",
   "metadata": {},
   "source": [
    "<div class=\"alert alert-block alert-warning\">\n",
    "<span style=\"color:green\"><font size=\"3\" face=\"Arial\"><b>Промежуточные выводы 4.5:<b/></span><br>\n",
    "    <br>\n",
    "<span style=\"color:steelblue\"><font size=\"3\" face=\"Courier\"><b>1. Размерность вектора признаков составляет <code>768</code>.<br>\n",
    "    2. Обучающие и тестовые выборки созданы.</b></span></div>"
   ]
  },
  {
   "cell_type": "markdown",
   "id": "0d3a8cb1",
   "metadata": {},
   "source": [
    "### Обучение и проверка моделей"
   ]
  },
  {
   "cell_type": "markdown",
   "id": "21a01877",
   "metadata": {},
   "source": [
    "#### Исследование модели логистической регрессии - LogisticRegression"
   ]
  },
  {
   "cell_type": "code",
   "execution_count": 133,
   "id": "6a71f27e",
   "metadata": {},
   "outputs": [],
   "source": [
    "# Создание объекта структуры данных LogisticRegression()\n",
    "logistic_bert = LogisticRegression()"
   ]
  },
  {
   "cell_type": "code",
   "execution_count": 139,
   "id": "fe57f9d0",
   "metadata": {},
   "outputs": [],
   "source": [
    "# Создание переменной со словарём параметров\n",
    "param_logistic_bert = {\n",
    "    'max_iter': [1000],\n",
    "    'C': [.05, .1, .2, .3],\n",
    "    'class_weight': [None, 'balanced']\n",
    "}"
   ]
  },
  {
   "cell_type": "code",
   "execution_count": 140,
   "id": "75bc31d0",
   "metadata": {},
   "outputs": [],
   "source": [
    "# Задание параметров поиска по сетке\n",
    "gs_logistic_bert = GridSearchCV(\n",
    "    logistic_bert,\n",
    "    param_grid=param_logistic_bert,\n",
    "    scoring='f1',\n",
    "    cv=3,\n",
    "    verbose=1,\n",
    "    refit=True\n",
    ")"
   ]
  },
  {
   "cell_type": "code",
   "execution_count": 141,
   "id": "0469cd52",
   "metadata": {},
   "outputs": [
    {
     "name": "stdout",
     "output_type": "stream",
     "text": [
      "Fitting 3 folds for each of 8 candidates, totalling 24 fits\n",
      "CPU times: total: 1h 55min 25s\n",
      "Wall time: 9min\n"
     ]
    },
    {
     "data": {
      "text/html": [
       "<style>#sk-container-id-13 {color: black;background-color: white;}#sk-container-id-13 pre{padding: 0;}#sk-container-id-13 div.sk-toggleable {background-color: white;}#sk-container-id-13 label.sk-toggleable__label {cursor: pointer;display: block;width: 100%;margin-bottom: 0;padding: 0.3em;box-sizing: border-box;text-align: center;}#sk-container-id-13 label.sk-toggleable__label-arrow:before {content: \"▸\";float: left;margin-right: 0.25em;color: #696969;}#sk-container-id-13 label.sk-toggleable__label-arrow:hover:before {color: black;}#sk-container-id-13 div.sk-estimator:hover label.sk-toggleable__label-arrow:before {color: black;}#sk-container-id-13 div.sk-toggleable__content {max-height: 0;max-width: 0;overflow: hidden;text-align: left;background-color: #f0f8ff;}#sk-container-id-13 div.sk-toggleable__content pre {margin: 0.2em;color: black;border-radius: 0.25em;background-color: #f0f8ff;}#sk-container-id-13 input.sk-toggleable__control:checked~div.sk-toggleable__content {max-height: 200px;max-width: 100%;overflow: auto;}#sk-container-id-13 input.sk-toggleable__control:checked~label.sk-toggleable__label-arrow:before {content: \"▾\";}#sk-container-id-13 div.sk-estimator input.sk-toggleable__control:checked~label.sk-toggleable__label {background-color: #d4ebff;}#sk-container-id-13 div.sk-label input.sk-toggleable__control:checked~label.sk-toggleable__label {background-color: #d4ebff;}#sk-container-id-13 input.sk-hidden--visually {border: 0;clip: rect(1px 1px 1px 1px);clip: rect(1px, 1px, 1px, 1px);height: 1px;margin: -1px;overflow: hidden;padding: 0;position: absolute;width: 1px;}#sk-container-id-13 div.sk-estimator {font-family: monospace;background-color: #f0f8ff;border: 1px dotted black;border-radius: 0.25em;box-sizing: border-box;margin-bottom: 0.5em;}#sk-container-id-13 div.sk-estimator:hover {background-color: #d4ebff;}#sk-container-id-13 div.sk-parallel-item::after {content: \"\";width: 100%;border-bottom: 1px solid gray;flex-grow: 1;}#sk-container-id-13 div.sk-label:hover label.sk-toggleable__label {background-color: #d4ebff;}#sk-container-id-13 div.sk-serial::before {content: \"\";position: absolute;border-left: 1px solid gray;box-sizing: border-box;top: 0;bottom: 0;left: 50%;z-index: 0;}#sk-container-id-13 div.sk-serial {display: flex;flex-direction: column;align-items: center;background-color: white;padding-right: 0.2em;padding-left: 0.2em;position: relative;}#sk-container-id-13 div.sk-item {position: relative;z-index: 1;}#sk-container-id-13 div.sk-parallel {display: flex;align-items: stretch;justify-content: center;background-color: white;position: relative;}#sk-container-id-13 div.sk-item::before, #sk-container-id-13 div.sk-parallel-item::before {content: \"\";position: absolute;border-left: 1px solid gray;box-sizing: border-box;top: 0;bottom: 0;left: 50%;z-index: -1;}#sk-container-id-13 div.sk-parallel-item {display: flex;flex-direction: column;z-index: 1;position: relative;background-color: white;}#sk-container-id-13 div.sk-parallel-item:first-child::after {align-self: flex-end;width: 50%;}#sk-container-id-13 div.sk-parallel-item:last-child::after {align-self: flex-start;width: 50%;}#sk-container-id-13 div.sk-parallel-item:only-child::after {width: 0;}#sk-container-id-13 div.sk-dashed-wrapped {border: 1px dashed gray;margin: 0 0.4em 0.5em 0.4em;box-sizing: border-box;padding-bottom: 0.4em;background-color: white;}#sk-container-id-13 div.sk-label label {font-family: monospace;font-weight: bold;display: inline-block;line-height: 1.2em;}#sk-container-id-13 div.sk-label-container {text-align: center;}#sk-container-id-13 div.sk-container {/* jupyter's `normalize.less` sets `[hidden] { display: none; }` but bootstrap.min.css set `[hidden] { display: none !important; }` so we also need the `!important` here to be able to override the default hidden behavior on the sphinx rendered scikit-learn.org. See: https://github.com/scikit-learn/scikit-learn/issues/21755 */display: inline-block !important;position: relative;}#sk-container-id-13 div.sk-text-repr-fallback {display: none;}</style><div id=\"sk-container-id-13\" class=\"sk-top-container\"><div class=\"sk-text-repr-fallback\"><pre>GridSearchCV(cv=3, estimator=LogisticRegression(),\n",
       "             param_grid={&#x27;C&#x27;: [0.05, 0.1, 0.2, 0.3],\n",
       "                         &#x27;class_weight&#x27;: [None, &#x27;balanced&#x27;],\n",
       "                         &#x27;max_iter&#x27;: [1000]},\n",
       "             scoring=&#x27;f1&#x27;, verbose=1)</pre><b>In a Jupyter environment, please rerun this cell to show the HTML representation or trust the notebook. <br />On GitHub, the HTML representation is unable to render, please try loading this page with nbviewer.org.</b></div><div class=\"sk-container\" hidden><div class=\"sk-item sk-dashed-wrapped\"><div class=\"sk-label-container\"><div class=\"sk-label sk-toggleable\"><input class=\"sk-toggleable__control sk-hidden--visually\" id=\"sk-estimator-id-37\" type=\"checkbox\" ><label for=\"sk-estimator-id-37\" class=\"sk-toggleable__label sk-toggleable__label-arrow\">GridSearchCV</label><div class=\"sk-toggleable__content\"><pre>GridSearchCV(cv=3, estimator=LogisticRegression(),\n",
       "             param_grid={&#x27;C&#x27;: [0.05, 0.1, 0.2, 0.3],\n",
       "                         &#x27;class_weight&#x27;: [None, &#x27;balanced&#x27;],\n",
       "                         &#x27;max_iter&#x27;: [1000]},\n",
       "             scoring=&#x27;f1&#x27;, verbose=1)</pre></div></div></div><div class=\"sk-parallel\"><div class=\"sk-parallel-item\"><div class=\"sk-item\"><div class=\"sk-label-container\"><div class=\"sk-label sk-toggleable\"><input class=\"sk-toggleable__control sk-hidden--visually\" id=\"sk-estimator-id-38\" type=\"checkbox\" ><label for=\"sk-estimator-id-38\" class=\"sk-toggleable__label sk-toggleable__label-arrow\">estimator: LogisticRegression</label><div class=\"sk-toggleable__content\"><pre>LogisticRegression()</pre></div></div></div><div class=\"sk-serial\"><div class=\"sk-item\"><div class=\"sk-estimator sk-toggleable\"><input class=\"sk-toggleable__control sk-hidden--visually\" id=\"sk-estimator-id-39\" type=\"checkbox\" ><label for=\"sk-estimator-id-39\" class=\"sk-toggleable__label sk-toggleable__label-arrow\">LogisticRegression</label><div class=\"sk-toggleable__content\"><pre>LogisticRegression()</pre></div></div></div></div></div></div></div></div></div></div>"
      ],
      "text/plain": [
       "GridSearchCV(cv=3, estimator=LogisticRegression(),\n",
       "             param_grid={'C': [0.05, 0.1, 0.2, 0.3],\n",
       "                         'class_weight': [None, 'balanced'],\n",
       "                         'max_iter': [1000]},\n",
       "             scoring='f1', verbose=1)"
      ]
     },
     "execution_count": 141,
     "metadata": {},
     "output_type": "execute_result"
    }
   ],
   "source": [
    "%%time\n",
    "# Запуск поиска лучших параметров модели логистической\n",
    "# регрессии с выводом времени обучения\n",
    "gs_logistic_bert.fit(features_bert_train, target_bert_train)"
   ]
  },
  {
   "cell_type": "code",
   "execution_count": 143,
   "id": "a8f65cfa",
   "metadata": {},
   "outputs": [
    {
     "data": {
      "text/plain": [
       "{'C': 0.2, 'class_weight': None, 'max_iter': 1000}"
      ]
     },
     "execution_count": 143,
     "metadata": {},
     "output_type": "execute_result"
    }
   ],
   "source": [
    "# Вывод параметров лучшей модели по best_score_\n",
    "gs_logistic_bert.best_params_"
   ]
  },
  {
   "cell_type": "code",
   "execution_count": 144,
   "id": "08442e8d",
   "metadata": {},
   "outputs": [
    {
     "data": {
      "text/plain": [
       "0.72"
      ]
     },
     "execution_count": 144,
     "metadata": {},
     "output_type": "execute_result"
    }
   ],
   "source": [
    "# Вывод средней оценки кросс-валидации\n",
    "# для модели с лучшими параметрами\n",
    "np.round(gs_logistic_bert.best_score_, decimals=2)"
   ]
  },
  {
   "cell_type": "code",
   "execution_count": 145,
   "id": "9ae92d80",
   "metadata": {},
   "outputs": [
    {
     "data": {
      "text/plain": [
       "37.637842655181885"
      ]
     },
     "execution_count": 145,
     "metadata": {},
     "output_type": "execute_result"
    }
   ],
   "source": [
    "# Вывод времени обучения модели по\n",
    "# лучшим параметрам\n",
    "gs_logistic_bert.refit_time_"
   ]
  },
  {
   "cell_type": "code",
   "execution_count": 146,
   "id": "11a0d603",
   "metadata": {},
   "outputs": [],
   "source": [
    "# Получение предсказаний на тестовой выборке\n",
    "gs_logistic_bert_test_predictions = gs_logistic_bert.predict(features_bert_test)"
   ]
  },
  {
   "cell_type": "code",
   "execution_count": 147,
   "id": "e08878a7",
   "metadata": {},
   "outputs": [
    {
     "data": {
      "text/plain": [
       "0.73"
      ]
     },
     "execution_count": 147,
     "metadata": {},
     "output_type": "execute_result"
    }
   ],
   "source": [
    "# Вывод среднего гармонического F1\n",
    "# на тестовой выборке\n",
    "np.round(f1_score(target_bert_test, gs_logistic_bert_test_predictions), decimals=2)"
   ]
  },
  {
   "cell_type": "markdown",
   "id": "e3c07406",
   "metadata": {},
   "source": [
    "<div class=\"alert alert-block alert-warning\">\n",
    "<span style=\"color:green\"><font size=\"3\" face=\"Arial\"><b>Промежуточные выводы 4.6.1:<b/></span><br>\n",
    "    <br>\n",
    "<span style=\"color:steelblue\"><font size=\"3\" face=\"Courier\"><b>1. Поиск лучших параметров модели занял <code>9</code> минут.<br>\n",
    "    2. Среднее гармоническое (<code>F1</code>):<br>\n",
    "    - на обучающей выборке <code>0.72</code>;<br>\n",
    "    - на тестовой выборке <code>0.73</code>.<br>\n",
    "    3. Время обучения модели составило <code>37.64</code> секунды.</b></span></div>"
   ]
  },
  {
   "cell_type": "markdown",
   "id": "15a52d9e",
   "metadata": {},
   "source": [
    "#### Исследование модели логистической регрессии (стохастического градиентного спуска) - SGDClassifier"
   ]
  },
  {
   "cell_type": "code",
   "execution_count": 148,
   "id": "3cd4508b",
   "metadata": {},
   "outputs": [],
   "source": [
    "# Создание объекта структуры данных SGDClassifier()\n",
    "sgdc_bert = SGDClassifier(\n",
    "    penalty='l2',\n",
    "    shuffle=True,\n",
    "    verbose=0,\n",
    "    random_state=777,\n",
    "    learning_rate='invscaling',\n",
    "    n_iter_no_change=10\n",
    ")"
   ]
  },
  {
   "cell_type": "code",
   "execution_count": 149,
   "id": "5007c216",
   "metadata": {},
   "outputs": [],
   "source": [
    "# Создание переменной со словарём параметров\n",
    "param_sgdc_bert = {\n",
    "    'loss': ['hinge', 'log_loss', 'perceptron'],\n",
    "    'alpha': [.001, .0001],\n",
    "    'max_iter': [1000, 2000],\n",
    "    'eta0': [.01],\n",
    "    'power_t': [.24, .25]\n",
    "}"
   ]
  },
  {
   "cell_type": "code",
   "execution_count": 150,
   "id": "79cc16ac",
   "metadata": {},
   "outputs": [],
   "source": [
    "# Задание параметров поиска по сетке\n",
    "gs_sgdc_bert = GridSearchCV(\n",
    "    sgdc_bert,\n",
    "    param_grid=param_sgdc_bert,\n",
    "    scoring='f1',\n",
    "    cv=3,\n",
    "    verbose=0,\n",
    "    refit=True\n",
    ")"
   ]
  },
  {
   "cell_type": "code",
   "execution_count": 151,
   "id": "02c5e669",
   "metadata": {},
   "outputs": [
    {
     "name": "stdout",
     "output_type": "stream",
     "text": [
      "CPU times: total: 2min\n",
      "Wall time: 1min 53s\n"
     ]
    },
    {
     "data": {
      "text/html": [
       "<style>#sk-container-id-14 {color: black;background-color: white;}#sk-container-id-14 pre{padding: 0;}#sk-container-id-14 div.sk-toggleable {background-color: white;}#sk-container-id-14 label.sk-toggleable__label {cursor: pointer;display: block;width: 100%;margin-bottom: 0;padding: 0.3em;box-sizing: border-box;text-align: center;}#sk-container-id-14 label.sk-toggleable__label-arrow:before {content: \"▸\";float: left;margin-right: 0.25em;color: #696969;}#sk-container-id-14 label.sk-toggleable__label-arrow:hover:before {color: black;}#sk-container-id-14 div.sk-estimator:hover label.sk-toggleable__label-arrow:before {color: black;}#sk-container-id-14 div.sk-toggleable__content {max-height: 0;max-width: 0;overflow: hidden;text-align: left;background-color: #f0f8ff;}#sk-container-id-14 div.sk-toggleable__content pre {margin: 0.2em;color: black;border-radius: 0.25em;background-color: #f0f8ff;}#sk-container-id-14 input.sk-toggleable__control:checked~div.sk-toggleable__content {max-height: 200px;max-width: 100%;overflow: auto;}#sk-container-id-14 input.sk-toggleable__control:checked~label.sk-toggleable__label-arrow:before {content: \"▾\";}#sk-container-id-14 div.sk-estimator input.sk-toggleable__control:checked~label.sk-toggleable__label {background-color: #d4ebff;}#sk-container-id-14 div.sk-label input.sk-toggleable__control:checked~label.sk-toggleable__label {background-color: #d4ebff;}#sk-container-id-14 input.sk-hidden--visually {border: 0;clip: rect(1px 1px 1px 1px);clip: rect(1px, 1px, 1px, 1px);height: 1px;margin: -1px;overflow: hidden;padding: 0;position: absolute;width: 1px;}#sk-container-id-14 div.sk-estimator {font-family: monospace;background-color: #f0f8ff;border: 1px dotted black;border-radius: 0.25em;box-sizing: border-box;margin-bottom: 0.5em;}#sk-container-id-14 div.sk-estimator:hover {background-color: #d4ebff;}#sk-container-id-14 div.sk-parallel-item::after {content: \"\";width: 100%;border-bottom: 1px solid gray;flex-grow: 1;}#sk-container-id-14 div.sk-label:hover label.sk-toggleable__label {background-color: #d4ebff;}#sk-container-id-14 div.sk-serial::before {content: \"\";position: absolute;border-left: 1px solid gray;box-sizing: border-box;top: 0;bottom: 0;left: 50%;z-index: 0;}#sk-container-id-14 div.sk-serial {display: flex;flex-direction: column;align-items: center;background-color: white;padding-right: 0.2em;padding-left: 0.2em;position: relative;}#sk-container-id-14 div.sk-item {position: relative;z-index: 1;}#sk-container-id-14 div.sk-parallel {display: flex;align-items: stretch;justify-content: center;background-color: white;position: relative;}#sk-container-id-14 div.sk-item::before, #sk-container-id-14 div.sk-parallel-item::before {content: \"\";position: absolute;border-left: 1px solid gray;box-sizing: border-box;top: 0;bottom: 0;left: 50%;z-index: -1;}#sk-container-id-14 div.sk-parallel-item {display: flex;flex-direction: column;z-index: 1;position: relative;background-color: white;}#sk-container-id-14 div.sk-parallel-item:first-child::after {align-self: flex-end;width: 50%;}#sk-container-id-14 div.sk-parallel-item:last-child::after {align-self: flex-start;width: 50%;}#sk-container-id-14 div.sk-parallel-item:only-child::after {width: 0;}#sk-container-id-14 div.sk-dashed-wrapped {border: 1px dashed gray;margin: 0 0.4em 0.5em 0.4em;box-sizing: border-box;padding-bottom: 0.4em;background-color: white;}#sk-container-id-14 div.sk-label label {font-family: monospace;font-weight: bold;display: inline-block;line-height: 1.2em;}#sk-container-id-14 div.sk-label-container {text-align: center;}#sk-container-id-14 div.sk-container {/* jupyter's `normalize.less` sets `[hidden] { display: none; }` but bootstrap.min.css set `[hidden] { display: none !important; }` so we also need the `!important` here to be able to override the default hidden behavior on the sphinx rendered scikit-learn.org. See: https://github.com/scikit-learn/scikit-learn/issues/21755 */display: inline-block !important;position: relative;}#sk-container-id-14 div.sk-text-repr-fallback {display: none;}</style><div id=\"sk-container-id-14\" class=\"sk-top-container\"><div class=\"sk-text-repr-fallback\"><pre>GridSearchCV(cv=3,\n",
       "             estimator=SGDClassifier(learning_rate=&#x27;invscaling&#x27;,\n",
       "                                     n_iter_no_change=10, random_state=777),\n",
       "             param_grid={&#x27;alpha&#x27;: [0.001, 0.0001], &#x27;eta0&#x27;: [0.01],\n",
       "                         &#x27;loss&#x27;: [&#x27;hinge&#x27;, &#x27;log_loss&#x27;, &#x27;perceptron&#x27;],\n",
       "                         &#x27;max_iter&#x27;: [1000, 2000], &#x27;power_t&#x27;: [0.24, 0.25]},\n",
       "             scoring=&#x27;f1&#x27;)</pre><b>In a Jupyter environment, please rerun this cell to show the HTML representation or trust the notebook. <br />On GitHub, the HTML representation is unable to render, please try loading this page with nbviewer.org.</b></div><div class=\"sk-container\" hidden><div class=\"sk-item sk-dashed-wrapped\"><div class=\"sk-label-container\"><div class=\"sk-label sk-toggleable\"><input class=\"sk-toggleable__control sk-hidden--visually\" id=\"sk-estimator-id-40\" type=\"checkbox\" ><label for=\"sk-estimator-id-40\" class=\"sk-toggleable__label sk-toggleable__label-arrow\">GridSearchCV</label><div class=\"sk-toggleable__content\"><pre>GridSearchCV(cv=3,\n",
       "             estimator=SGDClassifier(learning_rate=&#x27;invscaling&#x27;,\n",
       "                                     n_iter_no_change=10, random_state=777),\n",
       "             param_grid={&#x27;alpha&#x27;: [0.001, 0.0001], &#x27;eta0&#x27;: [0.01],\n",
       "                         &#x27;loss&#x27;: [&#x27;hinge&#x27;, &#x27;log_loss&#x27;, &#x27;perceptron&#x27;],\n",
       "                         &#x27;max_iter&#x27;: [1000, 2000], &#x27;power_t&#x27;: [0.24, 0.25]},\n",
       "             scoring=&#x27;f1&#x27;)</pre></div></div></div><div class=\"sk-parallel\"><div class=\"sk-parallel-item\"><div class=\"sk-item\"><div class=\"sk-label-container\"><div class=\"sk-label sk-toggleable\"><input class=\"sk-toggleable__control sk-hidden--visually\" id=\"sk-estimator-id-41\" type=\"checkbox\" ><label for=\"sk-estimator-id-41\" class=\"sk-toggleable__label sk-toggleable__label-arrow\">estimator: SGDClassifier</label><div class=\"sk-toggleable__content\"><pre>SGDClassifier(learning_rate=&#x27;invscaling&#x27;, n_iter_no_change=10, random_state=777)</pre></div></div></div><div class=\"sk-serial\"><div class=\"sk-item\"><div class=\"sk-estimator sk-toggleable\"><input class=\"sk-toggleable__control sk-hidden--visually\" id=\"sk-estimator-id-42\" type=\"checkbox\" ><label for=\"sk-estimator-id-42\" class=\"sk-toggleable__label sk-toggleable__label-arrow\">SGDClassifier</label><div class=\"sk-toggleable__content\"><pre>SGDClassifier(learning_rate=&#x27;invscaling&#x27;, n_iter_no_change=10, random_state=777)</pre></div></div></div></div></div></div></div></div></div></div>"
      ],
      "text/plain": [
       "GridSearchCV(cv=3,\n",
       "             estimator=SGDClassifier(learning_rate='invscaling',\n",
       "                                     n_iter_no_change=10, random_state=777),\n",
       "             param_grid={'alpha': [0.001, 0.0001], 'eta0': [0.01],\n",
       "                         'loss': ['hinge', 'log_loss', 'perceptron'],\n",
       "                         'max_iter': [1000, 2000], 'power_t': [0.24, 0.25]},\n",
       "             scoring='f1')"
      ]
     },
     "execution_count": 151,
     "metadata": {},
     "output_type": "execute_result"
    }
   ],
   "source": [
    "%%time\n",
    "# Запуск поиска лучших параметров модели стохастического\n",
    "# градиентного спуска с выводом времени обучения\n",
    "gs_sgdc_bert.fit(features_bert_train, target_bert_train)"
   ]
  },
  {
   "cell_type": "code",
   "execution_count": 152,
   "id": "cfb62ede",
   "metadata": {},
   "outputs": [
    {
     "data": {
      "text/plain": [
       "{'alpha': 0.001,\n",
       " 'eta0': 0.01,\n",
       " 'loss': 'hinge',\n",
       " 'max_iter': 1000,\n",
       " 'power_t': 0.25}"
      ]
     },
     "execution_count": 152,
     "metadata": {},
     "output_type": "execute_result"
    }
   ],
   "source": [
    "# Вывод параметров лучшей модели по best_score_\n",
    "gs_sgdc_bert.best_params_"
   ]
  },
  {
   "cell_type": "code",
   "execution_count": 153,
   "id": "c509727a",
   "metadata": {},
   "outputs": [
    {
     "data": {
      "text/plain": [
       "0.7"
      ]
     },
     "execution_count": 153,
     "metadata": {},
     "output_type": "execute_result"
    }
   ],
   "source": [
    "# Вывод средней оценки кросс-валидации\n",
    "# для модели с лучшими параметрами\n",
    "np.round(gs_sgdc_bert.best_score_, decimals=2)"
   ]
  },
  {
   "cell_type": "code",
   "execution_count": 154,
   "id": "d5c26930",
   "metadata": {},
   "outputs": [
    {
     "data": {
      "text/plain": [
       "1.7064716815948486"
      ]
     },
     "execution_count": 154,
     "metadata": {},
     "output_type": "execute_result"
    }
   ],
   "source": [
    "# Вывод времени обучения модели по\n",
    "# лучшим параметрам\n",
    "gs_sgdc_bert.refit_time_"
   ]
  },
  {
   "cell_type": "code",
   "execution_count": 155,
   "id": "ac38ee1c",
   "metadata": {},
   "outputs": [],
   "source": [
    "# Получение предсказаний на тестовой выборке\n",
    "gs_sgdc_bert_test_predictions = gs_sgdc_bert.predict(features_bert_test)"
   ]
  },
  {
   "cell_type": "code",
   "execution_count": 156,
   "id": "807b2c28",
   "metadata": {},
   "outputs": [
    {
     "data": {
      "text/plain": [
       "0.72"
      ]
     },
     "execution_count": 156,
     "metadata": {},
     "output_type": "execute_result"
    }
   ],
   "source": [
    "# Вывод среднего гармонического F1\n",
    "# на тестовой выборке\n",
    "np.round(f1_score(target_bert_test, gs_sgdc_bert_test_predictions), decimals=2)"
   ]
  },
  {
   "cell_type": "markdown",
   "id": "30e201e1",
   "metadata": {},
   "source": [
    "<div class=\"alert alert-block alert-warning\">\n",
    "<span style=\"color:green\"><font size=\"3\" face=\"Arial\"><b>Промежуточные выводы 4.6.2:<b/></span><br>\n",
    "    <br>\n",
    "<span style=\"color:steelblue\"><font size=\"3\" face=\"Courier\"><b>1. Поиск лучших параметров модели занял <code>1</code> минуту <code>53</code> секунды.<br>\n",
    "    2.1. Оптимально стохастический градиентный спуск <code>SGDClassifier</code> обучается при количестве итераций <code>1000</code> с коэффициентом регуляризации <code>0.001</code>, начальной скоростью обучения <code>0.01</code> и показателем степени обратного масштабирования скорости обучения <code>0.25</code>; количество блоков кросс-валидации <code>3</code>.<br>\n",
    "    2.2. Среднее гармоническое (<code>F1</code>) при этих параметрах составляет:<br>\n",
    "    - на обучающей выборке <code>0.70</code>;<br>\n",
    "    - на тестовой выборке <code>0.72</code>.<br>\n",
    "    3. Время обучения модели на лучших параметрах составило <code>1.71</code> секунды. Скорость обучения очень высокая.</b></span></div>"
   ]
  },
  {
   "cell_type": "markdown",
   "id": "0cbbfa60",
   "metadata": {},
   "source": [
    "####  Исследование модели решающего дерева - DecisionTreeClassifier"
   ]
  },
  {
   "cell_type": "code",
   "execution_count": 161,
   "id": "40568696",
   "metadata": {},
   "outputs": [],
   "source": [
    "# Создание объекта структуры данных DecisionTreeClassifier()\n",
    "tree_bert = DecisionTreeClassifier(\n",
    "    random_state=777,\n",
    "    class_weight='balanced'\n",
    ")"
   ]
  },
  {
   "cell_type": "code",
   "execution_count": 162,
   "id": "28119945",
   "metadata": {},
   "outputs": [],
   "source": [
    "# Создание переменной со словарём параметров\n",
    "param_tree_bert = {\n",
    "    'max_depth': list(range(5, 16, 2)),\n",
    "    'min_samples_leaf': list(range(5, 12, 2))\n",
    "}"
   ]
  },
  {
   "cell_type": "code",
   "execution_count": 163,
   "id": "01f6ee67",
   "metadata": {},
   "outputs": [],
   "source": [
    "# Задание параметров поиска по сетке\n",
    "gs_tree_bert = GridSearchCV(\n",
    "    tree_bert,\n",
    "    param_grid=param_tree_bert,\n",
    "    scoring='f1',\n",
    "    cv=3,\n",
    "    verbose=1,\n",
    "    refit=True\n",
    ")"
   ]
  },
  {
   "cell_type": "code",
   "execution_count": 164,
   "id": "e1551063",
   "metadata": {},
   "outputs": [
    {
     "name": "stdout",
     "output_type": "stream",
     "text": [
      "Fitting 3 folds for each of 24 candidates, totalling 72 fits\n",
      "CPU times: total: 1h 9min\n",
      "Wall time: 1h 9min 3s\n"
     ]
    },
    {
     "data": {
      "text/html": [
       "<style>#sk-container-id-15 {color: black;background-color: white;}#sk-container-id-15 pre{padding: 0;}#sk-container-id-15 div.sk-toggleable {background-color: white;}#sk-container-id-15 label.sk-toggleable__label {cursor: pointer;display: block;width: 100%;margin-bottom: 0;padding: 0.3em;box-sizing: border-box;text-align: center;}#sk-container-id-15 label.sk-toggleable__label-arrow:before {content: \"▸\";float: left;margin-right: 0.25em;color: #696969;}#sk-container-id-15 label.sk-toggleable__label-arrow:hover:before {color: black;}#sk-container-id-15 div.sk-estimator:hover label.sk-toggleable__label-arrow:before {color: black;}#sk-container-id-15 div.sk-toggleable__content {max-height: 0;max-width: 0;overflow: hidden;text-align: left;background-color: #f0f8ff;}#sk-container-id-15 div.sk-toggleable__content pre {margin: 0.2em;color: black;border-radius: 0.25em;background-color: #f0f8ff;}#sk-container-id-15 input.sk-toggleable__control:checked~div.sk-toggleable__content {max-height: 200px;max-width: 100%;overflow: auto;}#sk-container-id-15 input.sk-toggleable__control:checked~label.sk-toggleable__label-arrow:before {content: \"▾\";}#sk-container-id-15 div.sk-estimator input.sk-toggleable__control:checked~label.sk-toggleable__label {background-color: #d4ebff;}#sk-container-id-15 div.sk-label input.sk-toggleable__control:checked~label.sk-toggleable__label {background-color: #d4ebff;}#sk-container-id-15 input.sk-hidden--visually {border: 0;clip: rect(1px 1px 1px 1px);clip: rect(1px, 1px, 1px, 1px);height: 1px;margin: -1px;overflow: hidden;padding: 0;position: absolute;width: 1px;}#sk-container-id-15 div.sk-estimator {font-family: monospace;background-color: #f0f8ff;border: 1px dotted black;border-radius: 0.25em;box-sizing: border-box;margin-bottom: 0.5em;}#sk-container-id-15 div.sk-estimator:hover {background-color: #d4ebff;}#sk-container-id-15 div.sk-parallel-item::after {content: \"\";width: 100%;border-bottom: 1px solid gray;flex-grow: 1;}#sk-container-id-15 div.sk-label:hover label.sk-toggleable__label {background-color: #d4ebff;}#sk-container-id-15 div.sk-serial::before {content: \"\";position: absolute;border-left: 1px solid gray;box-sizing: border-box;top: 0;bottom: 0;left: 50%;z-index: 0;}#sk-container-id-15 div.sk-serial {display: flex;flex-direction: column;align-items: center;background-color: white;padding-right: 0.2em;padding-left: 0.2em;position: relative;}#sk-container-id-15 div.sk-item {position: relative;z-index: 1;}#sk-container-id-15 div.sk-parallel {display: flex;align-items: stretch;justify-content: center;background-color: white;position: relative;}#sk-container-id-15 div.sk-item::before, #sk-container-id-15 div.sk-parallel-item::before {content: \"\";position: absolute;border-left: 1px solid gray;box-sizing: border-box;top: 0;bottom: 0;left: 50%;z-index: -1;}#sk-container-id-15 div.sk-parallel-item {display: flex;flex-direction: column;z-index: 1;position: relative;background-color: white;}#sk-container-id-15 div.sk-parallel-item:first-child::after {align-self: flex-end;width: 50%;}#sk-container-id-15 div.sk-parallel-item:last-child::after {align-self: flex-start;width: 50%;}#sk-container-id-15 div.sk-parallel-item:only-child::after {width: 0;}#sk-container-id-15 div.sk-dashed-wrapped {border: 1px dashed gray;margin: 0 0.4em 0.5em 0.4em;box-sizing: border-box;padding-bottom: 0.4em;background-color: white;}#sk-container-id-15 div.sk-label label {font-family: monospace;font-weight: bold;display: inline-block;line-height: 1.2em;}#sk-container-id-15 div.sk-label-container {text-align: center;}#sk-container-id-15 div.sk-container {/* jupyter's `normalize.less` sets `[hidden] { display: none; }` but bootstrap.min.css set `[hidden] { display: none !important; }` so we also need the `!important` here to be able to override the default hidden behavior on the sphinx rendered scikit-learn.org. See: https://github.com/scikit-learn/scikit-learn/issues/21755 */display: inline-block !important;position: relative;}#sk-container-id-15 div.sk-text-repr-fallback {display: none;}</style><div id=\"sk-container-id-15\" class=\"sk-top-container\"><div class=\"sk-text-repr-fallback\"><pre>GridSearchCV(cv=3,\n",
       "             estimator=DecisionTreeClassifier(class_weight=&#x27;balanced&#x27;,\n",
       "                                              random_state=777),\n",
       "             param_grid={&#x27;max_depth&#x27;: [5, 7, 9, 11, 13, 15],\n",
       "                         &#x27;min_samples_leaf&#x27;: [5, 7, 9, 11]},\n",
       "             scoring=&#x27;f1&#x27;, verbose=1)</pre><b>In a Jupyter environment, please rerun this cell to show the HTML representation or trust the notebook. <br />On GitHub, the HTML representation is unable to render, please try loading this page with nbviewer.org.</b></div><div class=\"sk-container\" hidden><div class=\"sk-item sk-dashed-wrapped\"><div class=\"sk-label-container\"><div class=\"sk-label sk-toggleable\"><input class=\"sk-toggleable__control sk-hidden--visually\" id=\"sk-estimator-id-43\" type=\"checkbox\" ><label for=\"sk-estimator-id-43\" class=\"sk-toggleable__label sk-toggleable__label-arrow\">GridSearchCV</label><div class=\"sk-toggleable__content\"><pre>GridSearchCV(cv=3,\n",
       "             estimator=DecisionTreeClassifier(class_weight=&#x27;balanced&#x27;,\n",
       "                                              random_state=777),\n",
       "             param_grid={&#x27;max_depth&#x27;: [5, 7, 9, 11, 13, 15],\n",
       "                         &#x27;min_samples_leaf&#x27;: [5, 7, 9, 11]},\n",
       "             scoring=&#x27;f1&#x27;, verbose=1)</pre></div></div></div><div class=\"sk-parallel\"><div class=\"sk-parallel-item\"><div class=\"sk-item\"><div class=\"sk-label-container\"><div class=\"sk-label sk-toggleable\"><input class=\"sk-toggleable__control sk-hidden--visually\" id=\"sk-estimator-id-44\" type=\"checkbox\" ><label for=\"sk-estimator-id-44\" class=\"sk-toggleable__label sk-toggleable__label-arrow\">estimator: DecisionTreeClassifier</label><div class=\"sk-toggleable__content\"><pre>DecisionTreeClassifier(class_weight=&#x27;balanced&#x27;, random_state=777)</pre></div></div></div><div class=\"sk-serial\"><div class=\"sk-item\"><div class=\"sk-estimator sk-toggleable\"><input class=\"sk-toggleable__control sk-hidden--visually\" id=\"sk-estimator-id-45\" type=\"checkbox\" ><label for=\"sk-estimator-id-45\" class=\"sk-toggleable__label sk-toggleable__label-arrow\">DecisionTreeClassifier</label><div class=\"sk-toggleable__content\"><pre>DecisionTreeClassifier(class_weight=&#x27;balanced&#x27;, random_state=777)</pre></div></div></div></div></div></div></div></div></div></div>"
      ],
      "text/plain": [
       "GridSearchCV(cv=3,\n",
       "             estimator=DecisionTreeClassifier(class_weight='balanced',\n",
       "                                              random_state=777),\n",
       "             param_grid={'max_depth': [5, 7, 9, 11, 13, 15],\n",
       "                         'min_samples_leaf': [5, 7, 9, 11]},\n",
       "             scoring='f1', verbose=1)"
      ]
     },
     "execution_count": 164,
     "metadata": {},
     "output_type": "execute_result"
    }
   ],
   "source": [
    "%%time\n",
    "# Формирование и обучение модели решающего дерева\n",
    "# с выводом времени обучения\n",
    "gs_tree_bert.fit(features_bert_train, target_bert_train)"
   ]
  },
  {
   "cell_type": "code",
   "execution_count": 165,
   "id": "bf0a44e4",
   "metadata": {},
   "outputs": [
    {
     "data": {
      "text/plain": [
       "{'max_depth': 15, 'min_samples_leaf': 5}"
      ]
     },
     "execution_count": 165,
     "metadata": {},
     "output_type": "execute_result"
    }
   ],
   "source": [
    "# Вывод параметров лучшей модели по best_score_\n",
    "gs_tree_bert.best_params_"
   ]
  },
  {
   "cell_type": "code",
   "execution_count": 166,
   "id": "74c2a224",
   "metadata": {},
   "outputs": [
    {
     "data": {
      "text/plain": [
       "0.49"
      ]
     },
     "execution_count": 166,
     "metadata": {},
     "output_type": "execute_result"
    }
   ],
   "source": [
    "# Вывод средней оценки кросс-валидации\n",
    "# для модели с лучшими параметрами\n",
    "np.round(gs_tree_bert.best_score_, decimals=2)"
   ]
  },
  {
   "cell_type": "code",
   "execution_count": 167,
   "id": "18ea657f",
   "metadata": {},
   "outputs": [
    {
     "data": {
      "text/plain": [
       "118.83554744720459"
      ]
     },
     "execution_count": 167,
     "metadata": {},
     "output_type": "execute_result"
    }
   ],
   "source": [
    "# Вывод времени обучения модели по\n",
    "# лучшим параметрам\n",
    "gs_tree_bert.refit_time_"
   ]
  },
  {
   "cell_type": "code",
   "execution_count": 169,
   "id": "53fe660f",
   "metadata": {},
   "outputs": [],
   "source": [
    "# Получение предсказаний на тестовой выборке\n",
    "gs_tree_bert_test_predictions = gs_tree_bert.predict(features_bert_test)"
   ]
  },
  {
   "cell_type": "code",
   "execution_count": 170,
   "id": "34faee55",
   "metadata": {},
   "outputs": [
    {
     "data": {
      "text/plain": [
       "0.5"
      ]
     },
     "execution_count": 170,
     "metadata": {},
     "output_type": "execute_result"
    }
   ],
   "source": [
    "# Вывод среднего гармонического F1\n",
    "# на тестовой выборке\n",
    "np.round(f1_score(target_bert_test, gs_tree_bert_test_predictions), decimals=2)"
   ]
  },
  {
   "cell_type": "markdown",
   "id": "d9f769cb",
   "metadata": {},
   "source": [
    "<div class=\"alert alert-block alert-warning\">\n",
    "<span style=\"color:green\"><font size=\"3\" face=\"Arial\"><b>Промежуточные выводы 4.6.3:<b/></span><br>\n",
    "    <br>\n",
    "<span style=\"color:steelblue\"><font size=\"3\" face=\"Courier\"><b>1. Поиск лучших параметров модели занял <code>1</code> час <code>9</code> минут <code>3</code> секунды.<br>\n",
    "    2.1. Чем глубже решающее дерево и чем больше блоков кросс-валидации, тем дольше оно обучается и определяется метрика качества.<br>\n",
    "    2.2. Оптимально решающее дерево <code>DecisionTreeClassifier</code> обучается до глубины дерева <code>15</code> и количества выборок в листе <code>5</code>; количество блоков кросс-валидации <code>3</code>.<br>\n",
    "    2.3. Среднее гармоническое (<code>F1</code>) при этих параметрах составляет:<br>\n",
    "    - на обучающей выборке <code>0.49</code>;<br>\n",
    "    - на тестовой выборке <code>0.5</code>.<br>\n",
    "    3. Время обучения модели на лучших параметрах составило <code>118.83</code> секунды. Скорость обучения низкая.</b></span></div>"
   ]
  },
  {
   "cell_type": "markdown",
   "id": "6c6f9eb5",
   "metadata": {},
   "source": [
    "#### Проверка моделей на адекватность с помощью тестовой выборки"
   ]
  },
  {
   "cell_type": "code",
   "execution_count": 171,
   "id": "d31d5ef8",
   "metadata": {},
   "outputs": [],
   "source": [
    "# Формирование матрицы ошибок cm_lgbc\n",
    "cm_gs_logistic_bert = confusion_matrix(\n",
    "    y_true=target_bert_test,\n",
    "    y_pred=gs_logistic_bert_test_predictions,\n",
    "    labels=gs_logistic_bert.classes_,\n",
    "    normalize='true'\n",
    ")"
   ]
  },
  {
   "cell_type": "code",
   "execution_count": 172,
   "id": "d212c583",
   "metadata": {},
   "outputs": [
    {
     "data": {
      "image/png": "[encoded data removed]",
      "text/plain": [
       "<Figure size 432x288 with 2 Axes>"
      ]
     },
     "metadata": {
      "needs_background": "light"
     },
     "output_type": "display_data"
    }
   ],
   "source": [
    "# Вывод на экран матрицы ошибок cm_lgbc\n",
    "ConfusionMatrixDisplay(\n",
    "    confusion_matrix=cm_gs_logistic_bert,\n",
    "    display_labels=gs_logistic_bert.classes_\n",
    ").plot()\n",
    "plt.show()"
   ]
  },
  {
   "cell_type": "code",
   "execution_count": 174,
   "id": "4433bb4d",
   "metadata": {},
   "outputs": [
    {
     "data": {
      "text/plain": [
       "0    0.897755\n",
       "1    0.102245\n",
       "Name: toxic, dtype: float64"
      ]
     },
     "execution_count": 174,
     "metadata": {},
     "output_type": "execute_result"
    }
   ],
   "source": [
    "# Вывод соотношения целевых признаков\n",
    "# в тестовой выборке\n",
    "target_bert_test.value_counts(normalize=True)"
   ]
  },
  {
   "cell_type": "code",
   "execution_count": 175,
   "id": "e18a9ce0",
   "metadata": {},
   "outputs": [
    {
     "name": "stdout",
     "output_type": "stream",
     "text": [
      "              precision    recall  f1-score   support\n",
      "\n",
      "     class 0       0.96      0.99      0.97     35798\n",
      "     class 1       0.84      0.65      0.73      4077\n",
      "\n",
      "    accuracy                           0.95     39875\n",
      "   macro avg       0.90      0.82      0.85     39875\n",
      "weighted avg       0.95      0.95      0.95     39875\n",
      "\n"
     ]
    }
   ],
   "source": [
    "# Вывод словаря с отчётом по метрикам качества\n",
    "print(classification_report(target_bert_test, gs_logistic_bert_test_predictions, target_names=['class 0', 'class 1']))"
   ]
  },
  {
   "cell_type": "markdown",
   "id": "f696b3eb",
   "metadata": {},
   "source": [
    "<div class=\"alert alert-block alert-warning\">\n",
    "<span style=\"color:green\"><font size=\"3\" face=\"Arial\"><b>Промежуточные выводы 4.6.4:<b/></span><br>\n",
    "    <br>\n",
    "<span style=\"color:steelblue\"><font size=\"3\" face=\"Courier\"><b>1. Метрика качества <code>Recall</code> (полнота) показывает, что модель определила <code>токсичные</code> комментарии (<code>класс 1.0</code>) в объёме <code>65%</code> от общего количества токсичных комментариев.<br>\n",
    "    2. Метрика качества <code>Precision</code> (точность) показывает <code>84%</code> - некоторые комментарии ошибочно отнесены к <code>токсичным</code>, и на самом деле являются <code>позитивными</code>.<br>\n",
    "    3. Качество модели на тестовой выборке немного ухудшилось. Среднее гармоническое (<code>F1</code>) понизилось с <code>0.75</code> до <code>0.73</code>.</b></span></div>"
   ]
  },
  {
   "cell_type": "markdown",
   "id": "2ccbe673",
   "metadata": {},
   "source": [
    "## Визуализация итоговых значений исследования"
   ]
  },
  {
   "cell_type": "code",
   "execution_count": 176,
   "id": "7e086c5d",
   "metadata": {},
   "outputs": [
    {
     "data": {
      "text/html": [
       "<div>\n",
       "<style scoped>\n",
       "    .dataframe tbody tr th:only-of-type {\n",
       "        vertical-align: middle;\n",
       "    }\n",
       "\n",
       "    .dataframe tbody tr th {\n",
       "        vertical-align: top;\n",
       "    }\n",
       "\n",
       "    .dataframe thead th {\n",
       "        text-align: right;\n",
       "    }\n",
       "</style>\n",
       "<table border=\"1\" class=\"dataframe\">\n",
       "  <thead>\n",
       "    <tr style=\"text-align: right;\">\n",
       "      <th></th>\n",
       "      <th>model_name</th>\n",
       "      <th>f1</th>\n",
       "      <th>studing_time_seconds</th>\n",
       "    </tr>\n",
       "  </thead>\n",
       "  <tbody>\n",
       "    <tr>\n",
       "      <th>0</th>\n",
       "      <td>LogisticRegression(SpaCy+TF_IDF)</td>\n",
       "      <td>0.75</td>\n",
       "      <td>5.770</td>\n",
       "    </tr>\n",
       "    <tr>\n",
       "      <th>1</th>\n",
       "      <td>SGDClassifier(SpaCy+TF_IDF)</td>\n",
       "      <td>0.72</td>\n",
       "      <td>3.980</td>\n",
       "    </tr>\n",
       "    <tr>\n",
       "      <th>2</th>\n",
       "      <td>DecisionTreeClassifier(SpaCy+TF_IDF)</td>\n",
       "      <td>0.60</td>\n",
       "      <td>9.870</td>\n",
       "    </tr>\n",
       "    <tr>\n",
       "      <th>3</th>\n",
       "      <td>DummyClassifier(SpaCy+TF_IDF)</td>\n",
       "      <td>0.11</td>\n",
       "      <td>0.002</td>\n",
       "    </tr>\n",
       "    <tr>\n",
       "      <th>4</th>\n",
       "      <td>LogisticRegression(BERT)</td>\n",
       "      <td>0.73</td>\n",
       "      <td>37.640</td>\n",
       "    </tr>\n",
       "    <tr>\n",
       "      <th>5</th>\n",
       "      <td>SGDClassifier(BERT)</td>\n",
       "      <td>0.72</td>\n",
       "      <td>1.710</td>\n",
       "    </tr>\n",
       "    <tr>\n",
       "      <th>6</th>\n",
       "      <td>DecisionTreeClassifier(BERT)</td>\n",
       "      <td>0.50</td>\n",
       "      <td>118.830</td>\n",
       "    </tr>\n",
       "  </tbody>\n",
       "</table>\n",
       "</div>"
      ],
      "text/plain": [
       "                             model_name    f1  studing_time_seconds\n",
       "0      LogisticRegression(SpaCy+TF_IDF)  0.75                 5.770\n",
       "1           SGDClassifier(SpaCy+TF_IDF)  0.72                 3.980\n",
       "2  DecisionTreeClassifier(SpaCy+TF_IDF)  0.60                 9.870\n",
       "3         DummyClassifier(SpaCy+TF_IDF)  0.11                 0.002\n",
       "4              LogisticRegression(BERT)  0.73                37.640\n",
       "5                   SGDClassifier(BERT)  0.72                 1.710\n",
       "6          DecisionTreeClassifier(BERT)  0.50               118.830"
      ]
     },
     "execution_count": 176,
     "metadata": {},
     "output_type": "execute_result"
    }
   ],
   "source": [
    "# Формирование и вывод на экран датафрейма\n",
    "# с итоговыми показателями обучения моделей\n",
    "results = pd.DataFrame(\n",
    "    data=[\n",
    "        ['LogisticRegression(SpaCy+TF_IDF)', .75, 5.77],\n",
    "        ['SGDClassifier(SpaCy+TF_IDF)', .72, 3.98],\n",
    "        ['DecisionTreeClassifier(SpaCy+TF_IDF)', .6, 9.87],\n",
    "        ['DummyClassifier(SpaCy+TF_IDF)', .11, .002],\n",
    "        ['LogisticRegression(BERT)', .73, 37.64],\n",
    "        ['SGDClassifier(BERT)', .72, 1.71],\n",
    "        ['DecisionTreeClassifier(BERT)', .5, 118.83]\n",
    "    ],\n",
    "    columns=['model_name',\n",
    "             'f1',\n",
    "             'studing_time_seconds']\n",
    ")\n",
    "results"
   ]
  },
  {
   "cell_type": "code",
   "execution_count": 177,
   "id": "8d3331b7",
   "metadata": {},
   "outputs": [],
   "source": [
    "# Формирование пользовательской палитры\n",
    "cmap = sns.color_palette('hls', 7)"
   ]
  },
  {
   "cell_type": "code",
   "execution_count": 178,
   "id": "74b01742",
   "metadata": {},
   "outputs": [
    {
     "data": {
      "image/png": "[encoded data removed]",
      "text/plain": [
       "<Figure size 1440x864 with 1 Axes>"
      ]
     },
     "metadata": {},
     "output_type": "display_data"
    }
   ],
   "source": [
    "# Задание параметров и вывод столбчатой диаграммы\n",
    "plt.figure(\n",
    "    figsize=(20, 12),\n",
    "    facecolor='teal'\n",
    ")\n",
    "ax = sns.barplot(\n",
    "    data=results,\n",
    "    x='f1',\n",
    "    y='model_name',\n",
    "    hue='studing_time_seconds',\n",
    "    palette=cmap,\n",
    "    ci=None\n",
    ")\n",
    "for p in ax.patches:\n",
    "    ax.annotate(\n",
    "        '%.2f' % p.get_width(),\n",
    "        xy=(p.get_width(), p.get_y() + p.get_height() / 2),\n",
    "        xytext=(5, 0),\n",
    "        textcoords='offset points',\n",
    "        ha='left',\n",
    "        va='center'\n",
    "    )\n",
    "plt.xlabel('СРЕДНЕЕ ГАРМОНИЧЕСКОЕ F1 НА ОБУЧАЮЩЕЙ ВЫБОРКЕ')\n",
    "plt.ylabel('НАЗВАНИЕ МОДЕЛИ')\n",
    "plt.grid(visible=True)\n",
    "plt.show()"
   ]
  },
  {
   "cell_type": "markdown",
   "id": "3d01ad6a",
   "metadata": {},
   "source": [
    "<div class=\"alert alert-block alert-warning\">\n",
    "<span style=\"color:green\"><font size=\"3\" face=\"Arial\"><b>Промежуточные выводы 5:<b/></span><br>\n",
    "    <br>\n",
    "<span style=\"color:steelblue\"><font size=\"3\" face=\"Courier\"><b>1.1. Из всех <code>6</code> моделей лучшее значение <code>F1</code> показала логистическая регрессия <code>LogisticRegression</code>, обученная на выборке от <code>SpaCy+TF-IDF</code>.<br>\n",
    "    Среднее гармоническое (<code>F1</code>) на тестовой выборке составляет <code>0.75</code>.<br>\n",
    "    1.2. Время обучения модели на лучших параметрах составило <code>5.77</code> секунды. Скорость обучения высокая.<br>\n",
    "    2. Самую низкую скорость обучения показала модель решающего дерева <code>DecisionTreeClassifier</code> - <code>118.83</code> секунды с худшим средним гармоническим <code>F1</code>, равным <code>0.6</code>.</b></span></div>"
   ]
  },
  {
   "cell_type": "markdown",
   "id": "237dee8f",
   "metadata": {},
   "source": [
    "## Общий вывод"
   ]
  },
  {
   "cell_type": "markdown",
   "id": "8852ab31",
   "metadata": {},
   "source": [
    "<div class=\"alert alert-block alert-warning\">\n",
    "    \n",
    "<span style=\"color:steelblue\"><font size=\"3\" face=\"Courier\"><b>В ходе выполнения проекта проанализировал предоставленные данные (комментарии пользователей), на основании которых обучил <code>6</code> моделей с изучением метрик качества и контрольным тестированием, выбрав лучшую модель.<br>\n",
    "    <br>\n",
    "    1.1. Датафрейм <code>df</code> содержит <code>159571</code> строку и <code>2</code> колонки.<br>\n",
    "    1.2. Наименование колонок выполнено с соблюдением змеиного стиля.<br>\n",
    "    <br>\n",
    "    2.1. Колонка <code>text</code> имеет строковый тип данных и содержит комментарии на <code>латинице</code>.<br>\n",
    "    Для обучения модели необходимо извлечь признаки, предварительно приведя слова к начальной форме и очистив текст от мусора, затем преобразовав текстовые данные в числовые.<br>\n",
    "    2.2. Колонка <code>toxic</code> содержит целевые признаки (ответы) с числовыми значениями в виде <code>0</code> и <code>1</code>, представляющие <code>категориальные</code> признаки, следовательно, решается задача <code>бинарной классификации</code>.<br>\n",
    "    2.3. Явные дубликаты не обнаружены.<br>\n",
    "    <br>\n",
    "    3. Выполнил токенизацию, лемматизацию и очистку текста от лишних символов с помощью модели <code>SpaCy</code> и <code>регулярных выражений</code>.<br>\n",
    "    <br>\n",
    "    4.1. Создал два варианта общих, обучающих и тестовых выборок с признаками (вопросами) <code>features</code> и целевыми признаками (ответами) <code>target</code>:<br>\n",
    "    - используя счётчик <code>TF-IDF</code> для предварительно обработанного текста моделью <code>SpaCy</code>;<br>\n",
    "    - используя модель <code>BERT</code>.<br>\n",
    "    4.2. Время создания признаков гораздо меньше при использовании комбинации <code>SpaCy+TF-IDF</code>. Для ускорения процесса формирования признаков моделью <code>BERT</code> использован графический процессор.<br>\n",
    "    <br>\n",
    "    5.1.1. Из всех <code>6</code> моделей лучшее значение <code>F1</code> показала логистическая регрессия <code>LogisticRegression</code>, обученная на выборке от <code>SpaCy+TF-IDF</code>.<br>\n",
    "    Среднее гармоническое (<code>F1</code>) на тестовой выборке составляет <code>0.75</code> против <code>0.73</code> на <code>BERT</code>.<br>\n",
    "    5.1.2. Время обучения модели на лучших параметрах составило <code>5.77</code> секунды. Скорость обучения высокая.<br>\n",
    "    5.1.3. Самую низкую скорость обучения показала модель решающего дерева <code>DecisionTreeClassifier</code> - <code>118.83</code> секунды с худшим средним гармоническим <code>F1</code>, равным <code>0.6</code>.<br>\n",
    "    <br>\n",
    "    5.2. При проверке на адекватность:<br>\n",
    "    5.2.1. На тестовой выборке <code>BERT</code> метрика качества <code>Recall</code> (полнота) показывает, что модель определила <code>токсичные</code> комментарии (<code>класс 1.0</code>) в объёме <code>65%</code> от общего количества токсичных комментариев против <code>85%</code> на выборке <code>SpaCy+TF-IDF</code>.<br>\n",
    "    5.2.2. На тестовой выборке <code>BERT</code> метрика качества <code>Precision</code> (точность) показывает <code>84%</code> - некоторые комментарии ошибочно отнесены к <code>токсичным</code>, и на самом деле являются <code>позитивными</code> против <code>68%</code> на выборке <code>SpaCy+TF-IDF</code>.<br>\n",
    "    5.2.3. Качество модели на тестовой выборке немного ухудшилось. Среднее гармоническое (<code>F1</code>) понизилось с <code>0.75</code> до <code>0.73</code>.<br>\n",
    "    <br>\n",
    "    6. Исходя из результатов обучения моделей и анализа метрик качества, делаю вывод, что лучшей по значению среднего гармонического (<code>F1</code>) является <code>LogisticRegression</code> на тестовой выборке <code>SpaCy+TF-IDF</code>.<br>\n",
    "    В виду большого значения <code>Recall</code> и низкого значения <code>Precision</code>, которые, скорее всего, связаны с борьбой с дисбалансом классов, модератору прибавится работы.<br>\n",
    "    Для более быстрого результата, но с немного меньшим (<code>F1</code>) можно использовать <code>SGDClassifier</code> на выборке <code>BERT</code>, так как наблюдается рост метрики качества.<br>\n",
    "    Модели градиентого бустинга (<code>LGBMClassifier и CatBoostClassifier</code>) дадут более высокое (<code>F1</code>), но подбор лучших параметров займёт много времени и потребует более мощного оборудования.</b></span></div>"
   ]
  }
 ],
 "metadata": {
  "kernelspec": {
   "display_name": "Python 3 (ipykernel)",
   "language": "python",
   "name": "python3"
  },
  "language_info": {
   "codemirror_mode": {
    "name": "ipython",
    "version": 3
   },
   "file_extension": ".py",
   "mimetype": "text/x-python",
   "name": "python",
   "nbconvert_exporter": "python",
   "pygments_lexer": "ipython3",
   "version": "3.10.4"
  },
  "latex_envs": {
   "LaTeX_envs_menu_present": true,
   "autoclose": false,
   "autocomplete": true,
   "bibliofile": "biblio.bib",
   "cite_by": "apalike",
   "current_citInitial": 1,
   "eqLabelWithNumbers": true,
   "eqNumInitial": 1,
   "hotkeys": {
    "equation": "Ctrl-E",
    "itemize": "Ctrl-I"
   },
   "labels_anchors": false,
   "latex_user_defs": false,
   "report_style_numbering": false,
   "user_envs_cfg": false
  },
  "nbTranslate": {
   "displayLangs": [
    "*"
   ],
   "hotkey": "alt-t",
   "langInMainMenu": true,
   "sourceLang": "en",
   "targetLang": "fr",
   "useGoogleTranslate": true
  },
  "toc": {
   "base_numbering": 1,
   "nav_menu": {},
   "number_sections": true,
   "sideBar": true,
   "skip_h1_title": true,
   "title_cell": "Содержание",
   "title_sidebar": "Contents",
   "toc_cell": true,
   "toc_position": {
    "height": "calc(100% - 180px)",
    "left": "10px",
    "top": "150px",
    "width": "384px"
   },
   "toc_section_display": true,
   "toc_window_display": true
  }
 },
 "nbformat": 4,
 "nbformat_minor": 5
}
